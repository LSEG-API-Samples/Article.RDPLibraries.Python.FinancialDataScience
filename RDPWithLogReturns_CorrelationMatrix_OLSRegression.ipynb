{
 "cells": [
  {
   "cell_type": "markdown",
   "metadata": {},
   "source": [
    "The article demonstrates how to use Refinitiv Data Platform (RDP) Library for Python to retrieve historical data. Then, you can use the data for financial data science and plot the graph. In this article, we will show how to calculate some models i.e. log returns, correlation matrix and linear OLS regression according to the data.\n",
    "\n",
    "# Introduction to the RDP Library for Python\n",
    "\n",
    "The RDP Library for Python is one API of [Refinitiv Data Platform Libraries](https://developers.refinitiv.com/refinitiv-data-platform/refinitiv-data-platform-libraries). It is ease-of-use API defining a set of uniform interfaces providing the developer access to data in the Refinitiv Data Platform e.g. historical data, real-time data, news. The API is designed to provide consistent access through multiple access channels that target both Professional Developers and Financial Coders.  Developers can choose to access content from the Desktop (Refinitiv Workspace), directly to the cloud (Refinitiv Data Platform/ERT in Cloud) or via a deployed platform (Elektron). Anyway, historical data which we use in this article is not available on the deployed platform which provides real-time data only. The following diagram presents the different channels of access available to the developer:\n",
    "\n",
    "![RDP](https://raw.githubusercontent.com/Refinitiv-API-Samples/Article.RDPLibraries.Python.FinancialDataScience/master/RDP2_80.png)\n",
    "\n",
    "The figure below is an architecture and layers from the RDP Libraries:\n",
    "\n",
    "![RDP_Layer](https://raw.githubusercontent.com/Refinitiv-API-Samples/Article.RDPLibraries.Python.FinancialDataScience/master/RDPLayer80.png)\n",
    "\n",
    "\n",
    "The RDP Library for Python is on the Function Layer which defines interfaces more suited to scripting languages such as Python. The goal of these interfaces is to allow researchers, data scientists or the casual developer to rapidly prototype solutions within interactive environments such as Jupyter Notebooks.  The Function layer provides simplistic data access in a single function call such as retrieving News Headlines and Stories, retrieving historical intraday, interday data etc.  Because this layer is built on top of the Content layer, it will benefit from convenient abstractions such as preparing data formats suitable for the specific programming language.\n",
    "\n",
    "For more details, please refer to [Refinitiv Data Platform Libraries - An Introduction](https://developers.refinitiv.com/refinitiv-data-platform/refinitiv-data-platform-libraries/docs?content=62446&type=documentation_item)"
   ]
  },
  {
   "cell_type": "markdown",
   "metadata": {},
   "source": [
    "# Prerequisite\n",
    "1. Access Credentials\n",
    "The RDP Library for Python allows the developer a consistent way to access content from multiple supporting access points e.g. Refinitiv Workspace, Refinitiv Data Platform/ERT in Cloud. The access credentials are required to retrieve content from RDP. Please refer to [Access Credentials Quick Start](https://developers.refinitiv.com/refinitiv-data-platform/refinitiv-data-platform-libraries/quick-start) for process and details how to obtain the access credentials for each access point.\n",
    "2. Python environment and package installer.\n",
    "   * [Anaconda](https://www.anaconda.com/distribution/). It is the easiest way to perform Python data science and machine learning on Linux, Windows, and Mac OS X. It consists of Jupyter Notebook and the packages that we will require e.g. numpy, pandas. You can download and install Anaconda from [here.](https://www.anaconda.com/distribution/). \n",
    "   * [cufflinks](https://plotly.com/python/cufflinks/). When you import cufflinks, all Pandas data frames and series objects have a new method attached to them called .iplot(). Hence, the Pandas data frames can plots the graph. To install cufflinks: \n",
    "        1. Open Anaconda Prompt:\n",
    "        2. Run the following command:\n",
    "```\n",
    "pip install cufflinks\n",
    "```\n",
    "3. RDP Library for Python. To install the library:\n",
    "   1. Open Anaconda Prompt:\n",
    "   2. Run the following command:\n",
    "```\n",
    "pip install refinitiv.dataplatform \n",
    "```\n",
    "4. If content is accessed from the Refinitiv Workspace, make sure that you run version 1.8 or greater."
   ]
  },
  {
   "cell_type": "markdown",
   "metadata": {},
   "source": [
    "# Implementation\n",
    "## 1. Importing the libraries"
   ]
  },
  {
   "cell_type": "code",
   "execution_count": 1,
   "metadata": {},
   "outputs": [
    {
     "data": {
      "text/html": [
       "        <script type=\"text/javascript\">\n",
       "        window.PlotlyConfig = {MathJaxConfig: 'local'};\n",
       "        if (window.MathJax) {MathJax.Hub.Config({SVG: {font: \"STIX-Web\"}});}\n",
       "        if (typeof require !== 'undefined') {\n",
       "        require.undef(\"plotly\");\n",
       "        requirejs.config({\n",
       "            paths: {\n",
       "                'plotly': ['https://cdn.plot.ly/plotly-latest.min']\n",
       "            }\n",
       "        });\n",
       "        require(['plotly'], function(Plotly) {\n",
       "            window._Plotly = Plotly;\n",
       "        });\n",
       "        }\n",
       "        </script>\n",
       "        "
      ]
     },
     "metadata": {},
     "output_type": "display_data"
    }
   ],
   "source": [
    "import getpass\n",
    "import refinitiv.dataplatform as rdp  # the RDP library for Python\n",
    "import pandas as pd\n",
    "import numpy as np  \n",
    "import cufflinks as cf  # to plot graph by pandas data frame"
   ]
  },
  {
   "cell_type": "markdown",
   "metadata": {},
   "source": [
    "## 2. Opening a session\n",
    "Depending on the access point your application uses to connect to RDP, it needs to create and open a platform or desktop session. \n",
    "<br><br>\n",
    "To access RDP directly. RDP username, password and the application key are required."
   ]
  },
  {
   "cell_type": "code",
   "execution_count": 2,
   "metadata": {},
   "outputs": [
    {
     "name": "stdout",
     "output_type": "stream",
     "text": [
      "Enter RDP username: pimchaya.wongrukun1@thomsonreuters.com\n",
      "Enter RDP password:········\n",
      "Enter the app key: ········\n"
     ]
    }
   ],
   "source": [
    "RDP_USER = input(\"Enter RDP username: \")\n",
    "RDP_PASSWORD = getpass.getpass('Enter RDP password:')\n",
    "APP_KEY = getpass.getpass(\"Enter the app key: \")"
   ]
  },
  {
   "cell_type": "markdown",
   "metadata": {},
   "source": [
    "We create and open a platform session with application key, RDP username and password to connect to RDP directly."
   ]
  },
  {
   "cell_type": "code",
   "execution_count": 3,
   "metadata": {},
   "outputs": [
    {
     "data": {
      "text/plain": [
       "<refinitiv.dataplatform.core.session.platform_session.PlatformSession at 0x28ca1351e48>"
      ]
     },
     "execution_count": 3,
     "metadata": {},
     "output_type": "execute_result"
    }
   ],
   "source": [
    "rdp.open_platform_session(\n",
    "    APP_KEY, \n",
    "    rdp.GrantPassword(\n",
    "        username = RDP_USER, \n",
    "        password = RDP_PASSWORD\n",
    "    )\n",
    ")"
   ]
  },
  {
   "cell_type": "markdown",
   "metadata": {},
   "source": [
    "Either\n",
    "<br>\n",
    "To access RDP via Refinitiv Workspace. The application key is required."
   ]
  },
  {
   "cell_type": "code",
   "execution_count": null,
   "metadata": {},
   "outputs": [],
   "source": [
    "APP_KEY = getpass.getpass(\"Enter the app key: \")"
   ]
  },
  {
   "cell_type": "markdown",
   "metadata": {},
   "source": [
    "We create and open a desktop session with the application key."
   ]
  },
  {
   "cell_type": "code",
   "execution_count": null,
   "metadata": {},
   "outputs": [],
   "source": [
    "rdp.open_desktop_session(APP_KEY)"
   ]
  },
  {
   "cell_type": "markdown",
   "metadata": {},
   "source": [
    "## 3. Using RDP library for python\n",
    "We call **get_historical_price_summaries(..)** function to access year 2018 daily last price for each RIC. For more information of **get_historical_price_summaries(..)** parameters, please refer to [get_historical_price_summaries Function Reference](#get_historical_price_summaries-Function-Reference)"
   ]
  },
  {
   "cell_type": "code",
   "execution_count": 4,
   "metadata": {},
   "outputs": [
    {
     "data": {
      "text/html": [
       "<div>\n",
       "<style scoped>\n",
       "    .dataframe tbody tr th:only-of-type {\n",
       "        vertical-align: middle;\n",
       "    }\n",
       "\n",
       "    .dataframe tbody tr th {\n",
       "        vertical-align: top;\n",
       "    }\n",
       "\n",
       "    .dataframe thead th {\n",
       "        text-align: right;\n",
       "    }\n",
       "</style>\n",
       "<table border=\"1\" class=\"dataframe\">\n",
       "  <thead>\n",
       "    <tr style=\"text-align: right;\">\n",
       "      <th></th>\n",
       "      <th>.SPX</th>\n",
       "      <th>.VIX</th>\n",
       "      <th>IBM.N</th>\n",
       "      <th>GE</th>\n",
       "    </tr>\n",
       "  </thead>\n",
       "  <tbody>\n",
       "    <tr>\n",
       "      <td>2018-12-28</td>\n",
       "      <td>2485.74</td>\n",
       "      <td>28.34</td>\n",
       "      <td>113.03</td>\n",
       "      <td>7.218995</td>\n",
       "    </tr>\n",
       "    <tr>\n",
       "      <td>2018-12-27</td>\n",
       "      <td>2488.83</td>\n",
       "      <td>29.96</td>\n",
       "      <td>113.78</td>\n",
       "      <td>6.988295</td>\n",
       "    </tr>\n",
       "    <tr>\n",
       "      <td>2018-12-26</td>\n",
       "      <td>2467.70</td>\n",
       "      <td>30.41</td>\n",
       "      <td>111.39</td>\n",
       "      <td>7.103645</td>\n",
       "    </tr>\n",
       "    <tr>\n",
       "      <td>2018-12-24</td>\n",
       "      <td>2351.10</td>\n",
       "      <td>36.07</td>\n",
       "      <td>107.57</td>\n",
       "      <td>6.651857</td>\n",
       "    </tr>\n",
       "    <tr>\n",
       "      <td>2018-12-21</td>\n",
       "      <td>2416.62</td>\n",
       "      <td>30.11</td>\n",
       "      <td>110.94</td>\n",
       "      <td>6.872945</td>\n",
       "    </tr>\n",
       "    <tr>\n",
       "      <td>...</td>\n",
       "      <td>...</td>\n",
       "      <td>...</td>\n",
       "      <td>...</td>\n",
       "      <td>...</td>\n",
       "    </tr>\n",
       "    <tr>\n",
       "      <td>2018-01-08</td>\n",
       "      <td>2747.71</td>\n",
       "      <td>9.52</td>\n",
       "      <td>163.47</td>\n",
       "      <td>17.571668</td>\n",
       "    </tr>\n",
       "    <tr>\n",
       "      <td>2018-01-05</td>\n",
       "      <td>2743.15</td>\n",
       "      <td>9.22</td>\n",
       "      <td>162.49</td>\n",
       "      <td>17.821594</td>\n",
       "    </tr>\n",
       "    <tr>\n",
       "      <td>2018-01-04</td>\n",
       "      <td>2723.99</td>\n",
       "      <td>9.22</td>\n",
       "      <td>161.70</td>\n",
       "      <td>17.811981</td>\n",
       "    </tr>\n",
       "    <tr>\n",
       "      <td>2018-01-03</td>\n",
       "      <td>2713.06</td>\n",
       "      <td>9.15</td>\n",
       "      <td>158.49</td>\n",
       "      <td>17.446706</td>\n",
       "    </tr>\n",
       "    <tr>\n",
       "      <td>2018-01-02</td>\n",
       "      <td>2695.81</td>\n",
       "      <td>9.77</td>\n",
       "      <td>154.25</td>\n",
       "      <td>17.283293</td>\n",
       "    </tr>\n",
       "  </tbody>\n",
       "</table>\n",
       "<p>250 rows × 4 columns</p>\n",
       "</div>"
      ],
      "text/plain": [
       "               .SPX   .VIX   IBM.N         GE\n",
       "2018-12-28  2485.74  28.34  113.03   7.218995\n",
       "2018-12-27  2488.83  29.96  113.78   6.988295\n",
       "2018-12-26  2467.70  30.41  111.39   7.103645\n",
       "2018-12-24  2351.10  36.07  107.57   6.651857\n",
       "2018-12-21  2416.62  30.11  110.94   6.872945\n",
       "...             ...    ...     ...        ...\n",
       "2018-01-08  2747.71   9.52  163.47  17.571668\n",
       "2018-01-05  2743.15   9.22  162.49  17.821594\n",
       "2018-01-04  2723.99   9.22  161.70  17.811981\n",
       "2018-01-03  2713.06   9.15  158.49  17.446706\n",
       "2018-01-02  2695.81   9.77  154.25  17.283293\n",
       "\n",
       "[250 rows x 4 columns]"
      ]
     },
     "execution_count": 4,
     "metadata": {},
     "output_type": "execute_result"
    }
   ],
   "source": [
    "RICs = [\".SPX\",\".VIX\",\"IBM.N\",\"GE\"] # the list of RICs\n",
    "s_date = \"2018-01-02\" # start date\n",
    "e_date = \"2018-12-30\" # end date\n",
    "#TBD - remove later pd.set_option('display.max_columns', None)\n",
    "lastPriceField = \"TRDPRC_1\" # the last price field of these RICs\n",
    "data = pd.DataFrame() # define data is a DataFrame\n",
    "for aRIC in RICs: # request daily last price for each RIC\n",
    "    df= rdp.get_historical_price_summaries(aRIC,start=s_date,end=e_date,interval = rdp.Intervals.DAILY,fields=[lastPriceField])\n",
    "    if df is None: # check if there is any error\n",
    "        print(\"Error for RIC \" + aRIC + \":\" + str(rdp.get_last_status()['error'])) # print the error\n",
    "    else:\n",
    "        df[lastPriceField] = df[lastPriceField].astype(float) # convert string type to float\n",
    "        data[aRIC] = df[lastPriceField] # create the RIC's last price column\n",
    "data # display daily last price of the RICs"
   ]
  },
  {
   "cell_type": "markdown",
   "metadata": {},
   "source": [
    "Next, we delete rows with NaN values and sort prices according to the *DATE* in ascending order."
   ]
  },
  {
   "cell_type": "code",
   "execution_count": 5,
   "metadata": {},
   "outputs": [
    {
     "data": {
      "text/html": [
       "<div>\n",
       "<style scoped>\n",
       "    .dataframe tbody tr th:only-of-type {\n",
       "        vertical-align: middle;\n",
       "    }\n",
       "\n",
       "    .dataframe tbody tr th {\n",
       "        vertical-align: top;\n",
       "    }\n",
       "\n",
       "    .dataframe thead th {\n",
       "        text-align: right;\n",
       "    }\n",
       "</style>\n",
       "<table border=\"1\" class=\"dataframe\">\n",
       "  <thead>\n",
       "    <tr style=\"text-align: right;\">\n",
       "      <th></th>\n",
       "      <th>.SPX</th>\n",
       "      <th>.VIX</th>\n",
       "      <th>IBM.N</th>\n",
       "      <th>GE</th>\n",
       "    </tr>\n",
       "    <tr>\n",
       "      <th>DATE</th>\n",
       "      <th></th>\n",
       "      <th></th>\n",
       "      <th></th>\n",
       "      <th></th>\n",
       "    </tr>\n",
       "  </thead>\n",
       "  <tbody>\n",
       "    <tr>\n",
       "      <td>2018-01-02</td>\n",
       "      <td>2695.81</td>\n",
       "      <td>9.77</td>\n",
       "      <td>154.25</td>\n",
       "      <td>17.283293</td>\n",
       "    </tr>\n",
       "    <tr>\n",
       "      <td>2018-01-03</td>\n",
       "      <td>2713.06</td>\n",
       "      <td>9.15</td>\n",
       "      <td>158.49</td>\n",
       "      <td>17.446706</td>\n",
       "    </tr>\n",
       "    <tr>\n",
       "      <td>2018-01-04</td>\n",
       "      <td>2723.99</td>\n",
       "      <td>9.22</td>\n",
       "      <td>161.70</td>\n",
       "      <td>17.811981</td>\n",
       "    </tr>\n",
       "    <tr>\n",
       "      <td>2018-01-05</td>\n",
       "      <td>2743.15</td>\n",
       "      <td>9.22</td>\n",
       "      <td>162.49</td>\n",
       "      <td>17.821594</td>\n",
       "    </tr>\n",
       "    <tr>\n",
       "      <td>2018-01-08</td>\n",
       "      <td>2747.71</td>\n",
       "      <td>9.52</td>\n",
       "      <td>163.47</td>\n",
       "      <td>17.571668</td>\n",
       "    </tr>\n",
       "    <tr>\n",
       "      <td>...</td>\n",
       "      <td>...</td>\n",
       "      <td>...</td>\n",
       "      <td>...</td>\n",
       "      <td>...</td>\n",
       "    </tr>\n",
       "    <tr>\n",
       "      <td>2018-12-21</td>\n",
       "      <td>2416.62</td>\n",
       "      <td>30.11</td>\n",
       "      <td>110.94</td>\n",
       "      <td>6.872945</td>\n",
       "    </tr>\n",
       "    <tr>\n",
       "      <td>2018-12-24</td>\n",
       "      <td>2351.10</td>\n",
       "      <td>36.07</td>\n",
       "      <td>107.57</td>\n",
       "      <td>6.651857</td>\n",
       "    </tr>\n",
       "    <tr>\n",
       "      <td>2018-12-26</td>\n",
       "      <td>2467.70</td>\n",
       "      <td>30.41</td>\n",
       "      <td>111.39</td>\n",
       "      <td>7.103645</td>\n",
       "    </tr>\n",
       "    <tr>\n",
       "      <td>2018-12-27</td>\n",
       "      <td>2488.83</td>\n",
       "      <td>29.96</td>\n",
       "      <td>113.78</td>\n",
       "      <td>6.988295</td>\n",
       "    </tr>\n",
       "    <tr>\n",
       "      <td>2018-12-28</td>\n",
       "      <td>2485.74</td>\n",
       "      <td>28.34</td>\n",
       "      <td>113.03</td>\n",
       "      <td>7.218995</td>\n",
       "    </tr>\n",
       "  </tbody>\n",
       "</table>\n",
       "<p>250 rows × 4 columns</p>\n",
       "</div>"
      ],
      "text/plain": [
       "               .SPX   .VIX   IBM.N         GE\n",
       "DATE                                         \n",
       "2018-01-02  2695.81   9.77  154.25  17.283293\n",
       "2018-01-03  2713.06   9.15  158.49  17.446706\n",
       "2018-01-04  2723.99   9.22  161.70  17.811981\n",
       "2018-01-05  2743.15   9.22  162.49  17.821594\n",
       "2018-01-08  2747.71   9.52  163.47  17.571668\n",
       "...             ...    ...     ...        ...\n",
       "2018-12-21  2416.62  30.11  110.94   6.872945\n",
       "2018-12-24  2351.10  36.07  107.57   6.651857\n",
       "2018-12-26  2467.70  30.41  111.39   7.103645\n",
       "2018-12-27  2488.83  29.96  113.78   6.988295\n",
       "2018-12-28  2485.74  28.34  113.03   7.218995\n",
       "\n",
       "[250 rows x 4 columns]"
      ]
     },
     "execution_count": 5,
     "metadata": {},
     "output_type": "execute_result"
    }
   ],
   "source": [
    "data.dropna(inplace=True)  # deletes rows with NaN values\n",
    "data.index.names = ['DATE'] # set index name to be 'DATE'\n",
    "data.sort_values(by=['DATE'], inplace=True, ascending=True) # sort prices according to the 'DATE' column in ascending order\n",
    "data #display sorted prices"
   ]
  },
  {
   "cell_type": "markdown",
   "metadata": {},
   "source": [
    "## 4.Calculating Some Financial Data Science models\n",
    "### Log Returns[1]\n",
    "Log Returns is the methods for calculating return and it assumes returns are compounded continuously rather than across sub-periods. It is calculated by taking the natural log of the ending value divided by the beginning value. (Using the LN on most calculators, or the =LN() function in Excel)"
   ]
  },
  {
   "cell_type": "code",
   "execution_count": 6,
   "metadata": {},
   "outputs": [
    {
     "data": {
      "text/html": [
       "<div>\n",
       "<style scoped>\n",
       "    .dataframe tbody tr th:only-of-type {\n",
       "        vertical-align: middle;\n",
       "    }\n",
       "\n",
       "    .dataframe tbody tr th {\n",
       "        vertical-align: top;\n",
       "    }\n",
       "\n",
       "    .dataframe thead th {\n",
       "        text-align: right;\n",
       "    }\n",
       "</style>\n",
       "<table border=\"1\" class=\"dataframe\">\n",
       "  <thead>\n",
       "    <tr style=\"text-align: right;\">\n",
       "      <th></th>\n",
       "      <th>.SPX</th>\n",
       "      <th>.VIX</th>\n",
       "      <th>IBM.N</th>\n",
       "      <th>GE</th>\n",
       "    </tr>\n",
       "    <tr>\n",
       "      <th>DATE</th>\n",
       "      <th></th>\n",
       "      <th></th>\n",
       "      <th></th>\n",
       "      <th></th>\n",
       "    </tr>\n",
       "  </thead>\n",
       "  <tbody>\n",
       "    <tr>\n",
       "      <td>2018-01-02</td>\n",
       "      <td>NaN</td>\n",
       "      <td>NaN</td>\n",
       "      <td>NaN</td>\n",
       "      <td>NaN</td>\n",
       "    </tr>\n",
       "    <tr>\n",
       "      <td>2018-01-03</td>\n",
       "      <td>0.006378</td>\n",
       "      <td>-0.065563</td>\n",
       "      <td>0.027117</td>\n",
       "      <td>0.009411</td>\n",
       "    </tr>\n",
       "    <tr>\n",
       "      <td>2018-01-04</td>\n",
       "      <td>0.004021</td>\n",
       "      <td>0.007621</td>\n",
       "      <td>0.020051</td>\n",
       "      <td>0.020720</td>\n",
       "    </tr>\n",
       "    <tr>\n",
       "      <td>2018-01-05</td>\n",
       "      <td>0.007009</td>\n",
       "      <td>0.000000</td>\n",
       "      <td>0.004874</td>\n",
       "      <td>0.000540</td>\n",
       "    </tr>\n",
       "    <tr>\n",
       "      <td>2018-01-08</td>\n",
       "      <td>0.001661</td>\n",
       "      <td>0.032020</td>\n",
       "      <td>0.006013</td>\n",
       "      <td>-0.014123</td>\n",
       "    </tr>\n",
       "    <tr>\n",
       "      <td>...</td>\n",
       "      <td>...</td>\n",
       "      <td>...</td>\n",
       "      <td>...</td>\n",
       "      <td>...</td>\n",
       "    </tr>\n",
       "    <tr>\n",
       "      <td>2018-12-21</td>\n",
       "      <td>-0.020803</td>\n",
       "      <td>0.059173</td>\n",
       "      <td>-0.018575</td>\n",
       "      <td>-0.039758</td>\n",
       "    </tr>\n",
       "    <tr>\n",
       "      <td>2018-12-24</td>\n",
       "      <td>-0.027487</td>\n",
       "      <td>0.180604</td>\n",
       "      <td>-0.030848</td>\n",
       "      <td>-0.032697</td>\n",
       "    </tr>\n",
       "    <tr>\n",
       "      <td>2018-12-26</td>\n",
       "      <td>0.048403</td>\n",
       "      <td>-0.170690</td>\n",
       "      <td>0.034896</td>\n",
       "      <td>0.065712</td>\n",
       "    </tr>\n",
       "    <tr>\n",
       "      <td>2018-12-27</td>\n",
       "      <td>0.008526</td>\n",
       "      <td>-0.014908</td>\n",
       "      <td>0.021229</td>\n",
       "      <td>-0.016371</td>\n",
       "    </tr>\n",
       "    <tr>\n",
       "      <td>2018-12-28</td>\n",
       "      <td>-0.001242</td>\n",
       "      <td>-0.055589</td>\n",
       "      <td>-0.006613</td>\n",
       "      <td>0.032479</td>\n",
       "    </tr>\n",
       "  </tbody>\n",
       "</table>\n",
       "<p>250 rows × 4 columns</p>\n",
       "</div>"
      ],
      "text/plain": [
       "                .SPX      .VIX     IBM.N        GE\n",
       "DATE                                              \n",
       "2018-01-02       NaN       NaN       NaN       NaN\n",
       "2018-01-03  0.006378 -0.065563  0.027117  0.009411\n",
       "2018-01-04  0.004021  0.007621  0.020051  0.020720\n",
       "2018-01-05  0.007009  0.000000  0.004874  0.000540\n",
       "2018-01-08  0.001661  0.032020  0.006013 -0.014123\n",
       "...              ...       ...       ...       ...\n",
       "2018-12-21 -0.020803  0.059173 -0.018575 -0.039758\n",
       "2018-12-24 -0.027487  0.180604 -0.030848 -0.032697\n",
       "2018-12-26  0.048403 -0.170690  0.034896  0.065712\n",
       "2018-12-27  0.008526 -0.014908  0.021229 -0.016371\n",
       "2018-12-28 -0.001242 -0.055589 -0.006613  0.032479\n",
       "\n",
       "[250 rows x 4 columns]"
      ]
     },
     "execution_count": 6,
     "metadata": {},
     "output_type": "execute_result"
    }
   ],
   "source": [
    "logReturns = np.log(data / data.shift(1)) # calculate the Log Returns\n",
    "logReturns # display the result"
   ]
  },
  {
   "cell_type": "markdown",
   "metadata": {},
   "source": [
    "To plot any graphs using Cufflinks, set the plotting mode to offline."
   ]
  },
  {
   "cell_type": "code",
   "execution_count": 7,
   "metadata": {},
   "outputs": [
    {
     "data": {
      "text/html": [
       "        <script type=\"text/javascript\">\n",
       "        window.PlotlyConfig = {MathJaxConfig: 'local'};\n",
       "        if (window.MathJax) {MathJax.Hub.Config({SVG: {font: \"STIX-Web\"}});}\n",
       "        if (typeof require !== 'undefined') {\n",
       "        require.undef(\"plotly\");\n",
       "        requirejs.config({\n",
       "            paths: {\n",
       "                'plotly': ['https://cdn.plot.ly/plotly-latest.min']\n",
       "            }\n",
       "        });\n",
       "        require(['plotly'], function(Plotly) {\n",
       "            window._Plotly = Plotly;\n",
       "        });\n",
       "        }\n",
       "        </script>\n",
       "        "
      ]
     },
     "metadata": {},
     "output_type": "display_data"
    }
   ],
   "source": [
    "cf.set_config_file(offline=True)"
   ]
  },
  {
   "cell_type": "markdown",
   "metadata": {},
   "source": [
    "Then, we plot the Log Return line graph of each RIC."
   ]
  },
  {
   "cell_type": "code",
   "execution_count": 8,
   "metadata": {},
   "outputs": [
    {
     "data": {
      "application/vnd.plotly.v1+json": {
       "config": {
        "linkText": "Export to plot.ly",
        "plotlyServerURL": "https://plot.ly",
        "showLink": true
       },
       "data": [
        {
         "line": {
          "color": "rgba(255, 153, 51, 1.0)",
          "dash": "solid",
          "shape": "linear",
          "width": 1.3
         },
         "mode": "lines",
         "name": ".SPX",
         "text": "",
         "type": "scatter",
         "x": [
          "2018-01-02",
          "2018-01-03",
          "2018-01-04",
          "2018-01-05",
          "2018-01-08",
          "2018-01-09",
          "2018-01-10",
          "2018-01-11",
          "2018-01-12",
          "2018-01-16",
          "2018-01-17",
          "2018-01-18",
          "2018-01-19",
          "2018-01-22",
          "2018-01-23",
          "2018-01-24",
          "2018-01-25",
          "2018-01-26",
          "2018-01-29",
          "2018-01-30",
          "2018-01-31",
          "2018-02-01",
          "2018-02-02",
          "2018-02-05",
          "2018-02-06",
          "2018-02-07",
          "2018-02-08",
          "2018-02-09",
          "2018-02-12",
          "2018-02-13",
          "2018-02-14",
          "2018-02-15",
          "2018-02-16",
          "2018-02-20",
          "2018-02-21",
          "2018-02-22",
          "2018-02-23",
          "2018-02-26",
          "2018-02-27",
          "2018-02-28",
          "2018-03-01",
          "2018-03-02",
          "2018-03-05",
          "2018-03-06",
          "2018-03-07",
          "2018-03-08",
          "2018-03-09",
          "2018-03-12",
          "2018-03-13",
          "2018-03-14",
          "2018-03-15",
          "2018-03-16",
          "2018-03-19",
          "2018-03-20",
          "2018-03-21",
          "2018-03-22",
          "2018-03-23",
          "2018-03-26",
          "2018-03-27",
          "2018-03-28",
          "2018-03-29",
          "2018-04-02",
          "2018-04-03",
          "2018-04-04",
          "2018-04-05",
          "2018-04-06",
          "2018-04-09",
          "2018-04-10",
          "2018-04-11",
          "2018-04-12",
          "2018-04-13",
          "2018-04-16",
          "2018-04-17",
          "2018-04-18",
          "2018-04-19",
          "2018-04-20",
          "2018-04-23",
          "2018-04-24",
          "2018-04-25",
          "2018-04-26",
          "2018-04-27",
          "2018-04-30",
          "2018-05-01",
          "2018-05-02",
          "2018-05-03",
          "2018-05-04",
          "2018-05-07",
          "2018-05-08",
          "2018-05-09",
          "2018-05-10",
          "2018-05-11",
          "2018-05-14",
          "2018-05-15",
          "2018-05-16",
          "2018-05-17",
          "2018-05-18",
          "2018-05-21",
          "2018-05-22",
          "2018-05-23",
          "2018-05-24",
          "2018-05-25",
          "2018-05-29",
          "2018-05-30",
          "2018-05-31",
          "2018-06-01",
          "2018-06-04",
          "2018-06-05",
          "2018-06-06",
          "2018-06-07",
          "2018-06-08",
          "2018-06-11",
          "2018-06-12",
          "2018-06-13",
          "2018-06-14",
          "2018-06-15",
          "2018-06-18",
          "2018-06-19",
          "2018-06-20",
          "2018-06-21",
          "2018-06-22",
          "2018-06-25",
          "2018-06-26",
          "2018-06-27",
          "2018-06-28",
          "2018-06-29",
          "2018-07-02",
          "2018-07-03",
          "2018-07-05",
          "2018-07-06",
          "2018-07-09",
          "2018-07-10",
          "2018-07-11",
          "2018-07-12",
          "2018-07-13",
          "2018-07-16",
          "2018-07-17",
          "2018-07-18",
          "2018-07-19",
          "2018-07-20",
          "2018-07-23",
          "2018-07-24",
          "2018-07-25",
          "2018-07-26",
          "2018-07-27",
          "2018-07-30",
          "2018-07-31",
          "2018-08-01",
          "2018-08-02",
          "2018-08-03",
          "2018-08-06",
          "2018-08-07",
          "2018-08-08",
          "2018-08-09",
          "2018-08-10",
          "2018-08-13",
          "2018-08-14",
          "2018-08-15",
          "2018-08-16",
          "2018-08-17",
          "2018-08-20",
          "2018-08-21",
          "2018-08-22",
          "2018-08-23",
          "2018-08-24",
          "2018-08-27",
          "2018-08-28",
          "2018-08-29",
          "2018-08-30",
          "2018-08-31",
          "2018-09-04",
          "2018-09-05",
          "2018-09-06",
          "2018-09-07",
          "2018-09-10",
          "2018-09-11",
          "2018-09-12",
          "2018-09-13",
          "2018-09-14",
          "2018-09-17",
          "2018-09-18",
          "2018-09-19",
          "2018-09-20",
          "2018-09-21",
          "2018-09-24",
          "2018-09-25",
          "2018-09-26",
          "2018-09-27",
          "2018-09-28",
          "2018-10-01",
          "2018-10-02",
          "2018-10-03",
          "2018-10-04",
          "2018-10-05",
          "2018-10-08",
          "2018-10-09",
          "2018-10-10",
          "2018-10-11",
          "2018-10-12",
          "2018-10-15",
          "2018-10-16",
          "2018-10-17",
          "2018-10-18",
          "2018-10-19",
          "2018-10-22",
          "2018-10-23",
          "2018-10-24",
          "2018-10-25",
          "2018-10-26",
          "2018-10-29",
          "2018-10-30",
          "2018-10-31",
          "2018-11-01",
          "2018-11-02",
          "2018-11-05",
          "2018-11-06",
          "2018-11-07",
          "2018-11-08",
          "2018-11-09",
          "2018-11-12",
          "2018-11-13",
          "2018-11-14",
          "2018-11-15",
          "2018-11-16",
          "2018-11-19",
          "2018-11-20",
          "2018-11-21",
          "2018-11-23",
          "2018-11-26",
          "2018-11-27",
          "2018-11-28",
          "2018-11-29",
          "2018-11-30",
          "2018-12-03",
          "2018-12-04",
          "2018-12-06",
          "2018-12-07",
          "2018-12-10",
          "2018-12-11",
          "2018-12-12",
          "2018-12-13",
          "2018-12-14",
          "2018-12-17",
          "2018-12-18",
          "2018-12-19",
          "2018-12-20",
          "2018-12-21",
          "2018-12-24",
          "2018-12-26",
          "2018-12-27",
          "2018-12-28"
         ],
         "xaxis": "x",
         "y": [
          "",
          0.006378433382130943,
          0.004020568037294825,
          0.007009177903581761,
          0.0016609423836402202,
          0.0013020551030292105,
          -0.001112824506788398,
          0.007008997490407507,
          0.006726951075669084,
          -0.003530688627795424,
          0.00937095716052361,
          -0.0016176870607860264,
          0.004375641082824612,
          0.008034392098314767,
          0.002172035902672236,
          -0.0005601875894072049,
          0.0006024531651585847,
          0.011771597314994501,
          -0.006754705760662041,
          -0.010958608318405548,
          0.0004888208887610065,
          -0.0006482706810167338,
          -0.021436645011316622,
          -0.04184256124518214,
          0.017290591086863923,
          -0.0050141453066676256,
          -0.038259085020510716,
          0.0148256265596341,
          0.013818684318076369,
          0.002609543983683735,
          0.013313461230303598,
          0.011996836229864197,
          0.0003733924947562478,
          -0.005858531424820395,
          -0.005511689809002755,
          0.0009731208529212048,
          0.01590124602558474,
          0.011688421260557077,
          -0.012788286983879777,
          -0.011157824195769547,
          -0.013413907890662753,
          0.0050587563087125835,
          0.01097163914490453,
          0.0026353184422145334,
          -0.0004839667770615435,
          0.004453176811945213,
          0.01722951151316988,
          -0.00127477982427725,
          -0.006383924585162931,
          -0.0057409415327189526,
          -0.0007822719394124938,
          0.0017020228353889482,
          -0.014306008195445936,
          0.0014807014304161871,
          -0.0018456884848011977,
          -0.02548489001614073,
          -0.021189833248420765,
          0.026795026112632157,
          -0.017427312133270447,
          -0.0029208740450646013,
          0.013675733119263357,
          -0.022590592580476767,
          0.012535934603553565,
          0.011500105825438875,
          0.006839366240059898,
          -0.02216402280202734,
          0.0033310173527511624,
          0.016588521255114928,
          -0.005540619488903829,
          0.008216880187239336,
          -0.002890821874502216,
          0.008076322362107757,
          0.010605144127271393,
          0.0008310203745819628,
          -0.005742577941307845,
          -0.008573180471045841,
          5.617525182039568e-05,
          -0.013470895618345118,
          0.0018354334726678417,
          0.010380129158368218,
          0.0011130162199066156,
          -0.008221243907144358,
          0.0025458022179105093,
          -0.007231903167589713,
          -0.0022562397993906034,
          0.012729831933829549,
          0.003451995069662222,
          -0.00026569121971978244,
          0.009635604216150478,
          0.009327000979503942,
          0.0017061751151760478,
          0.0008831316934816184,
          -0.006865679959648896,
          0.0040523361876279775,
          -0.0008562100552650634,
          -0.002635697537311794,
          0.007359590175901056,
          -0.0031406635129493403,
          0.003243109408800207,
          -0.0020252522464269634,
          -0.0023600281824850003,
          -0.011631583739263906,
          0.012615911702766044,
          -0.006903336878120701,
          0.01079076407564197,
          0.004469595089461682,
          0.0007023711683356189,
          0.00853088317566569,
          -0.0007144506972109346,
          0.0031210606659344705,
          0.0010681475490628696,
          0.0017418322369011133,
          -0.004034177279463059,
          0.0024684618120292836,
          -0.0010175922059649557,
          -0.002128422800086842,
          -0.004031549765965106,
          0.0017106973363122029,
          -0.006365707692292354,
          0.0018602493447316098,
          -0.013819790665146471,
          0.0022021541473088704,
          -0.008641521386801524,
          0.0061596150392206625,
          0.0007580943491275485,
          0.003063318269638806,
          -0.004959632808581322,
          0.008583806694084265,
          0.008445532084704199,
          0.008784343615273702,
          0.0034671897996766143,
          -0.0071194619539736125,
          0.008710984661528809,
          0.0010786485794734959,
          -0.001028619276585639,
          0.003965782536343808,
          0.002158157835582412,
          -0.003960781746415428,
          -0.0009489291369751974,
          0.001836397184893872,
          0.0047695465529177935,
          0.009060376426541358,
          -0.003036858079784692,
          -0.006583879546122514,
          -0.005770799909402402,
          0.004872858193980633,
          -0.0010409173801414606,
          0.004914398127409042,
          0.0046333873211502116,
          0.0035320512931104955,
          0.0028201845679715165,
          -0.0002624143888119613,
          -0.0014427591414417902,
          -0.007139295225622618,
          -0.004014003101377949,
          0.006368919546678298,
          -0.007631263915857995,
          0.007888276759113128,
          0.0033176268652185398,
          0.002425016695182756,
          0.002066430689121701,
          -0.00039826858501759574,
          -0.0016926632005294403,
          0.006179719474590772,
          0.007641124395724228,
          0.00026923196567344023,
          0.005685235804660677,
          -0.004440118245784964,
          0.0001344213421754606,
          -0.0016556752036839839,
          -0.0028071067225424913,
          -0.003658974194848502,
          -0.002215757124654065,
          0.0018960451407243311,
          0.003732862156378708,
          0.00035659819551439804,
          0.005268348654683924,
          0.0002754270858635385,
          -0.005585314617480499,
          0.005354649595431229,
          0.0012525249991826694,
          0.007809997394075651,
          -0.0003685742701806347,
          -0.0035219491222055663,
          -0.0013059284486635185,
          -0.0032946695026326335,
          0.0027594661468949336,
          -6.863441535533463e-06,
          0.0036344555873070567,
          -0.0003967154747124362,
          0.0007112400153475563,
          -0.008203069104388573,
          -0.005543301253226848,
          -0.0003951473188331464,
          -0.0014189640475695234,
          -0.033416333989061714,
          -0.020787647463574973,
          0.014106320709680948,
          -0.005922538841602318,
          0.021267870038650147,
          -0.00025270816079308065,
          -0.014496515061645461,
          -0.00036123513910236955,
          -0.004308743988789517,
          -0.005527097324213361,
          -0.03135083200711912,
          0.01845372947933219,
          -0.017479090705260276,
          -0.00658123033377329,
          0.015545366655688744,
          0.010792838671999127,
          0.010502452503904892,
          -0.006336699810107039,
          0.005584693817028391,
          0.006239826862749526,
          0.02098709901578878,
          -0.002512134997959903,
          -0.00924156159302086,
          -0.0198981367275931,
          -0.0014830044565126614,
          -0.007596242848709706,
          0.010538079545354202,
          0.002220812515123669,
          -0.016783146839093228,
          -0.018317962154308476,
          0.003038654446444182,
          -0.006576467765855121,
          0.015413016366781477,
          0.003256395228060269,
          0.02271400793888423,
          -0.0022001085212538245,
          0.008152204233588811,
          0.010881931492828126,
          -0.03290020854234479,
          -0.0015233481015795478,
          -0.023596383238556007,
          0.0017606440003852311,
          -0.0003564318930519869,
          0.005404856335625491,
          -0.0001999392643992198,
          -0.019271178750727643,
          -0.020992280594401735,
          8.640835809843542e-05,
          -0.015515478113209684,
          -0.01589779340309688,
          -0.020803200653483116,
          -0.02748656592240741,
          0.04840323899410944,
          0.008526177791668824,
          -0.001242318591321125
         ],
         "yaxis": "y"
        },
        {
         "line": {
          "color": "rgba(55, 128, 191, 1.0)",
          "dash": "solid",
          "shape": "linear",
          "width": 1.3
         },
         "mode": "lines",
         "name": ".VIX",
         "text": "",
         "type": "scatter",
         "x": [
          "2018-01-02",
          "2018-01-03",
          "2018-01-04",
          "2018-01-05",
          "2018-01-08",
          "2018-01-09",
          "2018-01-10",
          "2018-01-11",
          "2018-01-12",
          "2018-01-16",
          "2018-01-17",
          "2018-01-18",
          "2018-01-19",
          "2018-01-22",
          "2018-01-23",
          "2018-01-24",
          "2018-01-25",
          "2018-01-26",
          "2018-01-29",
          "2018-01-30",
          "2018-01-31",
          "2018-02-01",
          "2018-02-02",
          "2018-02-05",
          "2018-02-06",
          "2018-02-07",
          "2018-02-08",
          "2018-02-09",
          "2018-02-12",
          "2018-02-13",
          "2018-02-14",
          "2018-02-15",
          "2018-02-16",
          "2018-02-20",
          "2018-02-21",
          "2018-02-22",
          "2018-02-23",
          "2018-02-26",
          "2018-02-27",
          "2018-02-28",
          "2018-03-01",
          "2018-03-02",
          "2018-03-05",
          "2018-03-06",
          "2018-03-07",
          "2018-03-08",
          "2018-03-09",
          "2018-03-12",
          "2018-03-13",
          "2018-03-14",
          "2018-03-15",
          "2018-03-16",
          "2018-03-19",
          "2018-03-20",
          "2018-03-21",
          "2018-03-22",
          "2018-03-23",
          "2018-03-26",
          "2018-03-27",
          "2018-03-28",
          "2018-03-29",
          "2018-04-02",
          "2018-04-03",
          "2018-04-04",
          "2018-04-05",
          "2018-04-06",
          "2018-04-09",
          "2018-04-10",
          "2018-04-11",
          "2018-04-12",
          "2018-04-13",
          "2018-04-16",
          "2018-04-17",
          "2018-04-18",
          "2018-04-19",
          "2018-04-20",
          "2018-04-23",
          "2018-04-24",
          "2018-04-25",
          "2018-04-26",
          "2018-04-27",
          "2018-04-30",
          "2018-05-01",
          "2018-05-02",
          "2018-05-03",
          "2018-05-04",
          "2018-05-07",
          "2018-05-08",
          "2018-05-09",
          "2018-05-10",
          "2018-05-11",
          "2018-05-14",
          "2018-05-15",
          "2018-05-16",
          "2018-05-17",
          "2018-05-18",
          "2018-05-21",
          "2018-05-22",
          "2018-05-23",
          "2018-05-24",
          "2018-05-25",
          "2018-05-29",
          "2018-05-30",
          "2018-05-31",
          "2018-06-01",
          "2018-06-04",
          "2018-06-05",
          "2018-06-06",
          "2018-06-07",
          "2018-06-08",
          "2018-06-11",
          "2018-06-12",
          "2018-06-13",
          "2018-06-14",
          "2018-06-15",
          "2018-06-18",
          "2018-06-19",
          "2018-06-20",
          "2018-06-21",
          "2018-06-22",
          "2018-06-25",
          "2018-06-26",
          "2018-06-27",
          "2018-06-28",
          "2018-06-29",
          "2018-07-02",
          "2018-07-03",
          "2018-07-05",
          "2018-07-06",
          "2018-07-09",
          "2018-07-10",
          "2018-07-11",
          "2018-07-12",
          "2018-07-13",
          "2018-07-16",
          "2018-07-17",
          "2018-07-18",
          "2018-07-19",
          "2018-07-20",
          "2018-07-23",
          "2018-07-24",
          "2018-07-25",
          "2018-07-26",
          "2018-07-27",
          "2018-07-30",
          "2018-07-31",
          "2018-08-01",
          "2018-08-02",
          "2018-08-03",
          "2018-08-06",
          "2018-08-07",
          "2018-08-08",
          "2018-08-09",
          "2018-08-10",
          "2018-08-13",
          "2018-08-14",
          "2018-08-15",
          "2018-08-16",
          "2018-08-17",
          "2018-08-20",
          "2018-08-21",
          "2018-08-22",
          "2018-08-23",
          "2018-08-24",
          "2018-08-27",
          "2018-08-28",
          "2018-08-29",
          "2018-08-30",
          "2018-08-31",
          "2018-09-04",
          "2018-09-05",
          "2018-09-06",
          "2018-09-07",
          "2018-09-10",
          "2018-09-11",
          "2018-09-12",
          "2018-09-13",
          "2018-09-14",
          "2018-09-17",
          "2018-09-18",
          "2018-09-19",
          "2018-09-20",
          "2018-09-21",
          "2018-09-24",
          "2018-09-25",
          "2018-09-26",
          "2018-09-27",
          "2018-09-28",
          "2018-10-01",
          "2018-10-02",
          "2018-10-03",
          "2018-10-04",
          "2018-10-05",
          "2018-10-08",
          "2018-10-09",
          "2018-10-10",
          "2018-10-11",
          "2018-10-12",
          "2018-10-15",
          "2018-10-16",
          "2018-10-17",
          "2018-10-18",
          "2018-10-19",
          "2018-10-22",
          "2018-10-23",
          "2018-10-24",
          "2018-10-25",
          "2018-10-26",
          "2018-10-29",
          "2018-10-30",
          "2018-10-31",
          "2018-11-01",
          "2018-11-02",
          "2018-11-05",
          "2018-11-06",
          "2018-11-07",
          "2018-11-08",
          "2018-11-09",
          "2018-11-12",
          "2018-11-13",
          "2018-11-14",
          "2018-11-15",
          "2018-11-16",
          "2018-11-19",
          "2018-11-20",
          "2018-11-21",
          "2018-11-23",
          "2018-11-26",
          "2018-11-27",
          "2018-11-28",
          "2018-11-29",
          "2018-11-30",
          "2018-12-03",
          "2018-12-04",
          "2018-12-06",
          "2018-12-07",
          "2018-12-10",
          "2018-12-11",
          "2018-12-12",
          "2018-12-13",
          "2018-12-14",
          "2018-12-17",
          "2018-12-18",
          "2018-12-19",
          "2018-12-20",
          "2018-12-21",
          "2018-12-24",
          "2018-12-26",
          "2018-12-27",
          "2018-12-28"
         ],
         "xaxis": "x2",
         "y": [
          "",
          -0.06556258676726137,
          0.007621158281072566,
          0,
          0.03201981123477136,
          0.05715841383994862,
          -0.026132140276848057,
          0.006091389393401913,
          0.027945930390559322,
          0.13770573877201045,
          0.021214202444862402,
          0.025695570376240602,
          -0.08092962569176444,
          -0.021525494786273903,
          0.0063262750528773806,
          0.03278982282299097,
          0.009544541003569872,
          -0.04413779082571144,
          0.22242126887038574,
          0.06638832653318481,
          -0.08830300923857955,
          -0.0051832770618562354,
          0.25081937876584515,
          0.7682450067910253,
          -0.2189988833046914,
          -0.07801563304676497,
          0.18783583593099118,
          -0.14098803741654117,
          -0.1263797579307029,
          -0.025307795919752074,
          -0.2596446979217022,
          -0.006772622917818084,
          0.017103293305697584,
          0.056929999037676315,
          -0.028559301908460927,
          -0.06713930283762856,
          -0.1268383344779385,
          -0.04274419653858626,
          0.16261386170043138,
          0.06558020539984692,
          0.12397707906403822,
          -0.1371618542407884,
          -0.04489271550045216,
          -0.019952131263652837,
          -0.03322564762832028,
          -0.07116704796847889,
          -0.12202418106237968,
          0.0749858068845626,
          0.03548458192553425,
          0.052424153196575785,
          -0.03785194633748519,
          -0.048790164169431945,
          0.1854811170843231,
          -0.044069463034494646,
          -0.018858018634396723,
          0.26760505141005686,
          0.06349363095690341,
          -0.16771226810070491,
          0.067565319495766,
          0.01631069882431536,
          -0.13559486060696607,
          0.16786266334149255,
          -0.11282077028719545,
          -0.050545257948231524,
          -0.05745169477585721,
          0.12631162289648679,
          0.012945164592036986,
          -0.06157247557325795,
          -0.011299555253933394,
          -0.09043079902023132,
          -0.06018529161893569,
          -0.050054604822984114,
          -0.0824106459036929,
          0.02269141120207067,
          0.022814677766171482,
          0.056043897146148186,
          -0.0325133997359542,
          0.09786616274833501,
          -0.010039125028328542,
          -0.09396579241833147,
          -0.05246068540150737,
          0.033187474589932674,
          -0.028009469493179846,
          0.03051730779814392,
          -0.004392853000735216,
          -0.0737210126828975,
          -0.0013550137574595356,
          -0.0027155481724826388,
          -0.09178140306981042,
          -0.014259153416671423,
          -0.044829762953335024,
          0.021892977610236744,
          0.12352402224826683,
          -0.08632808348849726,
          0.0007448789916104024,
          -0.0007448789916104893,
          -0.02566178551448305,
          0.010646488394487704,
          -0.04962258315124579,
          -0.003982482364317597,
          0.053605065515563335,
          0.2526582887216878,
          -0.13034694344055683,
          0.03227148667039819,
          -0.1365913421584876,
          -0.05497567407256449,
          -0.02705017753302606,
          -0.0632490303076994,
          0.04123428065266707,
          0.004113539325792162,
          0.013860800792235166,
          -0.0008100445967444326,
          0.04747727059551264,
          -0.0654663084315861,
          -0.011618387953864964,
          0.027173347509058962,
          0.08110444464989636,
          -0.042852769255507274,
          0.13509389294241428,
          -0.06126519579260206,
          0.22994679098695117,
          -0.08486292331127764,
          0.11778303565638346,
          -0.06100855927424957,
          -0.04615269579407903,
          -0.030927046748800438,
          0.03402974858631147,
          -0.0752524644102657,
          -0.11303480731768534,
          -0.05219910938755551,
          -0.0039478930075848235,
          0.07540685698972996,
          -0.0801649944361468,
          -0.03231298899054357,
          0.05199091634579419,
          -0.06189198732850568,
          0.003311261303656005,
          0.06169356900533996,
          -0.0007773027985619028,
          -0.01883886169640624,
          -0.01678025789655123,
          -0.009716675638572427,
          -0.012280137946591087,
          0.07074860550540152,
          0.0902040238493962,
          -0.1056722363586048,
          0.02463557999622855,
          -0.07580581513059352,
          -0.04616850118988831,
          -0.032303114251606944,
          -0.03063302586323775,
          -0.0073462222019785904,
          0.03797924806521647,
          0.1550375978454862,
          0.11609298962288443,
          -0.10475928311303534,
          0.09524187612614528,
          -0.08477840248531746,
          -0.062112717329136626,
          -0.01193806458122512,
          0.02919339467198686,
          -0.04859578181873729,
          0.012976662225779785,
          -0.03442963017709299,
          0.014078907498598088,
          0.0275767677702344,
          -0.020202707317519466,
          0.09938350519196061,
          -0.05078772337322338,
          0.02306020708769788,
          0.05542608003818041,
          0.051832329527724715,
          0.015577693941869593,
          -0.04959694113937218,
          -0.06869025384203345,
          -0.006069821367075834,
          -0.060386826652068064,
          -0.024551151294956296,
          0.12521187708496426,
          -0.06727129660365316,
          -0.08481037500058325,
          0.004246290881451224,
          -0.010221554071538139,
          0.04355797433912994,
          0.01787212476612183,
          0.03714374044576326,
          -0.03794921773458017,
          -0.023645618575347544,
          -0.00995033085316798,
          0.004158010148663677,
          -0.03719786422686397,
          0.20278262866529484,
          0.04132819549284594,
          0.05704594687700034,
          0.016435262485912427,
          0.3642947422205121,
          0.08432193324606585,
          -0.15889905858690592,
          -0.00046937339514628774,
          -0.18967245220734602,
          -0.01256441428755019,
          0.14225757631330616,
          -0.008510689667908506,
          -0.012648789939560956,
          0.053048372481172966,
          0.19741708724547352,
          -0.04085502452802026,
          -0.002480365058331954,
          0.022104870567317345,
          -0.056206259519025095,
          -0.0951817083997416,
          -0.0932397856900165,
          0.008751664609871588,
          0.02280311624829812,
          -0.0025081528072130235,
          -0.19638278690150401,
          0.021766276481954505,
          0.03756310157564852,
          0.1638141732566067,
          -0.02125110860173622,
          0.05962512148335139,
          -0.06162512215001838,
          -0.09661232853341695,
          0.1026003703780396,
          0.11190620996046019,
          -0.07767303831821802,
          0.034029748586311255,
          -0.12982081322798708,
          0.00632913505164753,
          -0.02826101171821082,
          0.01609476802634045,
          -0.039071708821236804,
          -0.09453571497610323,
          0.2323468131733473,
          0.021465169478826665,
          0.09191517450210994,
          -0.02572629344733556,
          -0.03964483134724025,
          -0.013882684785189472,
          -0.03847541779551081,
          0.04636592055792556,
          0.12540787110304327,
          0.042321685082685835,
          0,
          0.10387387558119997,
          0.05917267076174585,
          0.1806041524218052,
          -0.1706899932261744,
          -0.014908343040254556,
          -0.055588924386484335
         ],
         "yaxis": "y2"
        },
        {
         "line": {
          "color": "rgba(50, 171, 96, 1.0)",
          "dash": "solid",
          "shape": "linear",
          "width": 1.3
         },
         "mode": "lines",
         "name": "IBM.N",
         "text": "",
         "type": "scatter",
         "x": [
          "2018-01-02",
          "2018-01-03",
          "2018-01-04",
          "2018-01-05",
          "2018-01-08",
          "2018-01-09",
          "2018-01-10",
          "2018-01-11",
          "2018-01-12",
          "2018-01-16",
          "2018-01-17",
          "2018-01-18",
          "2018-01-19",
          "2018-01-22",
          "2018-01-23",
          "2018-01-24",
          "2018-01-25",
          "2018-01-26",
          "2018-01-29",
          "2018-01-30",
          "2018-01-31",
          "2018-02-01",
          "2018-02-02",
          "2018-02-05",
          "2018-02-06",
          "2018-02-07",
          "2018-02-08",
          "2018-02-09",
          "2018-02-12",
          "2018-02-13",
          "2018-02-14",
          "2018-02-15",
          "2018-02-16",
          "2018-02-20",
          "2018-02-21",
          "2018-02-22",
          "2018-02-23",
          "2018-02-26",
          "2018-02-27",
          "2018-02-28",
          "2018-03-01",
          "2018-03-02",
          "2018-03-05",
          "2018-03-06",
          "2018-03-07",
          "2018-03-08",
          "2018-03-09",
          "2018-03-12",
          "2018-03-13",
          "2018-03-14",
          "2018-03-15",
          "2018-03-16",
          "2018-03-19",
          "2018-03-20",
          "2018-03-21",
          "2018-03-22",
          "2018-03-23",
          "2018-03-26",
          "2018-03-27",
          "2018-03-28",
          "2018-03-29",
          "2018-04-02",
          "2018-04-03",
          "2018-04-04",
          "2018-04-05",
          "2018-04-06",
          "2018-04-09",
          "2018-04-10",
          "2018-04-11",
          "2018-04-12",
          "2018-04-13",
          "2018-04-16",
          "2018-04-17",
          "2018-04-18",
          "2018-04-19",
          "2018-04-20",
          "2018-04-23",
          "2018-04-24",
          "2018-04-25",
          "2018-04-26",
          "2018-04-27",
          "2018-04-30",
          "2018-05-01",
          "2018-05-02",
          "2018-05-03",
          "2018-05-04",
          "2018-05-07",
          "2018-05-08",
          "2018-05-09",
          "2018-05-10",
          "2018-05-11",
          "2018-05-14",
          "2018-05-15",
          "2018-05-16",
          "2018-05-17",
          "2018-05-18",
          "2018-05-21",
          "2018-05-22",
          "2018-05-23",
          "2018-05-24",
          "2018-05-25",
          "2018-05-29",
          "2018-05-30",
          "2018-05-31",
          "2018-06-01",
          "2018-06-04",
          "2018-06-05",
          "2018-06-06",
          "2018-06-07",
          "2018-06-08",
          "2018-06-11",
          "2018-06-12",
          "2018-06-13",
          "2018-06-14",
          "2018-06-15",
          "2018-06-18",
          "2018-06-19",
          "2018-06-20",
          "2018-06-21",
          "2018-06-22",
          "2018-06-25",
          "2018-06-26",
          "2018-06-27",
          "2018-06-28",
          "2018-06-29",
          "2018-07-02",
          "2018-07-03",
          "2018-07-05",
          "2018-07-06",
          "2018-07-09",
          "2018-07-10",
          "2018-07-11",
          "2018-07-12",
          "2018-07-13",
          "2018-07-16",
          "2018-07-17",
          "2018-07-18",
          "2018-07-19",
          "2018-07-20",
          "2018-07-23",
          "2018-07-24",
          "2018-07-25",
          "2018-07-26",
          "2018-07-27",
          "2018-07-30",
          "2018-07-31",
          "2018-08-01",
          "2018-08-02",
          "2018-08-03",
          "2018-08-06",
          "2018-08-07",
          "2018-08-08",
          "2018-08-09",
          "2018-08-10",
          "2018-08-13",
          "2018-08-14",
          "2018-08-15",
          "2018-08-16",
          "2018-08-17",
          "2018-08-20",
          "2018-08-21",
          "2018-08-22",
          "2018-08-23",
          "2018-08-24",
          "2018-08-27",
          "2018-08-28",
          "2018-08-29",
          "2018-08-30",
          "2018-08-31",
          "2018-09-04",
          "2018-09-05",
          "2018-09-06",
          "2018-09-07",
          "2018-09-10",
          "2018-09-11",
          "2018-09-12",
          "2018-09-13",
          "2018-09-14",
          "2018-09-17",
          "2018-09-18",
          "2018-09-19",
          "2018-09-20",
          "2018-09-21",
          "2018-09-24",
          "2018-09-25",
          "2018-09-26",
          "2018-09-27",
          "2018-09-28",
          "2018-10-01",
          "2018-10-02",
          "2018-10-03",
          "2018-10-04",
          "2018-10-05",
          "2018-10-08",
          "2018-10-09",
          "2018-10-10",
          "2018-10-11",
          "2018-10-12",
          "2018-10-15",
          "2018-10-16",
          "2018-10-17",
          "2018-10-18",
          "2018-10-19",
          "2018-10-22",
          "2018-10-23",
          "2018-10-24",
          "2018-10-25",
          "2018-10-26",
          "2018-10-29",
          "2018-10-30",
          "2018-10-31",
          "2018-11-01",
          "2018-11-02",
          "2018-11-05",
          "2018-11-06",
          "2018-11-07",
          "2018-11-08",
          "2018-11-09",
          "2018-11-12",
          "2018-11-13",
          "2018-11-14",
          "2018-11-15",
          "2018-11-16",
          "2018-11-19",
          "2018-11-20",
          "2018-11-21",
          "2018-11-23",
          "2018-11-26",
          "2018-11-27",
          "2018-11-28",
          "2018-11-29",
          "2018-11-30",
          "2018-12-03",
          "2018-12-04",
          "2018-12-06",
          "2018-12-07",
          "2018-12-10",
          "2018-12-11",
          "2018-12-12",
          "2018-12-13",
          "2018-12-14",
          "2018-12-17",
          "2018-12-18",
          "2018-12-19",
          "2018-12-20",
          "2018-12-21",
          "2018-12-24",
          "2018-12-26",
          "2018-12-27",
          "2018-12-28"
         ],
         "xaxis": "x3",
         "y": [
          "",
          0.027116837058836968,
          0.020051266738726987,
          0.004873694831623795,
          0.006013025848431804,
          0.0021998175690555273,
          0.0021340820879480415,
          0.00012181009820770537,
          -0.006476469145893462,
          0.004342647272389399,
          0.028874186362835647,
          0.0027829606142683013,
          -0.04073084052290443,
          0.0014155155146871952,
          0.022199482422253277,
          -0.005307291873858537,
          0.0006045218416479031,
          0.011237761363699713,
          -0.0032321809428061113,
          -0.019248823839094265,
          0.0004888182915370262,
          -0.007973056649511517,
          -0.02096956405975314,
          -0.041731565655982614,
          0.018254964979659567,
          -0.009638161223450542,
          -0.041539942574366225,
          0.0129251210321519,
          0.012562060777512063,
          -0.0043025053960536455,
          0.026252694225017414,
          0.008044577926845837,
          0.001089080475371108,
          -0.0065523456627626315,
          -0.0077640141562209854,
          -0.005079127934097918,
          0.015160640230681446,
          0.019484857132124,
          -0.012883750071838108,
          -0.004609778314891565,
          -0.013047594993804234,
          0.004411294860239468,
          0.015797913964004182,
          -0.007867760545707524,
          0.016558778552055377,
          -0.013417045451392792,
          0.01965073374188608,
          0.005945506765120877,
          -0.005882738036480977,
          -0.007560519884958629,
          0.009379101265982397,
          0.0040641566554572945,
          -0.018324872839508583,
          -0.007335386104830278,
          0.0031320937107315525,
          -0.029796880232039687,
          -0.02126467261681837,
          0.0296455243952295,
          -0.009565062443117256,
          0.004007494769791684,
          0.005948701967751251,
          -0.022142585049216162,
          -0.0014670581452260302,
          0.028096725995284667,
          -0.0005841311215905592,
          -0.022719296301414338,
          0.013981629860468319,
          0.017528363603222526,
          -0.00019308125562787548,
          0.01729296834628922,
          -0.008641009354179328,
          0.007501624498672444,
          0.018946614437261495,
          -0.07830928663145287,
          -0.007352726302271944,
          -0.019139340210697284,
          0.006603408229450428,
          -0.002058884812128014,
          0.002607205593515037,
          0.005330430170680718,
          -0.0016371081418995374,
          -0.010431058071585913,
          0.00027590012590512073,
          -0.017742681476657148,
          -0.003234428357650822,
          0.01343147159581575,
          -0.004806194603288493,
          -0.001537279318886478,
          -0.002730998511231517,
          0.011364947146386289,
          -0.0006935293987669588,
          0.0011094162835303249,
          -0.0038883537395286655,
          0.006172645045343983,
          -0.00089924953315375,
          -0.002910806684786168,
          0.009738654859596565,
          -0.00275311619970355,
          -0.0028989528860950925,
          -0.004155994068117177,
          -0.002989123215499534,
          -0.016991211269681162,
          0.009864792511956851,
          -0.009227692005502726,
          0.004518824324325221,
          0.007649428506223734,
          0.004603481659775134,
          0.007003946664922173,
          0.0044816843380145206,
          0.0053516422751558506,
          0.0030062881346324304,
          0.0019764872680669856,
          -0.0035468286278763157,
          -0.00788891074719916,
          0.001307684552638489,
          -0.00627869727465892,
          -0.004022475775353021,
          -0.008864749357991347,
          -0.009722494508780577,
          0.00021236682909961597,
          -0.017781737487901527,
          0.0020873077719122616,
          -0.01157085515802766,
          0.018449644104831863,
          -0.002430829823548774,
          0.0011446560128048437,
          -0.0020756547551679673,
          0.013238627511855566,
          0.007396743948997623,
          0.013316333001721544,
          0.0022137677667738533,
          0.0015881239312340017,
          0.01036420959260704,
          -0.0037626177450024605,
          -0.003020320802345362,
          -0.013635788366079414,
          0.007152559919124317,
          0.032137842073517706,
          -0.019554735215062354,
          -0.0044512999367357165,
          0.0046562669719219605,
          0.0016382256223594477,
          0.0006136433561120868,
          -0.01069015868091382,
          0.0023396652566585402,
          -0.003856488492872312,
          -0.009915832034749222,
          -0.003770164348503154,
          0.03261831868616144,
          -0.011371109484953902,
          0.006688531623494724,
          -0.0008166043325514112,
          -0.014537731177371184,
          -0.0020051864972770767,
          -0.012326490556375363,
          0.004544350114320483,
          0.0038291549554618108,
          0.009887721006407607,
          0.004941671003473931,
          0.003076189321257941,
          -0.003692564370734906,
          -0.00501357459635155,
          0.0008946698920983564,
          0.0045983403492024936,
          0.004440959712235442,
          -0.0006819421977316282,
          0.006459751154216399,
          -0.010972270776501673,
          0.0037618456866008367,
          -0.005476464946902586,
          0.0067045472463009535,
          -0.0018426894823330843,
          -0.0064419082421097815,
          0.0013740984642330982,
          0.005750683336235048,
          0.0005459632975305651,
          0.016107549120081895,
          -0.0041711578237700895,
          -0.0026327351757995366,
          0.0041821308847287,
          0.003359992409097509,
          0.013923811771919266,
          0.0013223142422604428,
          -0.008759761368805576,
          -0.007493177496808342,
          0.017969337491376764,
          -0.0007258091440665238,
          -0.0019160258248459704,
          0.011768322267857708,
          0.00488998529419177,
          -0.003453109597952429,
          -0.012544084625195462,
          -0.015183084502777972,
          -0.00430368494266648,
          -0.007780034507214511,
          -0.03138946356833658,
          -0.026056637270143956,
          0.013077686650041762,
          0.001985957103534063,
          0.027879534940911,
          -0.07934812168485816,
          -0.026456569536830468,
          -0.01116899729254119,
          0.007100986923725969,
          0.009110808341301712,
          -0.030959828949504924,
          -0.0059922910521452944,
          -0.013214648596211184,
          -0.042145090758015716,
          -0.03608287968774799,
          0.0002599315528216282,
          0.012055601102236132,
          -0.009978577421746803,
          0.0372503085163868,
          0.02516787170692669,
          0.013873427871954922,
          -0.011763893621086185,
          0.0012959664862605543,
          -0.021601232647006138,
          -0.0004964011022757799,
          -0.005310334417364019,
          0.010263291546212494,
          0.0010699149203828287,
          -0.010418483522269411,
          -0.026189867902520928,
          0.011621626327066833,
          -0.01170695419946812,
          0.020021788145226257,
          0.003923374121516301,
          0.024442643835164164,
          -0.012434715194869451,
          0.022706977640355175,
          0.008334049359290488,
          -0.03005369764512709,
          0.01881852609633491,
          -0.0375789335344657,
          0.014887786934774867,
          -0.001983307814810227,
          0.002230944945135967,
          -0.0035553388147404807,
          -0.0068985853108274025,
          -0.03220617332962279,
          0.004726109763593342,
          -0.0018877644185143004,
          -0.029725439847227454,
          -0.018575279574608736,
          -0.03084771618317448,
          0.03489575841318448,
          0.02122920246540302,
          -0.006613489119861602
         ],
         "yaxis": "y3"
        },
        {
         "line": {
          "color": "rgba(128, 0, 128, 1.0)",
          "dash": "solid",
          "shape": "linear",
          "width": 1.3
         },
         "mode": "lines",
         "name": "GE",
         "text": "",
         "type": "scatter",
         "x": [
          "2018-01-02",
          "2018-01-03",
          "2018-01-04",
          "2018-01-05",
          "2018-01-08",
          "2018-01-09",
          "2018-01-10",
          "2018-01-11",
          "2018-01-12",
          "2018-01-16",
          "2018-01-17",
          "2018-01-18",
          "2018-01-19",
          "2018-01-22",
          "2018-01-23",
          "2018-01-24",
          "2018-01-25",
          "2018-01-26",
          "2018-01-29",
          "2018-01-30",
          "2018-01-31",
          "2018-02-01",
          "2018-02-02",
          "2018-02-05",
          "2018-02-06",
          "2018-02-07",
          "2018-02-08",
          "2018-02-09",
          "2018-02-12",
          "2018-02-13",
          "2018-02-14",
          "2018-02-15",
          "2018-02-16",
          "2018-02-20",
          "2018-02-21",
          "2018-02-22",
          "2018-02-23",
          "2018-02-26",
          "2018-02-27",
          "2018-02-28",
          "2018-03-01",
          "2018-03-02",
          "2018-03-05",
          "2018-03-06",
          "2018-03-07",
          "2018-03-08",
          "2018-03-09",
          "2018-03-12",
          "2018-03-13",
          "2018-03-14",
          "2018-03-15",
          "2018-03-16",
          "2018-03-19",
          "2018-03-20",
          "2018-03-21",
          "2018-03-22",
          "2018-03-23",
          "2018-03-26",
          "2018-03-27",
          "2018-03-28",
          "2018-03-29",
          "2018-04-02",
          "2018-04-03",
          "2018-04-04",
          "2018-04-05",
          "2018-04-06",
          "2018-04-09",
          "2018-04-10",
          "2018-04-11",
          "2018-04-12",
          "2018-04-13",
          "2018-04-16",
          "2018-04-17",
          "2018-04-18",
          "2018-04-19",
          "2018-04-20",
          "2018-04-23",
          "2018-04-24",
          "2018-04-25",
          "2018-04-26",
          "2018-04-27",
          "2018-04-30",
          "2018-05-01",
          "2018-05-02",
          "2018-05-03",
          "2018-05-04",
          "2018-05-07",
          "2018-05-08",
          "2018-05-09",
          "2018-05-10",
          "2018-05-11",
          "2018-05-14",
          "2018-05-15",
          "2018-05-16",
          "2018-05-17",
          "2018-05-18",
          "2018-05-21",
          "2018-05-22",
          "2018-05-23",
          "2018-05-24",
          "2018-05-25",
          "2018-05-29",
          "2018-05-30",
          "2018-05-31",
          "2018-06-01",
          "2018-06-04",
          "2018-06-05",
          "2018-06-06",
          "2018-06-07",
          "2018-06-08",
          "2018-06-11",
          "2018-06-12",
          "2018-06-13",
          "2018-06-14",
          "2018-06-15",
          "2018-06-18",
          "2018-06-19",
          "2018-06-20",
          "2018-06-21",
          "2018-06-22",
          "2018-06-25",
          "2018-06-26",
          "2018-06-27",
          "2018-06-28",
          "2018-06-29",
          "2018-07-02",
          "2018-07-03",
          "2018-07-05",
          "2018-07-06",
          "2018-07-09",
          "2018-07-10",
          "2018-07-11",
          "2018-07-12",
          "2018-07-13",
          "2018-07-16",
          "2018-07-17",
          "2018-07-18",
          "2018-07-19",
          "2018-07-20",
          "2018-07-23",
          "2018-07-24",
          "2018-07-25",
          "2018-07-26",
          "2018-07-27",
          "2018-07-30",
          "2018-07-31",
          "2018-08-01",
          "2018-08-02",
          "2018-08-03",
          "2018-08-06",
          "2018-08-07",
          "2018-08-08",
          "2018-08-09",
          "2018-08-10",
          "2018-08-13",
          "2018-08-14",
          "2018-08-15",
          "2018-08-16",
          "2018-08-17",
          "2018-08-20",
          "2018-08-21",
          "2018-08-22",
          "2018-08-23",
          "2018-08-24",
          "2018-08-27",
          "2018-08-28",
          "2018-08-29",
          "2018-08-30",
          "2018-08-31",
          "2018-09-04",
          "2018-09-05",
          "2018-09-06",
          "2018-09-07",
          "2018-09-10",
          "2018-09-11",
          "2018-09-12",
          "2018-09-13",
          "2018-09-14",
          "2018-09-17",
          "2018-09-18",
          "2018-09-19",
          "2018-09-20",
          "2018-09-21",
          "2018-09-24",
          "2018-09-25",
          "2018-09-26",
          "2018-09-27",
          "2018-09-28",
          "2018-10-01",
          "2018-10-02",
          "2018-10-03",
          "2018-10-04",
          "2018-10-05",
          "2018-10-08",
          "2018-10-09",
          "2018-10-10",
          "2018-10-11",
          "2018-10-12",
          "2018-10-15",
          "2018-10-16",
          "2018-10-17",
          "2018-10-18",
          "2018-10-19",
          "2018-10-22",
          "2018-10-23",
          "2018-10-24",
          "2018-10-25",
          "2018-10-26",
          "2018-10-29",
          "2018-10-30",
          "2018-10-31",
          "2018-11-01",
          "2018-11-02",
          "2018-11-05",
          "2018-11-06",
          "2018-11-07",
          "2018-11-08",
          "2018-11-09",
          "2018-11-12",
          "2018-11-13",
          "2018-11-14",
          "2018-11-15",
          "2018-11-16",
          "2018-11-19",
          "2018-11-20",
          "2018-11-21",
          "2018-11-23",
          "2018-11-26",
          "2018-11-27",
          "2018-11-28",
          "2018-11-29",
          "2018-11-30",
          "2018-12-03",
          "2018-12-04",
          "2018-12-06",
          "2018-12-07",
          "2018-12-10",
          "2018-12-11",
          "2018-12-12",
          "2018-12-13",
          "2018-12-14",
          "2018-12-17",
          "2018-12-18",
          "2018-12-19",
          "2018-12-20",
          "2018-12-21",
          "2018-12-24",
          "2018-12-26",
          "2018-12-27",
          "2018-12-28"
         ],
         "xaxis": "x4",
         "y": [
          "",
          0.00941055057129217,
          0.020720457841055473,
          0.000539547336084464,
          -0.014123035857831348,
          0.015201201929337986,
          0.019686375765896286,
          0.00479592823683552,
          -0.013764099136370006,
          -0.029756046580163713,
          -0.04837839491988622,
          -0.0340009563009875,
          -0.030883471600998986,
          -0.005550392665072862,
          0.043564011978465156,
          -0.027004345013157714,
          -0.015941461728113393,
          -0.0030949840566263233,
          0.009256426681646912,
          -0.020478542801681238,
          0.013698894939466527,
          -0.009319754478404321,
          -0.024006181278505342,
          -0.047799658893104294,
          0.023858034730089343,
          -0.0013106147922281183,
          -0.05388510194956609,
          0.03334776572449385,
          -0.008064551379330064,
          -0.010173052403817372,
          0.015556639833886802,
          -0.0033613792037728604,
          0.013378181570935453,
          -0.02081311718921233,
          -0.017106148060774665,
          0.008931724310637604,
          -0.008931724310637486,
          0.010981567760885666,
          -0.010291639512106002,
          -0.027264890680432488,
          -0.006398914496483625,
          0.0071073431015203714,
          0.021023878332555864,
          0.015141432558101691,
          -0.008919467935448538,
          0.0006889776079610302,
          0.028515140095531202,
          0.01065255304877448,
          -0.04538535909906849,
          -0.011149929576136721,
          0.006287089283661084,
          -0.0034879301588429962,
          -0.016913704461274767,
          -0.031038223047535004,
          0.017442284200497156,
          -0.03893256753755552,
          -0.0211968346730227,
          -0.01386777638669082,
          0.041783515561769236,
          0.017699635491962823,
          -0.014727868088719953,
          -0.027069294439541543,
          0.0007619436294960775,
          0.011359404483620031,
          0.01123189384344782,
          -0.027936896888558962,
          -0.017767967199168136,
          0.017002017771755265,
          -0.006149209011383651,
          0.016061554236663556,
          0.02324815612406141,
          -0.0119315235329371,
          0.033926522469849445,
          -0.009471789891566025,
          0.023870872204294586,
          0.03856075277707326,
          -0.0013764612304544995,
          0.010959002076352531,
          -0.0438636167641245,
          0.023215895702742757,
          0,
          -0.021793421882327288,
          -0.0014224738204155845,
          0.009210078799016825,
          -0.017787752219601598,
          0.012130034327290989,
          -0.0021298870862908013,
          0.014114545336456773,
          0.024231033104983143,
          0.0047764953692561556,
          -0.006145419514473938,
          0.0075059625459013984,
          0,
          0.02152071653436836,
          0,
          -0.004000070526430301,
          0.01918684236168224,
          0.0019640260976044456,
          -0.07536652633074718,
          0.029189049317620914,
          0.0020526485720225142,
          -0.031241697889643434,
          -0.000705429968325591,
          -0.006371733110977042,
          0.0014194451869919864,
          -0.02804931236654937,
          0.006543129600649102,
          -0.011661927367925535,
          0.010211602322046846,
          0.010826473484488074,
          0.0035829826152095684,
          0,
          -0.006458610737293345,
          -0.018162447684450952,
          -0.025242668110158625,
          -0.007547197932008842,
          -0.019121061834294455,
          -0.005420021627196527,
          -0.009360432884924188,
          0.022472872157873334,
          -0.02325691843531546,
          0.0747800552736756,
          0.015884793835204813,
          -0.009355979461433125,
          -0.016035312598350362,
          -0.017791407026209433,
          0,
          0.0044776147283997975,
          0.030794190386432052,
          0.007194268365055093,
          0.01564760322106098,
          -0.01278432568953791,
          0,
          -0.007173624683821882,
          0.0007197200642425607,
          -0.015223222758750427,
          0.004373180335686756,
          -0.0014556028448690546,
          -0.04544542835206212,
          -0.009957982560304703,
          0.009957982560304748,
          -0.0007624452778280713,
          0.003046457589584336,
          -0.006867667243751172,
          0.007627794180104502,
          0.03509132253716639,
          -0.02903070413491865,
          -0.005300989829052743,
          -0.0022805398497267476,
          -0.0030487797066807427,
          0.004569690983212366,
          -0.008393743607517518,
          -0.00846487574504221,
          -0.01322464584761792,
          -0.025378020960162673,
          -0.008064551379329953,
          -0.010582140694896817,
          0.00652530199048651,
          0,
          0,
          0.02647568864959477,
          -0.012749163459828848,
          0.00559781117140481,
          -0.003194887445407873,
          0.02136996212814017,
          -0.0007833505652132262,
          0.01632366314648962,
          -0.015540312581276531,
          0.013224645847617893,
          -0.021086313521801053,
          -0.00871978289058371,
          -0.0039888738368321075,
          -0.008831884594665374,
          0.008831884594665383,
          -0.014492992127684675,
          0.022454809382398726,
          0.007898927110953417,
          -0.0023630927499184184,
          0.0015760427758359883,
          -0.003154573383949166,
          0.015674285479915534,
          -0.031598255181826594,
          -0.023549539744599102,
          -0.035972097769155775,
          -0.04085748815668424,
          0.010591438223470782,
          0.012216544068181505,
          -0.021034934062265774,
          0.0684613023941568,
          0.01884523117824318,
          0.012903391845010579,
          0.014320121725553237,
          0.04025307021190304,
          0.03210429338850174,
          -0.004418264768352939,
          -0.020127421372904623,
          -0.04308354130211555,
          -0.03195164972759554,
          -0.013894731329944237,
          -0.004123755749280127,
          0.007410525943913525,
          0.015466265375450332,
          0.014434962159620684,
          -0.014434962159620715,
          0.024732030825876026,
          -0.04184033094196188,
          -0.030874386104352843,
          -0.04329685100459091,
          -0.01246675606110652,
          -0.09191094931043234,
          -0.007889579180774577,
          -0.05285777595571163,
          -0.030739061249466154,
          -0.0010770609325124276,
          0.014973526795562606,
          -0.023631580765439558,
          -0.010929059348722334,
          -0.05884043766663036,
          -0.0712432684448015,
          0.07473360916940675,
          -0.0342620903276357,
          -0.018193263929337525,
          -0.018530531607685495,
          -0.022699563690978124,
          -0.024533228152964052,
          0.02069929511864998,
          -0.03121186472926655,
          0.0013201994672686745,
          -0.018642469975612145,
          0.03953093522625397,
          0.025511560572853552,
          -0.0570101932240069,
          0.04050183266250945,
          -0.0702741003622074,
          0.009569512258950376,
          -0.04736256069119798,
          -0.011478025112896827,
          -0.024836821662496542,
          -0.007424008563569633,
          0.0704820786990599,
          -0.013986227729479307,
          0.007017638235228438,
          0.01801841456640158,
          0.05088120773155164,
          -0.02914124260695437,
          -0.03975837969099891,
          -0.03269662597393522,
          0.06571196878882359,
          -0.01637142598751331,
          0.03247913993320376
         ],
         "yaxis": "y4"
        }
       ],
       "layout": {
        "legend": {
         "bgcolor": "#F5F6F9",
         "font": {
          "color": "#4D5663"
         }
        },
        "paper_bgcolor": "#F5F6F9",
        "plot_bgcolor": "#F5F6F9",
        "template": {
         "data": {
          "bar": [
           {
            "error_x": {
             "color": "#2a3f5f"
            },
            "error_y": {
             "color": "#2a3f5f"
            },
            "marker": {
             "line": {
              "color": "#E5ECF6",
              "width": 0.5
             }
            },
            "type": "bar"
           }
          ],
          "barpolar": [
           {
            "marker": {
             "line": {
              "color": "#E5ECF6",
              "width": 0.5
             }
            },
            "type": "barpolar"
           }
          ],
          "carpet": [
           {
            "aaxis": {
             "endlinecolor": "#2a3f5f",
             "gridcolor": "white",
             "linecolor": "white",
             "minorgridcolor": "white",
             "startlinecolor": "#2a3f5f"
            },
            "baxis": {
             "endlinecolor": "#2a3f5f",
             "gridcolor": "white",
             "linecolor": "white",
             "minorgridcolor": "white",
             "startlinecolor": "#2a3f5f"
            },
            "type": "carpet"
           }
          ],
          "choropleth": [
           {
            "colorbar": {
             "outlinewidth": 0,
             "ticks": ""
            },
            "type": "choropleth"
           }
          ],
          "contour": [
           {
            "colorbar": {
             "outlinewidth": 0,
             "ticks": ""
            },
            "colorscale": [
             [
              0,
              "#0d0887"
             ],
             [
              0.1111111111111111,
              "#46039f"
             ],
             [
              0.2222222222222222,
              "#7201a8"
             ],
             [
              0.3333333333333333,
              "#9c179e"
             ],
             [
              0.4444444444444444,
              "#bd3786"
             ],
             [
              0.5555555555555556,
              "#d8576b"
             ],
             [
              0.6666666666666666,
              "#ed7953"
             ],
             [
              0.7777777777777778,
              "#fb9f3a"
             ],
             [
              0.8888888888888888,
              "#fdca26"
             ],
             [
              1,
              "#f0f921"
             ]
            ],
            "type": "contour"
           }
          ],
          "contourcarpet": [
           {
            "colorbar": {
             "outlinewidth": 0,
             "ticks": ""
            },
            "type": "contourcarpet"
           }
          ],
          "heatmap": [
           {
            "colorbar": {
             "outlinewidth": 0,
             "ticks": ""
            },
            "colorscale": [
             [
              0,
              "#0d0887"
             ],
             [
              0.1111111111111111,
              "#46039f"
             ],
             [
              0.2222222222222222,
              "#7201a8"
             ],
             [
              0.3333333333333333,
              "#9c179e"
             ],
             [
              0.4444444444444444,
              "#bd3786"
             ],
             [
              0.5555555555555556,
              "#d8576b"
             ],
             [
              0.6666666666666666,
              "#ed7953"
             ],
             [
              0.7777777777777778,
              "#fb9f3a"
             ],
             [
              0.8888888888888888,
              "#fdca26"
             ],
             [
              1,
              "#f0f921"
             ]
            ],
            "type": "heatmap"
           }
          ],
          "heatmapgl": [
           {
            "colorbar": {
             "outlinewidth": 0,
             "ticks": ""
            },
            "colorscale": [
             [
              0,
              "#0d0887"
             ],
             [
              0.1111111111111111,
              "#46039f"
             ],
             [
              0.2222222222222222,
              "#7201a8"
             ],
             [
              0.3333333333333333,
              "#9c179e"
             ],
             [
              0.4444444444444444,
              "#bd3786"
             ],
             [
              0.5555555555555556,
              "#d8576b"
             ],
             [
              0.6666666666666666,
              "#ed7953"
             ],
             [
              0.7777777777777778,
              "#fb9f3a"
             ],
             [
              0.8888888888888888,
              "#fdca26"
             ],
             [
              1,
              "#f0f921"
             ]
            ],
            "type": "heatmapgl"
           }
          ],
          "histogram": [
           {
            "marker": {
             "colorbar": {
              "outlinewidth": 0,
              "ticks": ""
             }
            },
            "type": "histogram"
           }
          ],
          "histogram2d": [
           {
            "colorbar": {
             "outlinewidth": 0,
             "ticks": ""
            },
            "colorscale": [
             [
              0,
              "#0d0887"
             ],
             [
              0.1111111111111111,
              "#46039f"
             ],
             [
              0.2222222222222222,
              "#7201a8"
             ],
             [
              0.3333333333333333,
              "#9c179e"
             ],
             [
              0.4444444444444444,
              "#bd3786"
             ],
             [
              0.5555555555555556,
              "#d8576b"
             ],
             [
              0.6666666666666666,
              "#ed7953"
             ],
             [
              0.7777777777777778,
              "#fb9f3a"
             ],
             [
              0.8888888888888888,
              "#fdca26"
             ],
             [
              1,
              "#f0f921"
             ]
            ],
            "type": "histogram2d"
           }
          ],
          "histogram2dcontour": [
           {
            "colorbar": {
             "outlinewidth": 0,
             "ticks": ""
            },
            "colorscale": [
             [
              0,
              "#0d0887"
             ],
             [
              0.1111111111111111,
              "#46039f"
             ],
             [
              0.2222222222222222,
              "#7201a8"
             ],
             [
              0.3333333333333333,
              "#9c179e"
             ],
             [
              0.4444444444444444,
              "#bd3786"
             ],
             [
              0.5555555555555556,
              "#d8576b"
             ],
             [
              0.6666666666666666,
              "#ed7953"
             ],
             [
              0.7777777777777778,
              "#fb9f3a"
             ],
             [
              0.8888888888888888,
              "#fdca26"
             ],
             [
              1,
              "#f0f921"
             ]
            ],
            "type": "histogram2dcontour"
           }
          ],
          "mesh3d": [
           {
            "colorbar": {
             "outlinewidth": 0,
             "ticks": ""
            },
            "type": "mesh3d"
           }
          ],
          "parcoords": [
           {
            "line": {
             "colorbar": {
              "outlinewidth": 0,
              "ticks": ""
             }
            },
            "type": "parcoords"
           }
          ],
          "pie": [
           {
            "automargin": true,
            "type": "pie"
           }
          ],
          "scatter": [
           {
            "marker": {
             "colorbar": {
              "outlinewidth": 0,
              "ticks": ""
             }
            },
            "type": "scatter"
           }
          ],
          "scatter3d": [
           {
            "line": {
             "colorbar": {
              "outlinewidth": 0,
              "ticks": ""
             }
            },
            "marker": {
             "colorbar": {
              "outlinewidth": 0,
              "ticks": ""
             }
            },
            "type": "scatter3d"
           }
          ],
          "scattercarpet": [
           {
            "marker": {
             "colorbar": {
              "outlinewidth": 0,
              "ticks": ""
             }
            },
            "type": "scattercarpet"
           }
          ],
          "scattergeo": [
           {
            "marker": {
             "colorbar": {
              "outlinewidth": 0,
              "ticks": ""
             }
            },
            "type": "scattergeo"
           }
          ],
          "scattergl": [
           {
            "marker": {
             "colorbar": {
              "outlinewidth": 0,
              "ticks": ""
             }
            },
            "type": "scattergl"
           }
          ],
          "scattermapbox": [
           {
            "marker": {
             "colorbar": {
              "outlinewidth": 0,
              "ticks": ""
             }
            },
            "type": "scattermapbox"
           }
          ],
          "scatterpolar": [
           {
            "marker": {
             "colorbar": {
              "outlinewidth": 0,
              "ticks": ""
             }
            },
            "type": "scatterpolar"
           }
          ],
          "scatterpolargl": [
           {
            "marker": {
             "colorbar": {
              "outlinewidth": 0,
              "ticks": ""
             }
            },
            "type": "scatterpolargl"
           }
          ],
          "scatterternary": [
           {
            "marker": {
             "colorbar": {
              "outlinewidth": 0,
              "ticks": ""
             }
            },
            "type": "scatterternary"
           }
          ],
          "surface": [
           {
            "colorbar": {
             "outlinewidth": 0,
             "ticks": ""
            },
            "colorscale": [
             [
              0,
              "#0d0887"
             ],
             [
              0.1111111111111111,
              "#46039f"
             ],
             [
              0.2222222222222222,
              "#7201a8"
             ],
             [
              0.3333333333333333,
              "#9c179e"
             ],
             [
              0.4444444444444444,
              "#bd3786"
             ],
             [
              0.5555555555555556,
              "#d8576b"
             ],
             [
              0.6666666666666666,
              "#ed7953"
             ],
             [
              0.7777777777777778,
              "#fb9f3a"
             ],
             [
              0.8888888888888888,
              "#fdca26"
             ],
             [
              1,
              "#f0f921"
             ]
            ],
            "type": "surface"
           }
          ],
          "table": [
           {
            "cells": {
             "fill": {
              "color": "#EBF0F8"
             },
             "line": {
              "color": "white"
             }
            },
            "header": {
             "fill": {
              "color": "#C8D4E3"
             },
             "line": {
              "color": "white"
             }
            },
            "type": "table"
           }
          ]
         },
         "layout": {
          "annotationdefaults": {
           "arrowcolor": "#2a3f5f",
           "arrowhead": 0,
           "arrowwidth": 1
          },
          "coloraxis": {
           "colorbar": {
            "outlinewidth": 0,
            "ticks": ""
           }
          },
          "colorscale": {
           "diverging": [
            [
             0,
             "#8e0152"
            ],
            [
             0.1,
             "#c51b7d"
            ],
            [
             0.2,
             "#de77ae"
            ],
            [
             0.3,
             "#f1b6da"
            ],
            [
             0.4,
             "#fde0ef"
            ],
            [
             0.5,
             "#f7f7f7"
            ],
            [
             0.6,
             "#e6f5d0"
            ],
            [
             0.7,
             "#b8e186"
            ],
            [
             0.8,
             "#7fbc41"
            ],
            [
             0.9,
             "#4d9221"
            ],
            [
             1,
             "#276419"
            ]
           ],
           "sequential": [
            [
             0,
             "#0d0887"
            ],
            [
             0.1111111111111111,
             "#46039f"
            ],
            [
             0.2222222222222222,
             "#7201a8"
            ],
            [
             0.3333333333333333,
             "#9c179e"
            ],
            [
             0.4444444444444444,
             "#bd3786"
            ],
            [
             0.5555555555555556,
             "#d8576b"
            ],
            [
             0.6666666666666666,
             "#ed7953"
            ],
            [
             0.7777777777777778,
             "#fb9f3a"
            ],
            [
             0.8888888888888888,
             "#fdca26"
            ],
            [
             1,
             "#f0f921"
            ]
           ],
           "sequentialminus": [
            [
             0,
             "#0d0887"
            ],
            [
             0.1111111111111111,
             "#46039f"
            ],
            [
             0.2222222222222222,
             "#7201a8"
            ],
            [
             0.3333333333333333,
             "#9c179e"
            ],
            [
             0.4444444444444444,
             "#bd3786"
            ],
            [
             0.5555555555555556,
             "#d8576b"
            ],
            [
             0.6666666666666666,
             "#ed7953"
            ],
            [
             0.7777777777777778,
             "#fb9f3a"
            ],
            [
             0.8888888888888888,
             "#fdca26"
            ],
            [
             1,
             "#f0f921"
            ]
           ]
          },
          "colorway": [
           "#636efa",
           "#EF553B",
           "#00cc96",
           "#ab63fa",
           "#FFA15A",
           "#19d3f3",
           "#FF6692",
           "#B6E880",
           "#FF97FF",
           "#FECB52"
          ],
          "font": {
           "color": "#2a3f5f"
          },
          "geo": {
           "bgcolor": "white",
           "lakecolor": "white",
           "landcolor": "#E5ECF6",
           "showlakes": true,
           "showland": true,
           "subunitcolor": "white"
          },
          "hoverlabel": {
           "align": "left"
          },
          "hovermode": "closest",
          "mapbox": {
           "style": "light"
          },
          "paper_bgcolor": "white",
          "plot_bgcolor": "#E5ECF6",
          "polar": {
           "angularaxis": {
            "gridcolor": "white",
            "linecolor": "white",
            "ticks": ""
           },
           "bgcolor": "#E5ECF6",
           "radialaxis": {
            "gridcolor": "white",
            "linecolor": "white",
            "ticks": ""
           }
          },
          "scene": {
           "xaxis": {
            "backgroundcolor": "#E5ECF6",
            "gridcolor": "white",
            "gridwidth": 2,
            "linecolor": "white",
            "showbackground": true,
            "ticks": "",
            "zerolinecolor": "white"
           },
           "yaxis": {
            "backgroundcolor": "#E5ECF6",
            "gridcolor": "white",
            "gridwidth": 2,
            "linecolor": "white",
            "showbackground": true,
            "ticks": "",
            "zerolinecolor": "white"
           },
           "zaxis": {
            "backgroundcolor": "#E5ECF6",
            "gridcolor": "white",
            "gridwidth": 2,
            "linecolor": "white",
            "showbackground": true,
            "ticks": "",
            "zerolinecolor": "white"
           }
          },
          "shapedefaults": {
           "line": {
            "color": "#2a3f5f"
           }
          },
          "ternary": {
           "aaxis": {
            "gridcolor": "white",
            "linecolor": "white",
            "ticks": ""
           },
           "baxis": {
            "gridcolor": "white",
            "linecolor": "white",
            "ticks": ""
           },
           "bgcolor": "#E5ECF6",
           "caxis": {
            "gridcolor": "white",
            "linecolor": "white",
            "ticks": ""
           }
          },
          "title": {
           "x": 0.05
          },
          "xaxis": {
           "automargin": true,
           "gridcolor": "white",
           "linecolor": "white",
           "ticks": "",
           "title": {
            "standoff": 15
           },
           "zerolinecolor": "white",
           "zerolinewidth": 2
          },
          "yaxis": {
           "automargin": true,
           "gridcolor": "white",
           "linecolor": "white",
           "ticks": "",
           "title": {
            "standoff": 15
           },
           "zerolinecolor": "white",
           "zerolinewidth": 2
          }
         }
        },
        "title": {
         "font": {
          "color": "#4D5663"
         }
        },
        "xaxis": {
         "anchor": "y",
         "domain": [
          0,
          0.45
         ],
         "gridcolor": "#E1E5ED",
         "showgrid": true,
         "tickfont": {
          "color": "#4D5663"
         },
         "title": {
          "font": {
           "color": "#4D5663"
          },
          "text": ""
         },
         "zerolinecolor": "#E1E5ED"
        },
        "xaxis2": {
         "anchor": "y2",
         "domain": [
          0.55,
          1
         ],
         "gridcolor": "#E1E5ED",
         "showgrid": true,
         "tickfont": {
          "color": "#4D5663"
         },
         "title": {
          "font": {
           "color": "#4D5663"
          },
          "text": ""
         },
         "zerolinecolor": "#E1E5ED"
        },
        "xaxis3": {
         "anchor": "y3",
         "domain": [
          0,
          0.45
         ],
         "gridcolor": "#E1E5ED",
         "showgrid": true,
         "tickfont": {
          "color": "#4D5663"
         },
         "title": {
          "font": {
           "color": "#4D5663"
          },
          "text": ""
         },
         "zerolinecolor": "#E1E5ED"
        },
        "xaxis4": {
         "anchor": "y4",
         "domain": [
          0.55,
          1
         ],
         "gridcolor": "#E1E5ED",
         "showgrid": true,
         "tickfont": {
          "color": "#4D5663"
         },
         "title": {
          "font": {
           "color": "#4D5663"
          },
          "text": ""
         },
         "zerolinecolor": "#E1E5ED"
        },
        "yaxis": {
         "anchor": "x",
         "domain": [
          0.575,
          1
         ],
         "gridcolor": "#E1E5ED",
         "showgrid": true,
         "tickfont": {
          "color": "#4D5663"
         },
         "title": {
          "font": {
           "color": "#4D5663"
          },
          "text": ""
         },
         "zerolinecolor": "#E1E5ED"
        },
        "yaxis2": {
         "anchor": "x2",
         "domain": [
          0.575,
          1
         ],
         "gridcolor": "#E1E5ED",
         "showgrid": true,
         "tickfont": {
          "color": "#4D5663"
         },
         "title": {
          "font": {
           "color": "#4D5663"
          },
          "text": ""
         },
         "zerolinecolor": "#E1E5ED"
        },
        "yaxis3": {
         "anchor": "x3",
         "domain": [
          0,
          0.425
         ],
         "gridcolor": "#E1E5ED",
         "showgrid": true,
         "tickfont": {
          "color": "#4D5663"
         },
         "title": {
          "font": {
           "color": "#4D5663"
          },
          "text": ""
         },
         "zerolinecolor": "#E1E5ED"
        },
        "yaxis4": {
         "anchor": "x4",
         "domain": [
          0,
          0.425
         ],
         "gridcolor": "#E1E5ED",
         "showgrid": true,
         "tickfont": {
          "color": "#4D5663"
         },
         "title": {
          "font": {
           "color": "#4D5663"
          },
          "text": ""
         },
         "zerolinecolor": "#E1E5ED"
        }
       }
      },
      "text/html": [
       "<div>\n",
       "        \n",
       "        \n",
       "            <div id=\"162bc935-8ba1-416a-b508-8f4ae9d105a3\" class=\"plotly-graph-div\" style=\"height:525px; width:100%;\"></div>\n",
       "            <script type=\"text/javascript\">\n",
       "                require([\"plotly\"], function(Plotly) {\n",
       "                    window.PLOTLYENV=window.PLOTLYENV || {};\n",
       "                    window.PLOTLYENV.BASE_URL='https://plot.ly';\n",
       "                    \n",
       "                if (document.getElementById(\"162bc935-8ba1-416a-b508-8f4ae9d105a3\")) {\n",
       "                    Plotly.newPlot(\n",
       "                        '162bc935-8ba1-416a-b508-8f4ae9d105a3',\n",
       "                        [{\"line\": {\"color\": \"rgba(255, 153, 51, 1.0)\", \"dash\": \"solid\", \"shape\": \"linear\", \"width\": 1.3}, \"mode\": \"lines\", \"name\": \".SPX\", \"text\": \"\", \"type\": \"scatter\", \"x\": [\"2018-01-02\", \"2018-01-03\", \"2018-01-04\", \"2018-01-05\", \"2018-01-08\", \"2018-01-09\", \"2018-01-10\", \"2018-01-11\", \"2018-01-12\", \"2018-01-16\", \"2018-01-17\", \"2018-01-18\", \"2018-01-19\", \"2018-01-22\", \"2018-01-23\", \"2018-01-24\", \"2018-01-25\", \"2018-01-26\", \"2018-01-29\", \"2018-01-30\", \"2018-01-31\", \"2018-02-01\", \"2018-02-02\", \"2018-02-05\", \"2018-02-06\", \"2018-02-07\", \"2018-02-08\", \"2018-02-09\", \"2018-02-12\", \"2018-02-13\", \"2018-02-14\", \"2018-02-15\", \"2018-02-16\", \"2018-02-20\", \"2018-02-21\", \"2018-02-22\", \"2018-02-23\", \"2018-02-26\", \"2018-02-27\", \"2018-02-28\", \"2018-03-01\", \"2018-03-02\", \"2018-03-05\", \"2018-03-06\", \"2018-03-07\", \"2018-03-08\", \"2018-03-09\", \"2018-03-12\", \"2018-03-13\", \"2018-03-14\", \"2018-03-15\", \"2018-03-16\", \"2018-03-19\", \"2018-03-20\", \"2018-03-21\", \"2018-03-22\", \"2018-03-23\", \"2018-03-26\", \"2018-03-27\", \"2018-03-28\", \"2018-03-29\", \"2018-04-02\", \"2018-04-03\", \"2018-04-04\", \"2018-04-05\", \"2018-04-06\", \"2018-04-09\", \"2018-04-10\", \"2018-04-11\", \"2018-04-12\", \"2018-04-13\", \"2018-04-16\", \"2018-04-17\", \"2018-04-18\", \"2018-04-19\", \"2018-04-20\", \"2018-04-23\", \"2018-04-24\", \"2018-04-25\", \"2018-04-26\", \"2018-04-27\", \"2018-04-30\", \"2018-05-01\", \"2018-05-02\", \"2018-05-03\", \"2018-05-04\", \"2018-05-07\", \"2018-05-08\", \"2018-05-09\", \"2018-05-10\", \"2018-05-11\", \"2018-05-14\", \"2018-05-15\", \"2018-05-16\", \"2018-05-17\", \"2018-05-18\", \"2018-05-21\", \"2018-05-22\", \"2018-05-23\", \"2018-05-24\", \"2018-05-25\", \"2018-05-29\", \"2018-05-30\", \"2018-05-31\", \"2018-06-01\", \"2018-06-04\", \"2018-06-05\", \"2018-06-06\", \"2018-06-07\", \"2018-06-08\", \"2018-06-11\", \"2018-06-12\", \"2018-06-13\", \"2018-06-14\", \"2018-06-15\", \"2018-06-18\", \"2018-06-19\", \"2018-06-20\", \"2018-06-21\", \"2018-06-22\", \"2018-06-25\", \"2018-06-26\", \"2018-06-27\", \"2018-06-28\", \"2018-06-29\", \"2018-07-02\", \"2018-07-03\", \"2018-07-05\", \"2018-07-06\", \"2018-07-09\", \"2018-07-10\", \"2018-07-11\", \"2018-07-12\", \"2018-07-13\", \"2018-07-16\", \"2018-07-17\", \"2018-07-18\", \"2018-07-19\", \"2018-07-20\", \"2018-07-23\", \"2018-07-24\", \"2018-07-25\", \"2018-07-26\", \"2018-07-27\", \"2018-07-30\", \"2018-07-31\", \"2018-08-01\", \"2018-08-02\", \"2018-08-03\", \"2018-08-06\", \"2018-08-07\", \"2018-08-08\", \"2018-08-09\", \"2018-08-10\", \"2018-08-13\", \"2018-08-14\", \"2018-08-15\", \"2018-08-16\", \"2018-08-17\", \"2018-08-20\", \"2018-08-21\", \"2018-08-22\", \"2018-08-23\", \"2018-08-24\", \"2018-08-27\", \"2018-08-28\", \"2018-08-29\", \"2018-08-30\", \"2018-08-31\", \"2018-09-04\", \"2018-09-05\", \"2018-09-06\", \"2018-09-07\", \"2018-09-10\", \"2018-09-11\", \"2018-09-12\", \"2018-09-13\", \"2018-09-14\", \"2018-09-17\", \"2018-09-18\", \"2018-09-19\", \"2018-09-20\", \"2018-09-21\", \"2018-09-24\", \"2018-09-25\", \"2018-09-26\", \"2018-09-27\", \"2018-09-28\", \"2018-10-01\", \"2018-10-02\", \"2018-10-03\", \"2018-10-04\", \"2018-10-05\", \"2018-10-08\", \"2018-10-09\", \"2018-10-10\", \"2018-10-11\", \"2018-10-12\", \"2018-10-15\", \"2018-10-16\", \"2018-10-17\", \"2018-10-18\", \"2018-10-19\", \"2018-10-22\", \"2018-10-23\", \"2018-10-24\", \"2018-10-25\", \"2018-10-26\", \"2018-10-29\", \"2018-10-30\", \"2018-10-31\", \"2018-11-01\", \"2018-11-02\", \"2018-11-05\", \"2018-11-06\", \"2018-11-07\", \"2018-11-08\", \"2018-11-09\", \"2018-11-12\", \"2018-11-13\", \"2018-11-14\", \"2018-11-15\", \"2018-11-16\", \"2018-11-19\", \"2018-11-20\", \"2018-11-21\", \"2018-11-23\", \"2018-11-26\", \"2018-11-27\", \"2018-11-28\", \"2018-11-29\", \"2018-11-30\", \"2018-12-03\", \"2018-12-04\", \"2018-12-06\", \"2018-12-07\", \"2018-12-10\", \"2018-12-11\", \"2018-12-12\", \"2018-12-13\", \"2018-12-14\", \"2018-12-17\", \"2018-12-18\", \"2018-12-19\", \"2018-12-20\", \"2018-12-21\", \"2018-12-24\", \"2018-12-26\", \"2018-12-27\", \"2018-12-28\"], \"xaxis\": \"x\", \"y\": [\"\", 0.006378433382130943, 0.004020568037294825, 0.007009177903581761, 0.0016609423836402202, 0.0013020551030292105, -0.001112824506788398, 0.007008997490407507, 0.006726951075669084, -0.003530688627795424, 0.00937095716052361, -0.0016176870607860264, 0.004375641082824612, 0.008034392098314767, 0.002172035902672236, -0.0005601875894072049, 0.0006024531651585847, 0.011771597314994501, -0.006754705760662041, -0.010958608318405548, 0.0004888208887610065, -0.0006482706810167338, -0.021436645011316622, -0.04184256124518214, 0.017290591086863923, -0.0050141453066676256, -0.038259085020510716, 0.0148256265596341, 0.013818684318076369, 0.002609543983683735, 0.013313461230303598, 0.011996836229864197, 0.0003733924947562478, -0.005858531424820395, -0.005511689809002755, 0.0009731208529212048, 0.01590124602558474, 0.011688421260557077, -0.012788286983879777, -0.011157824195769547, -0.013413907890662753, 0.0050587563087125835, 0.01097163914490453, 0.0026353184422145334, -0.0004839667770615435, 0.004453176811945213, 0.01722951151316988, -0.00127477982427725, -0.006383924585162931, -0.0057409415327189526, -0.0007822719394124938, 0.0017020228353889482, -0.014306008195445936, 0.0014807014304161871, -0.0018456884848011977, -0.02548489001614073, -0.021189833248420765, 0.026795026112632157, -0.017427312133270447, -0.0029208740450646013, 0.013675733119263357, -0.022590592580476767, 0.012535934603553565, 0.011500105825438875, 0.006839366240059898, -0.02216402280202734, 0.0033310173527511624, 0.016588521255114928, -0.005540619488903829, 0.008216880187239336, -0.002890821874502216, 0.008076322362107757, 0.010605144127271393, 0.0008310203745819628, -0.005742577941307845, -0.008573180471045841, 5.617525182039568e-05, -0.013470895618345118, 0.0018354334726678417, 0.010380129158368218, 0.0011130162199066156, -0.008221243907144358, 0.0025458022179105093, -0.007231903167589713, -0.0022562397993906034, 0.012729831933829549, 0.003451995069662222, -0.00026569121971978244, 0.009635604216150478, 0.009327000979503942, 0.0017061751151760478, 0.0008831316934816184, -0.006865679959648896, 0.0040523361876279775, -0.0008562100552650634, -0.002635697537311794, 0.007359590175901056, -0.0031406635129493403, 0.003243109408800207, -0.0020252522464269634, -0.0023600281824850003, -0.011631583739263906, 0.012615911702766044, -0.006903336878120701, 0.01079076407564197, 0.004469595089461682, 0.0007023711683356189, 0.00853088317566569, -0.0007144506972109346, 0.0031210606659344705, 0.0010681475490628696, 0.0017418322369011133, -0.004034177279463059, 0.0024684618120292836, -0.0010175922059649557, -0.002128422800086842, -0.004031549765965106, 0.0017106973363122029, -0.006365707692292354, 0.0018602493447316098, -0.013819790665146471, 0.0022021541473088704, -0.008641521386801524, 0.0061596150392206625, 0.0007580943491275485, 0.003063318269638806, -0.004959632808581322, 0.008583806694084265, 0.008445532084704199, 0.008784343615273702, 0.0034671897996766143, -0.0071194619539736125, 0.008710984661528809, 0.0010786485794734959, -0.001028619276585639, 0.003965782536343808, 0.002158157835582412, -0.003960781746415428, -0.0009489291369751974, 0.001836397184893872, 0.0047695465529177935, 0.009060376426541358, -0.003036858079784692, -0.006583879546122514, -0.005770799909402402, 0.004872858193980633, -0.0010409173801414606, 0.004914398127409042, 0.0046333873211502116, 0.0035320512931104955, 0.0028201845679715165, -0.0002624143888119613, -0.0014427591414417902, -0.007139295225622618, -0.004014003101377949, 0.006368919546678298, -0.007631263915857995, 0.007888276759113128, 0.0033176268652185398, 0.002425016695182756, 0.002066430689121701, -0.00039826858501759574, -0.0016926632005294403, 0.006179719474590772, 0.007641124395724228, 0.00026923196567344023, 0.005685235804660677, -0.004440118245784964, 0.0001344213421754606, -0.0016556752036839839, -0.0028071067225424913, -0.003658974194848502, -0.002215757124654065, 0.0018960451407243311, 0.003732862156378708, 0.00035659819551439804, 0.005268348654683924, 0.0002754270858635385, -0.005585314617480499, 0.005354649595431229, 0.0012525249991826694, 0.007809997394075651, -0.0003685742701806347, -0.0035219491222055663, -0.0013059284486635185, -0.0032946695026326335, 0.0027594661468949336, -6.863441535533463e-06, 0.0036344555873070567, -0.0003967154747124362, 0.0007112400153475563, -0.008203069104388573, -0.005543301253226848, -0.0003951473188331464, -0.0014189640475695234, -0.033416333989061714, -0.020787647463574973, 0.014106320709680948, -0.005922538841602318, 0.021267870038650147, -0.00025270816079308065, -0.014496515061645461, -0.00036123513910236955, -0.004308743988789517, -0.005527097324213361, -0.03135083200711912, 0.01845372947933219, -0.017479090705260276, -0.00658123033377329, 0.015545366655688744, 0.010792838671999127, 0.010502452503904892, -0.006336699810107039, 0.005584693817028391, 0.006239826862749526, 0.02098709901578878, -0.002512134997959903, -0.00924156159302086, -0.0198981367275931, -0.0014830044565126614, -0.007596242848709706, 0.010538079545354202, 0.002220812515123669, -0.016783146839093228, -0.018317962154308476, 0.003038654446444182, -0.006576467765855121, 0.015413016366781477, 0.003256395228060269, 0.02271400793888423, -0.0022001085212538245, 0.008152204233588811, 0.010881931492828126, -0.03290020854234479, -0.0015233481015795478, -0.023596383238556007, 0.0017606440003852311, -0.0003564318930519869, 0.005404856335625491, -0.0001999392643992198, -0.019271178750727643, -0.020992280594401735, 8.640835809843542e-05, -0.015515478113209684, -0.01589779340309688, -0.020803200653483116, -0.02748656592240741, 0.04840323899410944, 0.008526177791668824, -0.001242318591321125], \"yaxis\": \"y\"}, {\"line\": {\"color\": \"rgba(55, 128, 191, 1.0)\", \"dash\": \"solid\", \"shape\": \"linear\", \"width\": 1.3}, \"mode\": \"lines\", \"name\": \".VIX\", \"text\": \"\", \"type\": \"scatter\", \"x\": [\"2018-01-02\", \"2018-01-03\", \"2018-01-04\", \"2018-01-05\", \"2018-01-08\", \"2018-01-09\", \"2018-01-10\", \"2018-01-11\", \"2018-01-12\", \"2018-01-16\", \"2018-01-17\", \"2018-01-18\", \"2018-01-19\", \"2018-01-22\", \"2018-01-23\", \"2018-01-24\", \"2018-01-25\", \"2018-01-26\", \"2018-01-29\", \"2018-01-30\", \"2018-01-31\", \"2018-02-01\", \"2018-02-02\", \"2018-02-05\", \"2018-02-06\", \"2018-02-07\", \"2018-02-08\", \"2018-02-09\", \"2018-02-12\", \"2018-02-13\", \"2018-02-14\", \"2018-02-15\", \"2018-02-16\", \"2018-02-20\", \"2018-02-21\", \"2018-02-22\", \"2018-02-23\", \"2018-02-26\", \"2018-02-27\", \"2018-02-28\", \"2018-03-01\", \"2018-03-02\", \"2018-03-05\", \"2018-03-06\", \"2018-03-07\", \"2018-03-08\", \"2018-03-09\", \"2018-03-12\", \"2018-03-13\", \"2018-03-14\", \"2018-03-15\", \"2018-03-16\", \"2018-03-19\", \"2018-03-20\", \"2018-03-21\", \"2018-03-22\", \"2018-03-23\", \"2018-03-26\", \"2018-03-27\", \"2018-03-28\", \"2018-03-29\", \"2018-04-02\", \"2018-04-03\", \"2018-04-04\", \"2018-04-05\", \"2018-04-06\", \"2018-04-09\", \"2018-04-10\", \"2018-04-11\", \"2018-04-12\", \"2018-04-13\", \"2018-04-16\", \"2018-04-17\", \"2018-04-18\", \"2018-04-19\", \"2018-04-20\", \"2018-04-23\", \"2018-04-24\", \"2018-04-25\", \"2018-04-26\", \"2018-04-27\", \"2018-04-30\", \"2018-05-01\", \"2018-05-02\", \"2018-05-03\", \"2018-05-04\", \"2018-05-07\", \"2018-05-08\", \"2018-05-09\", \"2018-05-10\", \"2018-05-11\", \"2018-05-14\", \"2018-05-15\", \"2018-05-16\", \"2018-05-17\", \"2018-05-18\", \"2018-05-21\", \"2018-05-22\", \"2018-05-23\", \"2018-05-24\", \"2018-05-25\", \"2018-05-29\", \"2018-05-30\", \"2018-05-31\", \"2018-06-01\", \"2018-06-04\", \"2018-06-05\", \"2018-06-06\", \"2018-06-07\", \"2018-06-08\", \"2018-06-11\", \"2018-06-12\", \"2018-06-13\", \"2018-06-14\", \"2018-06-15\", \"2018-06-18\", \"2018-06-19\", \"2018-06-20\", \"2018-06-21\", \"2018-06-22\", \"2018-06-25\", \"2018-06-26\", \"2018-06-27\", \"2018-06-28\", \"2018-06-29\", \"2018-07-02\", \"2018-07-03\", \"2018-07-05\", \"2018-07-06\", \"2018-07-09\", \"2018-07-10\", \"2018-07-11\", \"2018-07-12\", \"2018-07-13\", \"2018-07-16\", \"2018-07-17\", \"2018-07-18\", \"2018-07-19\", \"2018-07-20\", \"2018-07-23\", \"2018-07-24\", \"2018-07-25\", \"2018-07-26\", \"2018-07-27\", \"2018-07-30\", \"2018-07-31\", \"2018-08-01\", \"2018-08-02\", \"2018-08-03\", \"2018-08-06\", \"2018-08-07\", \"2018-08-08\", \"2018-08-09\", \"2018-08-10\", \"2018-08-13\", \"2018-08-14\", \"2018-08-15\", \"2018-08-16\", \"2018-08-17\", \"2018-08-20\", \"2018-08-21\", \"2018-08-22\", \"2018-08-23\", \"2018-08-24\", \"2018-08-27\", \"2018-08-28\", \"2018-08-29\", \"2018-08-30\", \"2018-08-31\", \"2018-09-04\", \"2018-09-05\", \"2018-09-06\", \"2018-09-07\", \"2018-09-10\", \"2018-09-11\", \"2018-09-12\", \"2018-09-13\", \"2018-09-14\", \"2018-09-17\", \"2018-09-18\", \"2018-09-19\", \"2018-09-20\", \"2018-09-21\", \"2018-09-24\", \"2018-09-25\", \"2018-09-26\", \"2018-09-27\", \"2018-09-28\", \"2018-10-01\", \"2018-10-02\", \"2018-10-03\", \"2018-10-04\", \"2018-10-05\", \"2018-10-08\", \"2018-10-09\", \"2018-10-10\", \"2018-10-11\", \"2018-10-12\", \"2018-10-15\", \"2018-10-16\", \"2018-10-17\", \"2018-10-18\", \"2018-10-19\", \"2018-10-22\", \"2018-10-23\", \"2018-10-24\", \"2018-10-25\", \"2018-10-26\", \"2018-10-29\", \"2018-10-30\", \"2018-10-31\", \"2018-11-01\", \"2018-11-02\", \"2018-11-05\", \"2018-11-06\", \"2018-11-07\", \"2018-11-08\", \"2018-11-09\", \"2018-11-12\", \"2018-11-13\", \"2018-11-14\", \"2018-11-15\", \"2018-11-16\", \"2018-11-19\", \"2018-11-20\", \"2018-11-21\", \"2018-11-23\", \"2018-11-26\", \"2018-11-27\", \"2018-11-28\", \"2018-11-29\", \"2018-11-30\", \"2018-12-03\", \"2018-12-04\", \"2018-12-06\", \"2018-12-07\", \"2018-12-10\", \"2018-12-11\", \"2018-12-12\", \"2018-12-13\", \"2018-12-14\", \"2018-12-17\", \"2018-12-18\", \"2018-12-19\", \"2018-12-20\", \"2018-12-21\", \"2018-12-24\", \"2018-12-26\", \"2018-12-27\", \"2018-12-28\"], \"xaxis\": \"x2\", \"y\": [\"\", -0.06556258676726137, 0.007621158281072566, 0.0, 0.03201981123477136, 0.05715841383994862, -0.026132140276848057, 0.006091389393401913, 0.027945930390559322, 0.13770573877201045, 0.021214202444862402, 0.025695570376240602, -0.08092962569176444, -0.021525494786273903, 0.0063262750528773806, 0.03278982282299097, 0.009544541003569872, -0.04413779082571144, 0.22242126887038574, 0.06638832653318481, -0.08830300923857955, -0.0051832770618562354, 0.25081937876584515, 0.7682450067910253, -0.2189988833046914, -0.07801563304676497, 0.18783583593099118, -0.14098803741654117, -0.1263797579307029, -0.025307795919752074, -0.2596446979217022, -0.006772622917818084, 0.017103293305697584, 0.056929999037676315, -0.028559301908460927, -0.06713930283762856, -0.1268383344779385, -0.04274419653858626, 0.16261386170043138, 0.06558020539984692, 0.12397707906403822, -0.1371618542407884, -0.04489271550045216, -0.019952131263652837, -0.03322564762832028, -0.07116704796847889, -0.12202418106237968, 0.0749858068845626, 0.03548458192553425, 0.052424153196575785, -0.03785194633748519, -0.048790164169431945, 0.1854811170843231, -0.044069463034494646, -0.018858018634396723, 0.26760505141005686, 0.06349363095690341, -0.16771226810070491, 0.067565319495766, 0.01631069882431536, -0.13559486060696607, 0.16786266334149255, -0.11282077028719545, -0.050545257948231524, -0.05745169477585721, 0.12631162289648679, 0.012945164592036986, -0.06157247557325795, -0.011299555253933394, -0.09043079902023132, -0.06018529161893569, -0.050054604822984114, -0.0824106459036929, 0.02269141120207067, 0.022814677766171482, 0.056043897146148186, -0.0325133997359542, 0.09786616274833501, -0.010039125028328542, -0.09396579241833147, -0.05246068540150737, 0.033187474589932674, -0.028009469493179846, 0.03051730779814392, -0.004392853000735216, -0.0737210126828975, -0.0013550137574595356, -0.0027155481724826388, -0.09178140306981042, -0.014259153416671423, -0.044829762953335024, 0.021892977610236744, 0.12352402224826683, -0.08632808348849726, 0.0007448789916104024, -0.0007448789916104893, -0.02566178551448305, 0.010646488394487704, -0.04962258315124579, -0.003982482364317597, 0.053605065515563335, 0.2526582887216878, -0.13034694344055683, 0.03227148667039819, -0.1365913421584876, -0.05497567407256449, -0.02705017753302606, -0.0632490303076994, 0.04123428065266707, 0.004113539325792162, 0.013860800792235166, -0.0008100445967444326, 0.04747727059551264, -0.0654663084315861, -0.011618387953864964, 0.027173347509058962, 0.08110444464989636, -0.042852769255507274, 0.13509389294241428, -0.06126519579260206, 0.22994679098695117, -0.08486292331127764, 0.11778303565638346, -0.06100855927424957, -0.04615269579407903, -0.030927046748800438, 0.03402974858631147, -0.0752524644102657, -0.11303480731768534, -0.05219910938755551, -0.0039478930075848235, 0.07540685698972996, -0.0801649944361468, -0.03231298899054357, 0.05199091634579419, -0.06189198732850568, 0.003311261303656005, 0.06169356900533996, -0.0007773027985619028, -0.01883886169640624, -0.01678025789655123, -0.009716675638572427, -0.012280137946591087, 0.07074860550540152, 0.0902040238493962, -0.1056722363586048, 0.02463557999622855, -0.07580581513059352, -0.04616850118988831, -0.032303114251606944, -0.03063302586323775, -0.0073462222019785904, 0.03797924806521647, 0.1550375978454862, 0.11609298962288443, -0.10475928311303534, 0.09524187612614528, -0.08477840248531746, -0.062112717329136626, -0.01193806458122512, 0.02919339467198686, -0.04859578181873729, 0.012976662225779785, -0.03442963017709299, 0.014078907498598088, 0.0275767677702344, -0.020202707317519466, 0.09938350519196061, -0.05078772337322338, 0.02306020708769788, 0.05542608003818041, 0.051832329527724715, 0.015577693941869593, -0.04959694113937218, -0.06869025384203345, -0.006069821367075834, -0.060386826652068064, -0.024551151294956296, 0.12521187708496426, -0.06727129660365316, -0.08481037500058325, 0.004246290881451224, -0.010221554071538139, 0.04355797433912994, 0.01787212476612183, 0.03714374044576326, -0.03794921773458017, -0.023645618575347544, -0.00995033085316798, 0.004158010148663677, -0.03719786422686397, 0.20278262866529484, 0.04132819549284594, 0.05704594687700034, 0.016435262485912427, 0.3642947422205121, 0.08432193324606585, -0.15889905858690592, -0.00046937339514628774, -0.18967245220734602, -0.01256441428755019, 0.14225757631330616, -0.008510689667908506, -0.012648789939560956, 0.053048372481172966, 0.19741708724547352, -0.04085502452802026, -0.002480365058331954, 0.022104870567317345, -0.056206259519025095, -0.0951817083997416, -0.0932397856900165, 0.008751664609871588, 0.02280311624829812, -0.0025081528072130235, -0.19638278690150401, 0.021766276481954505, 0.03756310157564852, 0.1638141732566067, -0.02125110860173622, 0.05962512148335139, -0.06162512215001838, -0.09661232853341695, 0.1026003703780396, 0.11190620996046019, -0.07767303831821802, 0.034029748586311255, -0.12982081322798708, 0.00632913505164753, -0.02826101171821082, 0.01609476802634045, -0.039071708821236804, -0.09453571497610323, 0.2323468131733473, 0.021465169478826665, 0.09191517450210994, -0.02572629344733556, -0.03964483134724025, -0.013882684785189472, -0.03847541779551081, 0.04636592055792556, 0.12540787110304327, 0.042321685082685835, 0.0, 0.10387387558119997, 0.05917267076174585, 0.1806041524218052, -0.1706899932261744, -0.014908343040254556, -0.055588924386484335], \"yaxis\": \"y2\"}, {\"line\": {\"color\": \"rgba(50, 171, 96, 1.0)\", \"dash\": \"solid\", \"shape\": \"linear\", \"width\": 1.3}, \"mode\": \"lines\", \"name\": \"IBM.N\", \"text\": \"\", \"type\": \"scatter\", \"x\": [\"2018-01-02\", \"2018-01-03\", \"2018-01-04\", \"2018-01-05\", \"2018-01-08\", \"2018-01-09\", \"2018-01-10\", \"2018-01-11\", \"2018-01-12\", \"2018-01-16\", \"2018-01-17\", \"2018-01-18\", \"2018-01-19\", \"2018-01-22\", \"2018-01-23\", \"2018-01-24\", \"2018-01-25\", \"2018-01-26\", \"2018-01-29\", \"2018-01-30\", \"2018-01-31\", \"2018-02-01\", \"2018-02-02\", \"2018-02-05\", \"2018-02-06\", \"2018-02-07\", \"2018-02-08\", \"2018-02-09\", \"2018-02-12\", \"2018-02-13\", \"2018-02-14\", \"2018-02-15\", \"2018-02-16\", \"2018-02-20\", \"2018-02-21\", \"2018-02-22\", \"2018-02-23\", \"2018-02-26\", \"2018-02-27\", \"2018-02-28\", \"2018-03-01\", \"2018-03-02\", \"2018-03-05\", \"2018-03-06\", \"2018-03-07\", \"2018-03-08\", \"2018-03-09\", \"2018-03-12\", \"2018-03-13\", \"2018-03-14\", \"2018-03-15\", \"2018-03-16\", \"2018-03-19\", \"2018-03-20\", \"2018-03-21\", \"2018-03-22\", \"2018-03-23\", \"2018-03-26\", \"2018-03-27\", \"2018-03-28\", \"2018-03-29\", \"2018-04-02\", \"2018-04-03\", \"2018-04-04\", \"2018-04-05\", \"2018-04-06\", \"2018-04-09\", \"2018-04-10\", \"2018-04-11\", \"2018-04-12\", \"2018-04-13\", \"2018-04-16\", \"2018-04-17\", \"2018-04-18\", \"2018-04-19\", \"2018-04-20\", \"2018-04-23\", \"2018-04-24\", \"2018-04-25\", \"2018-04-26\", \"2018-04-27\", \"2018-04-30\", \"2018-05-01\", \"2018-05-02\", \"2018-05-03\", \"2018-05-04\", \"2018-05-07\", \"2018-05-08\", \"2018-05-09\", \"2018-05-10\", \"2018-05-11\", \"2018-05-14\", \"2018-05-15\", \"2018-05-16\", \"2018-05-17\", \"2018-05-18\", \"2018-05-21\", \"2018-05-22\", \"2018-05-23\", \"2018-05-24\", \"2018-05-25\", \"2018-05-29\", \"2018-05-30\", \"2018-05-31\", \"2018-06-01\", \"2018-06-04\", \"2018-06-05\", \"2018-06-06\", \"2018-06-07\", \"2018-06-08\", \"2018-06-11\", \"2018-06-12\", \"2018-06-13\", \"2018-06-14\", \"2018-06-15\", \"2018-06-18\", \"2018-06-19\", \"2018-06-20\", \"2018-06-21\", \"2018-06-22\", \"2018-06-25\", \"2018-06-26\", \"2018-06-27\", \"2018-06-28\", \"2018-06-29\", \"2018-07-02\", \"2018-07-03\", \"2018-07-05\", \"2018-07-06\", \"2018-07-09\", \"2018-07-10\", \"2018-07-11\", \"2018-07-12\", \"2018-07-13\", \"2018-07-16\", \"2018-07-17\", \"2018-07-18\", \"2018-07-19\", \"2018-07-20\", \"2018-07-23\", \"2018-07-24\", \"2018-07-25\", \"2018-07-26\", \"2018-07-27\", \"2018-07-30\", \"2018-07-31\", \"2018-08-01\", \"2018-08-02\", \"2018-08-03\", \"2018-08-06\", \"2018-08-07\", \"2018-08-08\", \"2018-08-09\", \"2018-08-10\", \"2018-08-13\", \"2018-08-14\", \"2018-08-15\", \"2018-08-16\", \"2018-08-17\", \"2018-08-20\", \"2018-08-21\", \"2018-08-22\", \"2018-08-23\", \"2018-08-24\", \"2018-08-27\", \"2018-08-28\", \"2018-08-29\", \"2018-08-30\", \"2018-08-31\", \"2018-09-04\", \"2018-09-05\", \"2018-09-06\", \"2018-09-07\", \"2018-09-10\", \"2018-09-11\", \"2018-09-12\", \"2018-09-13\", \"2018-09-14\", \"2018-09-17\", \"2018-09-18\", \"2018-09-19\", \"2018-09-20\", \"2018-09-21\", \"2018-09-24\", \"2018-09-25\", \"2018-09-26\", \"2018-09-27\", \"2018-09-28\", \"2018-10-01\", \"2018-10-02\", \"2018-10-03\", \"2018-10-04\", \"2018-10-05\", \"2018-10-08\", \"2018-10-09\", \"2018-10-10\", \"2018-10-11\", \"2018-10-12\", \"2018-10-15\", \"2018-10-16\", \"2018-10-17\", \"2018-10-18\", \"2018-10-19\", \"2018-10-22\", \"2018-10-23\", \"2018-10-24\", \"2018-10-25\", \"2018-10-26\", \"2018-10-29\", \"2018-10-30\", \"2018-10-31\", \"2018-11-01\", \"2018-11-02\", \"2018-11-05\", \"2018-11-06\", \"2018-11-07\", \"2018-11-08\", \"2018-11-09\", \"2018-11-12\", \"2018-11-13\", \"2018-11-14\", \"2018-11-15\", \"2018-11-16\", \"2018-11-19\", \"2018-11-20\", \"2018-11-21\", \"2018-11-23\", \"2018-11-26\", \"2018-11-27\", \"2018-11-28\", \"2018-11-29\", \"2018-11-30\", \"2018-12-03\", \"2018-12-04\", \"2018-12-06\", \"2018-12-07\", \"2018-12-10\", \"2018-12-11\", \"2018-12-12\", \"2018-12-13\", \"2018-12-14\", \"2018-12-17\", \"2018-12-18\", \"2018-12-19\", \"2018-12-20\", \"2018-12-21\", \"2018-12-24\", \"2018-12-26\", \"2018-12-27\", \"2018-12-28\"], \"xaxis\": \"x3\", \"y\": [\"\", 0.027116837058836968, 0.020051266738726987, 0.004873694831623795, 0.006013025848431804, 0.0021998175690555273, 0.0021340820879480415, 0.00012181009820770537, -0.006476469145893462, 0.004342647272389399, 0.028874186362835647, 0.0027829606142683013, -0.04073084052290443, 0.0014155155146871952, 0.022199482422253277, -0.005307291873858537, 0.0006045218416479031, 0.011237761363699713, -0.0032321809428061113, -0.019248823839094265, 0.0004888182915370262, -0.007973056649511517, -0.02096956405975314, -0.041731565655982614, 0.018254964979659567, -0.009638161223450542, -0.041539942574366225, 0.0129251210321519, 0.012562060777512063, -0.0043025053960536455, 0.026252694225017414, 0.008044577926845837, 0.001089080475371108, -0.0065523456627626315, -0.0077640141562209854, -0.005079127934097918, 0.015160640230681446, 0.019484857132124, -0.012883750071838108, -0.004609778314891565, -0.013047594993804234, 0.004411294860239468, 0.015797913964004182, -0.007867760545707524, 0.016558778552055377, -0.013417045451392792, 0.01965073374188608, 0.005945506765120877, -0.005882738036480977, -0.007560519884958629, 0.009379101265982397, 0.0040641566554572945, -0.018324872839508583, -0.007335386104830278, 0.0031320937107315525, -0.029796880232039687, -0.02126467261681837, 0.0296455243952295, -0.009565062443117256, 0.004007494769791684, 0.005948701967751251, -0.022142585049216162, -0.0014670581452260302, 0.028096725995284667, -0.0005841311215905592, -0.022719296301414338, 0.013981629860468319, 0.017528363603222526, -0.00019308125562787548, 0.01729296834628922, -0.008641009354179328, 0.007501624498672444, 0.018946614437261495, -0.07830928663145287, -0.007352726302271944, -0.019139340210697284, 0.006603408229450428, -0.002058884812128014, 0.002607205593515037, 0.005330430170680718, -0.0016371081418995374, -0.010431058071585913, 0.00027590012590512073, -0.017742681476657148, -0.003234428357650822, 0.01343147159581575, -0.004806194603288493, -0.001537279318886478, -0.002730998511231517, 0.011364947146386289, -0.0006935293987669588, 0.0011094162835303249, -0.0038883537395286655, 0.006172645045343983, -0.00089924953315375, -0.002910806684786168, 0.009738654859596565, -0.00275311619970355, -0.0028989528860950925, -0.004155994068117177, -0.002989123215499534, -0.016991211269681162, 0.009864792511956851, -0.009227692005502726, 0.004518824324325221, 0.007649428506223734, 0.004603481659775134, 0.007003946664922173, 0.0044816843380145206, 0.0053516422751558506, 0.0030062881346324304, 0.0019764872680669856, -0.0035468286278763157, -0.00788891074719916, 0.001307684552638489, -0.00627869727465892, -0.004022475775353021, -0.008864749357991347, -0.009722494508780577, 0.00021236682909961597, -0.017781737487901527, 0.0020873077719122616, -0.01157085515802766, 0.018449644104831863, -0.002430829823548774, 0.0011446560128048437, -0.0020756547551679673, 0.013238627511855566, 0.007396743948997623, 0.013316333001721544, 0.0022137677667738533, 0.0015881239312340017, 0.01036420959260704, -0.0037626177450024605, -0.003020320802345362, -0.013635788366079414, 0.007152559919124317, 0.032137842073517706, -0.019554735215062354, -0.0044512999367357165, 0.0046562669719219605, 0.0016382256223594477, 0.0006136433561120868, -0.01069015868091382, 0.0023396652566585402, -0.003856488492872312, -0.009915832034749222, -0.003770164348503154, 0.03261831868616144, -0.011371109484953902, 0.006688531623494724, -0.0008166043325514112, -0.014537731177371184, -0.0020051864972770767, -0.012326490556375363, 0.004544350114320483, 0.0038291549554618108, 0.009887721006407607, 0.004941671003473931, 0.003076189321257941, -0.003692564370734906, -0.00501357459635155, 0.0008946698920983564, 0.0045983403492024936, 0.004440959712235442, -0.0006819421977316282, 0.006459751154216399, -0.010972270776501673, 0.0037618456866008367, -0.005476464946902586, 0.0067045472463009535, -0.0018426894823330843, -0.0064419082421097815, 0.0013740984642330982, 0.005750683336235048, 0.0005459632975305651, 0.016107549120081895, -0.0041711578237700895, -0.0026327351757995366, 0.0041821308847287, 0.003359992409097509, 0.013923811771919266, 0.0013223142422604428, -0.008759761368805576, -0.007493177496808342, 0.017969337491376764, -0.0007258091440665238, -0.0019160258248459704, 0.011768322267857708, 0.00488998529419177, -0.003453109597952429, -0.012544084625195462, -0.015183084502777972, -0.00430368494266648, -0.007780034507214511, -0.03138946356833658, -0.026056637270143956, 0.013077686650041762, 0.001985957103534063, 0.027879534940911, -0.07934812168485816, -0.026456569536830468, -0.01116899729254119, 0.007100986923725969, 0.009110808341301712, -0.030959828949504924, -0.0059922910521452944, -0.013214648596211184, -0.042145090758015716, -0.03608287968774799, 0.0002599315528216282, 0.012055601102236132, -0.009978577421746803, 0.0372503085163868, 0.02516787170692669, 0.013873427871954922, -0.011763893621086185, 0.0012959664862605543, -0.021601232647006138, -0.0004964011022757799, -0.005310334417364019, 0.010263291546212494, 0.0010699149203828287, -0.010418483522269411, -0.026189867902520928, 0.011621626327066833, -0.01170695419946812, 0.020021788145226257, 0.003923374121516301, 0.024442643835164164, -0.012434715194869451, 0.022706977640355175, 0.008334049359290488, -0.03005369764512709, 0.01881852609633491, -0.0375789335344657, 0.014887786934774867, -0.001983307814810227, 0.002230944945135967, -0.0035553388147404807, -0.0068985853108274025, -0.03220617332962279, 0.004726109763593342, -0.0018877644185143004, -0.029725439847227454, -0.018575279574608736, -0.03084771618317448, 0.03489575841318448, 0.02122920246540302, -0.006613489119861602], \"yaxis\": \"y3\"}, {\"line\": {\"color\": \"rgba(128, 0, 128, 1.0)\", \"dash\": \"solid\", \"shape\": \"linear\", \"width\": 1.3}, \"mode\": \"lines\", \"name\": \"GE\", \"text\": \"\", \"type\": \"scatter\", \"x\": [\"2018-01-02\", \"2018-01-03\", \"2018-01-04\", \"2018-01-05\", \"2018-01-08\", \"2018-01-09\", \"2018-01-10\", \"2018-01-11\", \"2018-01-12\", \"2018-01-16\", \"2018-01-17\", \"2018-01-18\", \"2018-01-19\", \"2018-01-22\", \"2018-01-23\", \"2018-01-24\", \"2018-01-25\", \"2018-01-26\", \"2018-01-29\", \"2018-01-30\", \"2018-01-31\", \"2018-02-01\", \"2018-02-02\", \"2018-02-05\", \"2018-02-06\", \"2018-02-07\", \"2018-02-08\", \"2018-02-09\", \"2018-02-12\", \"2018-02-13\", \"2018-02-14\", \"2018-02-15\", \"2018-02-16\", \"2018-02-20\", \"2018-02-21\", \"2018-02-22\", \"2018-02-23\", \"2018-02-26\", \"2018-02-27\", \"2018-02-28\", \"2018-03-01\", \"2018-03-02\", \"2018-03-05\", \"2018-03-06\", \"2018-03-07\", \"2018-03-08\", \"2018-03-09\", \"2018-03-12\", \"2018-03-13\", \"2018-03-14\", \"2018-03-15\", \"2018-03-16\", \"2018-03-19\", \"2018-03-20\", \"2018-03-21\", \"2018-03-22\", \"2018-03-23\", \"2018-03-26\", \"2018-03-27\", \"2018-03-28\", \"2018-03-29\", \"2018-04-02\", \"2018-04-03\", \"2018-04-04\", \"2018-04-05\", \"2018-04-06\", \"2018-04-09\", \"2018-04-10\", \"2018-04-11\", \"2018-04-12\", \"2018-04-13\", \"2018-04-16\", \"2018-04-17\", \"2018-04-18\", \"2018-04-19\", \"2018-04-20\", \"2018-04-23\", \"2018-04-24\", \"2018-04-25\", \"2018-04-26\", \"2018-04-27\", \"2018-04-30\", \"2018-05-01\", \"2018-05-02\", \"2018-05-03\", \"2018-05-04\", \"2018-05-07\", \"2018-05-08\", \"2018-05-09\", \"2018-05-10\", \"2018-05-11\", \"2018-05-14\", \"2018-05-15\", \"2018-05-16\", \"2018-05-17\", \"2018-05-18\", \"2018-05-21\", \"2018-05-22\", \"2018-05-23\", \"2018-05-24\", \"2018-05-25\", \"2018-05-29\", \"2018-05-30\", \"2018-05-31\", \"2018-06-01\", \"2018-06-04\", \"2018-06-05\", \"2018-06-06\", \"2018-06-07\", \"2018-06-08\", \"2018-06-11\", \"2018-06-12\", \"2018-06-13\", \"2018-06-14\", \"2018-06-15\", \"2018-06-18\", \"2018-06-19\", \"2018-06-20\", \"2018-06-21\", \"2018-06-22\", \"2018-06-25\", \"2018-06-26\", \"2018-06-27\", \"2018-06-28\", \"2018-06-29\", \"2018-07-02\", \"2018-07-03\", \"2018-07-05\", \"2018-07-06\", \"2018-07-09\", \"2018-07-10\", \"2018-07-11\", \"2018-07-12\", \"2018-07-13\", \"2018-07-16\", \"2018-07-17\", \"2018-07-18\", \"2018-07-19\", \"2018-07-20\", \"2018-07-23\", \"2018-07-24\", \"2018-07-25\", \"2018-07-26\", \"2018-07-27\", \"2018-07-30\", \"2018-07-31\", \"2018-08-01\", \"2018-08-02\", \"2018-08-03\", \"2018-08-06\", \"2018-08-07\", \"2018-08-08\", \"2018-08-09\", \"2018-08-10\", \"2018-08-13\", \"2018-08-14\", \"2018-08-15\", \"2018-08-16\", \"2018-08-17\", \"2018-08-20\", \"2018-08-21\", \"2018-08-22\", \"2018-08-23\", \"2018-08-24\", \"2018-08-27\", \"2018-08-28\", \"2018-08-29\", \"2018-08-30\", \"2018-08-31\", \"2018-09-04\", \"2018-09-05\", \"2018-09-06\", \"2018-09-07\", \"2018-09-10\", \"2018-09-11\", \"2018-09-12\", \"2018-09-13\", \"2018-09-14\", \"2018-09-17\", \"2018-09-18\", \"2018-09-19\", \"2018-09-20\", \"2018-09-21\", \"2018-09-24\", \"2018-09-25\", \"2018-09-26\", \"2018-09-27\", \"2018-09-28\", \"2018-10-01\", \"2018-10-02\", \"2018-10-03\", \"2018-10-04\", \"2018-10-05\", \"2018-10-08\", \"2018-10-09\", \"2018-10-10\", \"2018-10-11\", \"2018-10-12\", \"2018-10-15\", \"2018-10-16\", \"2018-10-17\", \"2018-10-18\", \"2018-10-19\", \"2018-10-22\", \"2018-10-23\", \"2018-10-24\", \"2018-10-25\", \"2018-10-26\", \"2018-10-29\", \"2018-10-30\", \"2018-10-31\", \"2018-11-01\", \"2018-11-02\", \"2018-11-05\", \"2018-11-06\", \"2018-11-07\", \"2018-11-08\", \"2018-11-09\", \"2018-11-12\", \"2018-11-13\", \"2018-11-14\", \"2018-11-15\", \"2018-11-16\", \"2018-11-19\", \"2018-11-20\", \"2018-11-21\", \"2018-11-23\", \"2018-11-26\", \"2018-11-27\", \"2018-11-28\", \"2018-11-29\", \"2018-11-30\", \"2018-12-03\", \"2018-12-04\", \"2018-12-06\", \"2018-12-07\", \"2018-12-10\", \"2018-12-11\", \"2018-12-12\", \"2018-12-13\", \"2018-12-14\", \"2018-12-17\", \"2018-12-18\", \"2018-12-19\", \"2018-12-20\", \"2018-12-21\", \"2018-12-24\", \"2018-12-26\", \"2018-12-27\", \"2018-12-28\"], \"xaxis\": \"x4\", \"y\": [\"\", 0.00941055057129217, 0.020720457841055473, 0.000539547336084464, -0.014123035857831348, 0.015201201929337986, 0.019686375765896286, 0.00479592823683552, -0.013764099136370006, -0.029756046580163713, -0.04837839491988622, -0.0340009563009875, -0.030883471600998986, -0.005550392665072862, 0.043564011978465156, -0.027004345013157714, -0.015941461728113393, -0.0030949840566263233, 0.009256426681646912, -0.020478542801681238, 0.013698894939466527, -0.009319754478404321, -0.024006181278505342, -0.047799658893104294, 0.023858034730089343, -0.0013106147922281183, -0.05388510194956609, 0.03334776572449385, -0.008064551379330064, -0.010173052403817372, 0.015556639833886802, -0.0033613792037728604, 0.013378181570935453, -0.02081311718921233, -0.017106148060774665, 0.008931724310637604, -0.008931724310637486, 0.010981567760885666, -0.010291639512106002, -0.027264890680432488, -0.006398914496483625, 0.0071073431015203714, 0.021023878332555864, 0.015141432558101691, -0.008919467935448538, 0.0006889776079610302, 0.028515140095531202, 0.01065255304877448, -0.04538535909906849, -0.011149929576136721, 0.006287089283661084, -0.0034879301588429962, -0.016913704461274767, -0.031038223047535004, 0.017442284200497156, -0.03893256753755552, -0.0211968346730227, -0.01386777638669082, 0.041783515561769236, 0.017699635491962823, -0.014727868088719953, -0.027069294439541543, 0.0007619436294960775, 0.011359404483620031, 0.01123189384344782, -0.027936896888558962, -0.017767967199168136, 0.017002017771755265, -0.006149209011383651, 0.016061554236663556, 0.02324815612406141, -0.0119315235329371, 0.033926522469849445, -0.009471789891566025, 0.023870872204294586, 0.03856075277707326, -0.0013764612304544995, 0.010959002076352531, -0.0438636167641245, 0.023215895702742757, 0.0, -0.021793421882327288, -0.0014224738204155845, 0.009210078799016825, -0.017787752219601598, 0.012130034327290989, -0.0021298870862908013, 0.014114545336456773, 0.024231033104983143, 0.0047764953692561556, -0.006145419514473938, 0.0075059625459013984, 0.0, 0.02152071653436836, 0.0, -0.004000070526430301, 0.01918684236168224, 0.0019640260976044456, -0.07536652633074718, 0.029189049317620914, 0.0020526485720225142, -0.031241697889643434, -0.000705429968325591, -0.006371733110977042, 0.0014194451869919864, -0.02804931236654937, 0.006543129600649102, -0.011661927367925535, 0.010211602322046846, 0.010826473484488074, 0.0035829826152095684, 0.0, -0.006458610737293345, -0.018162447684450952, -0.025242668110158625, -0.007547197932008842, -0.019121061834294455, -0.005420021627196527, -0.009360432884924188, 0.022472872157873334, -0.02325691843531546, 0.0747800552736756, 0.015884793835204813, -0.009355979461433125, -0.016035312598350362, -0.017791407026209433, 0.0, 0.0044776147283997975, 0.030794190386432052, 0.007194268365055093, 0.01564760322106098, -0.01278432568953791, 0.0, -0.007173624683821882, 0.0007197200642425607, -0.015223222758750427, 0.004373180335686756, -0.0014556028448690546, -0.04544542835206212, -0.009957982560304703, 0.009957982560304748, -0.0007624452778280713, 0.003046457589584336, -0.006867667243751172, 0.007627794180104502, 0.03509132253716639, -0.02903070413491865, -0.005300989829052743, -0.0022805398497267476, -0.0030487797066807427, 0.004569690983212366, -0.008393743607517518, -0.00846487574504221, -0.01322464584761792, -0.025378020960162673, -0.008064551379329953, -0.010582140694896817, 0.00652530199048651, 0.0, 0.0, 0.02647568864959477, -0.012749163459828848, 0.00559781117140481, -0.003194887445407873, 0.02136996212814017, -0.0007833505652132262, 0.01632366314648962, -0.015540312581276531, 0.013224645847617893, -0.021086313521801053, -0.00871978289058371, -0.0039888738368321075, -0.008831884594665374, 0.008831884594665383, -0.014492992127684675, 0.022454809382398726, 0.007898927110953417, -0.0023630927499184184, 0.0015760427758359883, -0.003154573383949166, 0.015674285479915534, -0.031598255181826594, -0.023549539744599102, -0.035972097769155775, -0.04085748815668424, 0.010591438223470782, 0.012216544068181505, -0.021034934062265774, 0.0684613023941568, 0.01884523117824318, 0.012903391845010579, 0.014320121725553237, 0.04025307021190304, 0.03210429338850174, -0.004418264768352939, -0.020127421372904623, -0.04308354130211555, -0.03195164972759554, -0.013894731329944237, -0.004123755749280127, 0.007410525943913525, 0.015466265375450332, 0.014434962159620684, -0.014434962159620715, 0.024732030825876026, -0.04184033094196188, -0.030874386104352843, -0.04329685100459091, -0.01246675606110652, -0.09191094931043234, -0.007889579180774577, -0.05285777595571163, -0.030739061249466154, -0.0010770609325124276, 0.014973526795562606, -0.023631580765439558, -0.010929059348722334, -0.05884043766663036, -0.0712432684448015, 0.07473360916940675, -0.0342620903276357, -0.018193263929337525, -0.018530531607685495, -0.022699563690978124, -0.024533228152964052, 0.02069929511864998, -0.03121186472926655, 0.0013201994672686745, -0.018642469975612145, 0.03953093522625397, 0.025511560572853552, -0.0570101932240069, 0.04050183266250945, -0.0702741003622074, 0.009569512258950376, -0.04736256069119798, -0.011478025112896827, -0.024836821662496542, -0.007424008563569633, 0.0704820786990599, -0.013986227729479307, 0.007017638235228438, 0.01801841456640158, 0.05088120773155164, -0.02914124260695437, -0.03975837969099891, -0.03269662597393522, 0.06571196878882359, -0.01637142598751331, 0.03247913993320376], \"yaxis\": \"y4\"}],\n",
       "                        {\"legend\": {\"bgcolor\": \"#F5F6F9\", \"font\": {\"color\": \"#4D5663\"}}, \"paper_bgcolor\": \"#F5F6F9\", \"plot_bgcolor\": \"#F5F6F9\", \"template\": {\"data\": {\"bar\": [{\"error_x\": {\"color\": \"#2a3f5f\"}, \"error_y\": {\"color\": \"#2a3f5f\"}, \"marker\": {\"line\": {\"color\": \"#E5ECF6\", \"width\": 0.5}}, \"type\": \"bar\"}], \"barpolar\": [{\"marker\": {\"line\": {\"color\": \"#E5ECF6\", \"width\": 0.5}}, \"type\": \"barpolar\"}], \"carpet\": [{\"aaxis\": {\"endlinecolor\": \"#2a3f5f\", \"gridcolor\": \"white\", \"linecolor\": \"white\", \"minorgridcolor\": \"white\", \"startlinecolor\": \"#2a3f5f\"}, \"baxis\": {\"endlinecolor\": \"#2a3f5f\", \"gridcolor\": \"white\", \"linecolor\": \"white\", \"minorgridcolor\": \"white\", \"startlinecolor\": \"#2a3f5f\"}, \"type\": \"carpet\"}], \"choropleth\": [{\"colorbar\": {\"outlinewidth\": 0, \"ticks\": \"\"}, \"type\": \"choropleth\"}], \"contour\": [{\"colorbar\": {\"outlinewidth\": 0, \"ticks\": \"\"}, \"colorscale\": [[0.0, \"#0d0887\"], [0.1111111111111111, \"#46039f\"], [0.2222222222222222, \"#7201a8\"], [0.3333333333333333, \"#9c179e\"], [0.4444444444444444, \"#bd3786\"], [0.5555555555555556, \"#d8576b\"], [0.6666666666666666, \"#ed7953\"], [0.7777777777777778, \"#fb9f3a\"], [0.8888888888888888, \"#fdca26\"], [1.0, \"#f0f921\"]], \"type\": \"contour\"}], \"contourcarpet\": [{\"colorbar\": {\"outlinewidth\": 0, \"ticks\": \"\"}, \"type\": \"contourcarpet\"}], \"heatmap\": [{\"colorbar\": {\"outlinewidth\": 0, \"ticks\": \"\"}, \"colorscale\": [[0.0, \"#0d0887\"], [0.1111111111111111, \"#46039f\"], [0.2222222222222222, \"#7201a8\"], [0.3333333333333333, \"#9c179e\"], [0.4444444444444444, \"#bd3786\"], [0.5555555555555556, \"#d8576b\"], [0.6666666666666666, \"#ed7953\"], [0.7777777777777778, \"#fb9f3a\"], [0.8888888888888888, \"#fdca26\"], [1.0, \"#f0f921\"]], \"type\": \"heatmap\"}], \"heatmapgl\": [{\"colorbar\": {\"outlinewidth\": 0, \"ticks\": \"\"}, \"colorscale\": [[0.0, \"#0d0887\"], [0.1111111111111111, \"#46039f\"], [0.2222222222222222, \"#7201a8\"], [0.3333333333333333, \"#9c179e\"], [0.4444444444444444, \"#bd3786\"], [0.5555555555555556, \"#d8576b\"], [0.6666666666666666, \"#ed7953\"], [0.7777777777777778, \"#fb9f3a\"], [0.8888888888888888, \"#fdca26\"], [1.0, \"#f0f921\"]], \"type\": \"heatmapgl\"}], \"histogram\": [{\"marker\": {\"colorbar\": {\"outlinewidth\": 0, \"ticks\": \"\"}}, \"type\": \"histogram\"}], \"histogram2d\": [{\"colorbar\": {\"outlinewidth\": 0, \"ticks\": \"\"}, \"colorscale\": [[0.0, \"#0d0887\"], [0.1111111111111111, \"#46039f\"], [0.2222222222222222, \"#7201a8\"], [0.3333333333333333, \"#9c179e\"], [0.4444444444444444, \"#bd3786\"], [0.5555555555555556, \"#d8576b\"], [0.6666666666666666, \"#ed7953\"], [0.7777777777777778, \"#fb9f3a\"], [0.8888888888888888, \"#fdca26\"], [1.0, \"#f0f921\"]], \"type\": \"histogram2d\"}], \"histogram2dcontour\": [{\"colorbar\": {\"outlinewidth\": 0, \"ticks\": \"\"}, \"colorscale\": [[0.0, \"#0d0887\"], [0.1111111111111111, \"#46039f\"], [0.2222222222222222, \"#7201a8\"], [0.3333333333333333, \"#9c179e\"], [0.4444444444444444, \"#bd3786\"], [0.5555555555555556, \"#d8576b\"], [0.6666666666666666, \"#ed7953\"], [0.7777777777777778, \"#fb9f3a\"], [0.8888888888888888, \"#fdca26\"], [1.0, \"#f0f921\"]], \"type\": \"histogram2dcontour\"}], \"mesh3d\": [{\"colorbar\": {\"outlinewidth\": 0, \"ticks\": \"\"}, \"type\": \"mesh3d\"}], \"parcoords\": [{\"line\": {\"colorbar\": {\"outlinewidth\": 0, \"ticks\": \"\"}}, \"type\": \"parcoords\"}], \"pie\": [{\"automargin\": true, \"type\": \"pie\"}], \"scatter\": [{\"marker\": {\"colorbar\": {\"outlinewidth\": 0, \"ticks\": \"\"}}, \"type\": \"scatter\"}], \"scatter3d\": [{\"line\": {\"colorbar\": {\"outlinewidth\": 0, \"ticks\": \"\"}}, \"marker\": {\"colorbar\": {\"outlinewidth\": 0, \"ticks\": \"\"}}, \"type\": \"scatter3d\"}], \"scattercarpet\": [{\"marker\": {\"colorbar\": {\"outlinewidth\": 0, \"ticks\": \"\"}}, \"type\": \"scattercarpet\"}], \"scattergeo\": [{\"marker\": {\"colorbar\": {\"outlinewidth\": 0, \"ticks\": \"\"}}, \"type\": \"scattergeo\"}], \"scattergl\": [{\"marker\": {\"colorbar\": {\"outlinewidth\": 0, \"ticks\": \"\"}}, \"type\": \"scattergl\"}], \"scattermapbox\": [{\"marker\": {\"colorbar\": {\"outlinewidth\": 0, \"ticks\": \"\"}}, \"type\": \"scattermapbox\"}], \"scatterpolar\": [{\"marker\": {\"colorbar\": {\"outlinewidth\": 0, \"ticks\": \"\"}}, \"type\": \"scatterpolar\"}], \"scatterpolargl\": [{\"marker\": {\"colorbar\": {\"outlinewidth\": 0, \"ticks\": \"\"}}, \"type\": \"scatterpolargl\"}], \"scatterternary\": [{\"marker\": {\"colorbar\": {\"outlinewidth\": 0, \"ticks\": \"\"}}, \"type\": \"scatterternary\"}], \"surface\": [{\"colorbar\": {\"outlinewidth\": 0, \"ticks\": \"\"}, \"colorscale\": [[0.0, \"#0d0887\"], [0.1111111111111111, \"#46039f\"], [0.2222222222222222, \"#7201a8\"], [0.3333333333333333, \"#9c179e\"], [0.4444444444444444, \"#bd3786\"], [0.5555555555555556, \"#d8576b\"], [0.6666666666666666, \"#ed7953\"], [0.7777777777777778, \"#fb9f3a\"], [0.8888888888888888, \"#fdca26\"], [1.0, \"#f0f921\"]], \"type\": \"surface\"}], \"table\": [{\"cells\": {\"fill\": {\"color\": \"#EBF0F8\"}, \"line\": {\"color\": \"white\"}}, \"header\": {\"fill\": {\"color\": \"#C8D4E3\"}, \"line\": {\"color\": \"white\"}}, \"type\": \"table\"}]}, \"layout\": {\"annotationdefaults\": {\"arrowcolor\": \"#2a3f5f\", \"arrowhead\": 0, \"arrowwidth\": 1}, \"coloraxis\": {\"colorbar\": {\"outlinewidth\": 0, \"ticks\": \"\"}}, \"colorscale\": {\"diverging\": [[0, \"#8e0152\"], [0.1, \"#c51b7d\"], [0.2, \"#de77ae\"], [0.3, \"#f1b6da\"], [0.4, \"#fde0ef\"], [0.5, \"#f7f7f7\"], [0.6, \"#e6f5d0\"], [0.7, \"#b8e186\"], [0.8, \"#7fbc41\"], [0.9, \"#4d9221\"], [1, \"#276419\"]], \"sequential\": [[0.0, \"#0d0887\"], [0.1111111111111111, \"#46039f\"], [0.2222222222222222, \"#7201a8\"], [0.3333333333333333, \"#9c179e\"], [0.4444444444444444, \"#bd3786\"], [0.5555555555555556, \"#d8576b\"], [0.6666666666666666, \"#ed7953\"], [0.7777777777777778, \"#fb9f3a\"], [0.8888888888888888, \"#fdca26\"], [1.0, \"#f0f921\"]], \"sequentialminus\": [[0.0, \"#0d0887\"], [0.1111111111111111, \"#46039f\"], [0.2222222222222222, \"#7201a8\"], [0.3333333333333333, \"#9c179e\"], [0.4444444444444444, \"#bd3786\"], [0.5555555555555556, \"#d8576b\"], [0.6666666666666666, \"#ed7953\"], [0.7777777777777778, \"#fb9f3a\"], [0.8888888888888888, \"#fdca26\"], [1.0, \"#f0f921\"]]}, \"colorway\": [\"#636efa\", \"#EF553B\", \"#00cc96\", \"#ab63fa\", \"#FFA15A\", \"#19d3f3\", \"#FF6692\", \"#B6E880\", \"#FF97FF\", \"#FECB52\"], \"font\": {\"color\": \"#2a3f5f\"}, \"geo\": {\"bgcolor\": \"white\", \"lakecolor\": \"white\", \"landcolor\": \"#E5ECF6\", \"showlakes\": true, \"showland\": true, \"subunitcolor\": \"white\"}, \"hoverlabel\": {\"align\": \"left\"}, \"hovermode\": \"closest\", \"mapbox\": {\"style\": \"light\"}, \"paper_bgcolor\": \"white\", \"plot_bgcolor\": \"#E5ECF6\", \"polar\": {\"angularaxis\": {\"gridcolor\": \"white\", \"linecolor\": \"white\", \"ticks\": \"\"}, \"bgcolor\": \"#E5ECF6\", \"radialaxis\": {\"gridcolor\": \"white\", \"linecolor\": \"white\", \"ticks\": \"\"}}, \"scene\": {\"xaxis\": {\"backgroundcolor\": \"#E5ECF6\", \"gridcolor\": \"white\", \"gridwidth\": 2, \"linecolor\": \"white\", \"showbackground\": true, \"ticks\": \"\", \"zerolinecolor\": \"white\"}, \"yaxis\": {\"backgroundcolor\": \"#E5ECF6\", \"gridcolor\": \"white\", \"gridwidth\": 2, \"linecolor\": \"white\", \"showbackground\": true, \"ticks\": \"\", \"zerolinecolor\": \"white\"}, \"zaxis\": {\"backgroundcolor\": \"#E5ECF6\", \"gridcolor\": \"white\", \"gridwidth\": 2, \"linecolor\": \"white\", \"showbackground\": true, \"ticks\": \"\", \"zerolinecolor\": \"white\"}}, \"shapedefaults\": {\"line\": {\"color\": \"#2a3f5f\"}}, \"ternary\": {\"aaxis\": {\"gridcolor\": \"white\", \"linecolor\": \"white\", \"ticks\": \"\"}, \"baxis\": {\"gridcolor\": \"white\", \"linecolor\": \"white\", \"ticks\": \"\"}, \"bgcolor\": \"#E5ECF6\", \"caxis\": {\"gridcolor\": \"white\", \"linecolor\": \"white\", \"ticks\": \"\"}}, \"title\": {\"x\": 0.05}, \"xaxis\": {\"automargin\": true, \"gridcolor\": \"white\", \"linecolor\": \"white\", \"ticks\": \"\", \"title\": {\"standoff\": 15}, \"zerolinecolor\": \"white\", \"zerolinewidth\": 2}, \"yaxis\": {\"automargin\": true, \"gridcolor\": \"white\", \"linecolor\": \"white\", \"ticks\": \"\", \"title\": {\"standoff\": 15}, \"zerolinecolor\": \"white\", \"zerolinewidth\": 2}}}, \"title\": {\"font\": {\"color\": \"#4D5663\"}}, \"xaxis\": {\"anchor\": \"y\", \"domain\": [0.0, 0.45], \"gridcolor\": \"#E1E5ED\", \"showgrid\": true, \"tickfont\": {\"color\": \"#4D5663\"}, \"title\": {\"font\": {\"color\": \"#4D5663\"}, \"text\": \"\"}, \"zerolinecolor\": \"#E1E5ED\"}, \"xaxis2\": {\"anchor\": \"y2\", \"domain\": [0.55, 1.0], \"gridcolor\": \"#E1E5ED\", \"showgrid\": true, \"tickfont\": {\"color\": \"#4D5663\"}, \"title\": {\"font\": {\"color\": \"#4D5663\"}, \"text\": \"\"}, \"zerolinecolor\": \"#E1E5ED\"}, \"xaxis3\": {\"anchor\": \"y3\", \"domain\": [0.0, 0.45], \"gridcolor\": \"#E1E5ED\", \"showgrid\": true, \"tickfont\": {\"color\": \"#4D5663\"}, \"title\": {\"font\": {\"color\": \"#4D5663\"}, \"text\": \"\"}, \"zerolinecolor\": \"#E1E5ED\"}, \"xaxis4\": {\"anchor\": \"y4\", \"domain\": [0.55, 1.0], \"gridcolor\": \"#E1E5ED\", \"showgrid\": true, \"tickfont\": {\"color\": \"#4D5663\"}, \"title\": {\"font\": {\"color\": \"#4D5663\"}, \"text\": \"\"}, \"zerolinecolor\": \"#E1E5ED\"}, \"yaxis\": {\"anchor\": \"x\", \"domain\": [0.575, 1.0], \"gridcolor\": \"#E1E5ED\", \"showgrid\": true, \"tickfont\": {\"color\": \"#4D5663\"}, \"title\": {\"font\": {\"color\": \"#4D5663\"}, \"text\": \"\"}, \"zerolinecolor\": \"#E1E5ED\"}, \"yaxis2\": {\"anchor\": \"x2\", \"domain\": [0.575, 1.0], \"gridcolor\": \"#E1E5ED\", \"showgrid\": true, \"tickfont\": {\"color\": \"#4D5663\"}, \"title\": {\"font\": {\"color\": \"#4D5663\"}, \"text\": \"\"}, \"zerolinecolor\": \"#E1E5ED\"}, \"yaxis3\": {\"anchor\": \"x3\", \"domain\": [0.0, 0.425], \"gridcolor\": \"#E1E5ED\", \"showgrid\": true, \"tickfont\": {\"color\": \"#4D5663\"}, \"title\": {\"font\": {\"color\": \"#4D5663\"}, \"text\": \"\"}, \"zerolinecolor\": \"#E1E5ED\"}, \"yaxis4\": {\"anchor\": \"x4\", \"domain\": [0.0, 0.425], \"gridcolor\": \"#E1E5ED\", \"showgrid\": true, \"tickfont\": {\"color\": \"#4D5663\"}, \"title\": {\"font\": {\"color\": \"#4D5663\"}, \"text\": \"\"}, \"zerolinecolor\": \"#E1E5ED\"}},\n",
       "                        {\"showLink\": true, \"linkText\": \"Export to plot.ly\", \"plotlyServerURL\": \"https://plot.ly\", \"responsive\": true}\n",
       "                    ).then(function(){\n",
       "                            \n",
       "var gd = document.getElementById('162bc935-8ba1-416a-b508-8f4ae9d105a3');\n",
       "var x = new MutationObserver(function (mutations, observer) {{\n",
       "        var display = window.getComputedStyle(gd).display;\n",
       "        if (!display || display === 'none') {{\n",
       "            console.log([gd, 'removed!']);\n",
       "            Plotly.purge(gd);\n",
       "            observer.disconnect();\n",
       "        }}\n",
       "}});\n",
       "\n",
       "// Listen for the removal of the full notebook cells\n",
       "var notebookContainer = gd.closest('#notebook-container');\n",
       "if (notebookContainer) {{\n",
       "    x.observe(notebookContainer, {childList: true});\n",
       "}}\n",
       "\n",
       "// Listen for the clearing of the current output cell\n",
       "var outputEl = gd.closest('.output');\n",
       "if (outputEl) {{\n",
       "    x.observe(outputEl, {childList: true});\n",
       "}}\n",
       "\n",
       "                        })\n",
       "                };\n",
       "                });\n",
       "            </script>\n",
       "        </div>"
      ]
     },
     "metadata": {},
     "output_type": "display_data"
    }
   ],
   "source": [
    "logReturns.iplot(kind='line', subplots=True)"
   ]
  },
  {
   "cell_type": "markdown",
   "metadata": {},
   "source": [
    "### Correlation Matrix[2]\n",
    "A Correlation Matrix is the Matrix of Correlation and dependence. Correlation and dependence is any statistical relationship, whether causal or not, between two random variables or bivariate data. In the broadest sense correlation is any statistical association, though it commonly refers to the degree to which a pair of variables are linearly related. Familiar examples of dependent phenomena include the correlation between the physical statures of parents and their offspring, and the correlation between the price of a good and the quantity the consumers are willing to purchase, as it is depicted in the so-called demand curve."
   ]
  },
  {
   "cell_type": "code",
   "execution_count": 9,
   "metadata": {},
   "outputs": [
    {
     "data": {
      "text/html": [
       "<div>\n",
       "<style scoped>\n",
       "    .dataframe tbody tr th:only-of-type {\n",
       "        vertical-align: middle;\n",
       "    }\n",
       "\n",
       "    .dataframe tbody tr th {\n",
       "        vertical-align: top;\n",
       "    }\n",
       "\n",
       "    .dataframe thead th {\n",
       "        text-align: right;\n",
       "    }\n",
       "</style>\n",
       "<table border=\"1\" class=\"dataframe\">\n",
       "  <thead>\n",
       "    <tr style=\"text-align: right;\">\n",
       "      <th></th>\n",
       "      <th>.SPX</th>\n",
       "      <th>.VIX</th>\n",
       "      <th>IBM.N</th>\n",
       "      <th>GE</th>\n",
       "    </tr>\n",
       "  </thead>\n",
       "  <tbody>\n",
       "    <tr>\n",
       "      <td>.SPX</td>\n",
       "      <td>1.000000</td>\n",
       "      <td>-0.746051</td>\n",
       "      <td>0.416580</td>\n",
       "      <td>0.275733</td>\n",
       "    </tr>\n",
       "    <tr>\n",
       "      <td>.VIX</td>\n",
       "      <td>-0.746051</td>\n",
       "      <td>1.000000</td>\n",
       "      <td>-0.495731</td>\n",
       "      <td>-0.488273</td>\n",
       "    </tr>\n",
       "    <tr>\n",
       "      <td>IBM.N</td>\n",
       "      <td>0.416580</td>\n",
       "      <td>-0.495731</td>\n",
       "      <td>1.000000</td>\n",
       "      <td>0.877215</td>\n",
       "    </tr>\n",
       "    <tr>\n",
       "      <td>GE</td>\n",
       "      <td>0.275733</td>\n",
       "      <td>-0.488273</td>\n",
       "      <td>0.877215</td>\n",
       "      <td>1.000000</td>\n",
       "    </tr>\n",
       "  </tbody>\n",
       "</table>\n",
       "</div>"
      ],
      "text/plain": [
       "           .SPX      .VIX     IBM.N        GE\n",
       ".SPX   1.000000 -0.746051  0.416580  0.275733\n",
       ".VIX  -0.746051  1.000000 -0.495731 -0.488273\n",
       "IBM.N  0.416580 -0.495731  1.000000  0.877215\n",
       "GE     0.275733 -0.488273  0.877215  1.000000"
      ]
     },
     "execution_count": 9,
     "metadata": {},
     "output_type": "execute_result"
    }
   ],
   "source": [
    "data.corr() # calculate the Correlation Matrix."
   ]
  },
  {
   "cell_type": "markdown",
   "metadata": {},
   "source": [
    "Then, we plot the Correlation Matrix graph of the RICs."
   ]
  },
  {
   "cell_type": "code",
   "execution_count": 10,
   "metadata": {},
   "outputs": [
    {
     "data": {
      "application/vnd.plotly.v1+json": {
       "config": {
        "linkText": "Export to plot.ly",
        "plotlyServerURL": "https://plot.ly",
        "showLink": true
       },
       "data": [
        {
         "line": {
          "color": "rgba(255, 153, 51, 1.0)",
          "dash": "solid",
          "shape": "linear",
          "width": 1.3
         },
         "mode": "lines",
         "name": ".SPX",
         "text": "",
         "type": "scatter",
         "x": [
          ".SPX",
          ".VIX",
          "IBM.N",
          "GE"
         ],
         "y": [
          1,
          -0.7460509163923603,
          0.41657961297682883,
          0.27573314798545207
         ]
        },
        {
         "line": {
          "color": "rgba(55, 128, 191, 1.0)",
          "dash": "solid",
          "shape": "linear",
          "width": 1.3
         },
         "mode": "lines",
         "name": ".VIX",
         "text": "",
         "type": "scatter",
         "x": [
          ".SPX",
          ".VIX",
          "IBM.N",
          "GE"
         ],
         "y": [
          -0.7460509163923603,
          1,
          -0.4957307977936468,
          -0.48827349140435544
         ]
        },
        {
         "line": {
          "color": "rgba(50, 171, 96, 1.0)",
          "dash": "solid",
          "shape": "linear",
          "width": 1.3
         },
         "mode": "lines",
         "name": "IBM.N",
         "text": "",
         "type": "scatter",
         "x": [
          ".SPX",
          ".VIX",
          "IBM.N",
          "GE"
         ],
         "y": [
          0.41657961297682883,
          -0.4957307977936468,
          1,
          0.8772147019567609
         ]
        },
        {
         "line": {
          "color": "rgba(128, 0, 128, 1.0)",
          "dash": "solid",
          "shape": "linear",
          "width": 1.3
         },
         "mode": "lines",
         "name": "GE",
         "text": "",
         "type": "scatter",
         "x": [
          ".SPX",
          ".VIX",
          "IBM.N",
          "GE"
         ],
         "y": [
          0.27573314798545207,
          -0.48827349140435544,
          0.8772147019567609,
          1
         ]
        }
       ],
       "layout": {
        "legend": {
         "bgcolor": "#F5F6F9",
         "font": {
          "color": "#4D5663"
         }
        },
        "paper_bgcolor": "#F5F6F9",
        "plot_bgcolor": "#F5F6F9",
        "template": {
         "data": {
          "bar": [
           {
            "error_x": {
             "color": "#2a3f5f"
            },
            "error_y": {
             "color": "#2a3f5f"
            },
            "marker": {
             "line": {
              "color": "#E5ECF6",
              "width": 0.5
             }
            },
            "type": "bar"
           }
          ],
          "barpolar": [
           {
            "marker": {
             "line": {
              "color": "#E5ECF6",
              "width": 0.5
             }
            },
            "type": "barpolar"
           }
          ],
          "carpet": [
           {
            "aaxis": {
             "endlinecolor": "#2a3f5f",
             "gridcolor": "white",
             "linecolor": "white",
             "minorgridcolor": "white",
             "startlinecolor": "#2a3f5f"
            },
            "baxis": {
             "endlinecolor": "#2a3f5f",
             "gridcolor": "white",
             "linecolor": "white",
             "minorgridcolor": "white",
             "startlinecolor": "#2a3f5f"
            },
            "type": "carpet"
           }
          ],
          "choropleth": [
           {
            "colorbar": {
             "outlinewidth": 0,
             "ticks": ""
            },
            "type": "choropleth"
           }
          ],
          "contour": [
           {
            "colorbar": {
             "outlinewidth": 0,
             "ticks": ""
            },
            "colorscale": [
             [
              0,
              "#0d0887"
             ],
             [
              0.1111111111111111,
              "#46039f"
             ],
             [
              0.2222222222222222,
              "#7201a8"
             ],
             [
              0.3333333333333333,
              "#9c179e"
             ],
             [
              0.4444444444444444,
              "#bd3786"
             ],
             [
              0.5555555555555556,
              "#d8576b"
             ],
             [
              0.6666666666666666,
              "#ed7953"
             ],
             [
              0.7777777777777778,
              "#fb9f3a"
             ],
             [
              0.8888888888888888,
              "#fdca26"
             ],
             [
              1,
              "#f0f921"
             ]
            ],
            "type": "contour"
           }
          ],
          "contourcarpet": [
           {
            "colorbar": {
             "outlinewidth": 0,
             "ticks": ""
            },
            "type": "contourcarpet"
           }
          ],
          "heatmap": [
           {
            "colorbar": {
             "outlinewidth": 0,
             "ticks": ""
            },
            "colorscale": [
             [
              0,
              "#0d0887"
             ],
             [
              0.1111111111111111,
              "#46039f"
             ],
             [
              0.2222222222222222,
              "#7201a8"
             ],
             [
              0.3333333333333333,
              "#9c179e"
             ],
             [
              0.4444444444444444,
              "#bd3786"
             ],
             [
              0.5555555555555556,
              "#d8576b"
             ],
             [
              0.6666666666666666,
              "#ed7953"
             ],
             [
              0.7777777777777778,
              "#fb9f3a"
             ],
             [
              0.8888888888888888,
              "#fdca26"
             ],
             [
              1,
              "#f0f921"
             ]
            ],
            "type": "heatmap"
           }
          ],
          "heatmapgl": [
           {
            "colorbar": {
             "outlinewidth": 0,
             "ticks": ""
            },
            "colorscale": [
             [
              0,
              "#0d0887"
             ],
             [
              0.1111111111111111,
              "#46039f"
             ],
             [
              0.2222222222222222,
              "#7201a8"
             ],
             [
              0.3333333333333333,
              "#9c179e"
             ],
             [
              0.4444444444444444,
              "#bd3786"
             ],
             [
              0.5555555555555556,
              "#d8576b"
             ],
             [
              0.6666666666666666,
              "#ed7953"
             ],
             [
              0.7777777777777778,
              "#fb9f3a"
             ],
             [
              0.8888888888888888,
              "#fdca26"
             ],
             [
              1,
              "#f0f921"
             ]
            ],
            "type": "heatmapgl"
           }
          ],
          "histogram": [
           {
            "marker": {
             "colorbar": {
              "outlinewidth": 0,
              "ticks": ""
             }
            },
            "type": "histogram"
           }
          ],
          "histogram2d": [
           {
            "colorbar": {
             "outlinewidth": 0,
             "ticks": ""
            },
            "colorscale": [
             [
              0,
              "#0d0887"
             ],
             [
              0.1111111111111111,
              "#46039f"
             ],
             [
              0.2222222222222222,
              "#7201a8"
             ],
             [
              0.3333333333333333,
              "#9c179e"
             ],
             [
              0.4444444444444444,
              "#bd3786"
             ],
             [
              0.5555555555555556,
              "#d8576b"
             ],
             [
              0.6666666666666666,
              "#ed7953"
             ],
             [
              0.7777777777777778,
              "#fb9f3a"
             ],
             [
              0.8888888888888888,
              "#fdca26"
             ],
             [
              1,
              "#f0f921"
             ]
            ],
            "type": "histogram2d"
           }
          ],
          "histogram2dcontour": [
           {
            "colorbar": {
             "outlinewidth": 0,
             "ticks": ""
            },
            "colorscale": [
             [
              0,
              "#0d0887"
             ],
             [
              0.1111111111111111,
              "#46039f"
             ],
             [
              0.2222222222222222,
              "#7201a8"
             ],
             [
              0.3333333333333333,
              "#9c179e"
             ],
             [
              0.4444444444444444,
              "#bd3786"
             ],
             [
              0.5555555555555556,
              "#d8576b"
             ],
             [
              0.6666666666666666,
              "#ed7953"
             ],
             [
              0.7777777777777778,
              "#fb9f3a"
             ],
             [
              0.8888888888888888,
              "#fdca26"
             ],
             [
              1,
              "#f0f921"
             ]
            ],
            "type": "histogram2dcontour"
           }
          ],
          "mesh3d": [
           {
            "colorbar": {
             "outlinewidth": 0,
             "ticks": ""
            },
            "type": "mesh3d"
           }
          ],
          "parcoords": [
           {
            "line": {
             "colorbar": {
              "outlinewidth": 0,
              "ticks": ""
             }
            },
            "type": "parcoords"
           }
          ],
          "pie": [
           {
            "automargin": true,
            "type": "pie"
           }
          ],
          "scatter": [
           {
            "marker": {
             "colorbar": {
              "outlinewidth": 0,
              "ticks": ""
             }
            },
            "type": "scatter"
           }
          ],
          "scatter3d": [
           {
            "line": {
             "colorbar": {
              "outlinewidth": 0,
              "ticks": ""
             }
            },
            "marker": {
             "colorbar": {
              "outlinewidth": 0,
              "ticks": ""
             }
            },
            "type": "scatter3d"
           }
          ],
          "scattercarpet": [
           {
            "marker": {
             "colorbar": {
              "outlinewidth": 0,
              "ticks": ""
             }
            },
            "type": "scattercarpet"
           }
          ],
          "scattergeo": [
           {
            "marker": {
             "colorbar": {
              "outlinewidth": 0,
              "ticks": ""
             }
            },
            "type": "scattergeo"
           }
          ],
          "scattergl": [
           {
            "marker": {
             "colorbar": {
              "outlinewidth": 0,
              "ticks": ""
             }
            },
            "type": "scattergl"
           }
          ],
          "scattermapbox": [
           {
            "marker": {
             "colorbar": {
              "outlinewidth": 0,
              "ticks": ""
             }
            },
            "type": "scattermapbox"
           }
          ],
          "scatterpolar": [
           {
            "marker": {
             "colorbar": {
              "outlinewidth": 0,
              "ticks": ""
             }
            },
            "type": "scatterpolar"
           }
          ],
          "scatterpolargl": [
           {
            "marker": {
             "colorbar": {
              "outlinewidth": 0,
              "ticks": ""
             }
            },
            "type": "scatterpolargl"
           }
          ],
          "scatterternary": [
           {
            "marker": {
             "colorbar": {
              "outlinewidth": 0,
              "ticks": ""
             }
            },
            "type": "scatterternary"
           }
          ],
          "surface": [
           {
            "colorbar": {
             "outlinewidth": 0,
             "ticks": ""
            },
            "colorscale": [
             [
              0,
              "#0d0887"
             ],
             [
              0.1111111111111111,
              "#46039f"
             ],
             [
              0.2222222222222222,
              "#7201a8"
             ],
             [
              0.3333333333333333,
              "#9c179e"
             ],
             [
              0.4444444444444444,
              "#bd3786"
             ],
             [
              0.5555555555555556,
              "#d8576b"
             ],
             [
              0.6666666666666666,
              "#ed7953"
             ],
             [
              0.7777777777777778,
              "#fb9f3a"
             ],
             [
              0.8888888888888888,
              "#fdca26"
             ],
             [
              1,
              "#f0f921"
             ]
            ],
            "type": "surface"
           }
          ],
          "table": [
           {
            "cells": {
             "fill": {
              "color": "#EBF0F8"
             },
             "line": {
              "color": "white"
             }
            },
            "header": {
             "fill": {
              "color": "#C8D4E3"
             },
             "line": {
              "color": "white"
             }
            },
            "type": "table"
           }
          ]
         },
         "layout": {
          "annotationdefaults": {
           "arrowcolor": "#2a3f5f",
           "arrowhead": 0,
           "arrowwidth": 1
          },
          "coloraxis": {
           "colorbar": {
            "outlinewidth": 0,
            "ticks": ""
           }
          },
          "colorscale": {
           "diverging": [
            [
             0,
             "#8e0152"
            ],
            [
             0.1,
             "#c51b7d"
            ],
            [
             0.2,
             "#de77ae"
            ],
            [
             0.3,
             "#f1b6da"
            ],
            [
             0.4,
             "#fde0ef"
            ],
            [
             0.5,
             "#f7f7f7"
            ],
            [
             0.6,
             "#e6f5d0"
            ],
            [
             0.7,
             "#b8e186"
            ],
            [
             0.8,
             "#7fbc41"
            ],
            [
             0.9,
             "#4d9221"
            ],
            [
             1,
             "#276419"
            ]
           ],
           "sequential": [
            [
             0,
             "#0d0887"
            ],
            [
             0.1111111111111111,
             "#46039f"
            ],
            [
             0.2222222222222222,
             "#7201a8"
            ],
            [
             0.3333333333333333,
             "#9c179e"
            ],
            [
             0.4444444444444444,
             "#bd3786"
            ],
            [
             0.5555555555555556,
             "#d8576b"
            ],
            [
             0.6666666666666666,
             "#ed7953"
            ],
            [
             0.7777777777777778,
             "#fb9f3a"
            ],
            [
             0.8888888888888888,
             "#fdca26"
            ],
            [
             1,
             "#f0f921"
            ]
           ],
           "sequentialminus": [
            [
             0,
             "#0d0887"
            ],
            [
             0.1111111111111111,
             "#46039f"
            ],
            [
             0.2222222222222222,
             "#7201a8"
            ],
            [
             0.3333333333333333,
             "#9c179e"
            ],
            [
             0.4444444444444444,
             "#bd3786"
            ],
            [
             0.5555555555555556,
             "#d8576b"
            ],
            [
             0.6666666666666666,
             "#ed7953"
            ],
            [
             0.7777777777777778,
             "#fb9f3a"
            ],
            [
             0.8888888888888888,
             "#fdca26"
            ],
            [
             1,
             "#f0f921"
            ]
           ]
          },
          "colorway": [
           "#636efa",
           "#EF553B",
           "#00cc96",
           "#ab63fa",
           "#FFA15A",
           "#19d3f3",
           "#FF6692",
           "#B6E880",
           "#FF97FF",
           "#FECB52"
          ],
          "font": {
           "color": "#2a3f5f"
          },
          "geo": {
           "bgcolor": "white",
           "lakecolor": "white",
           "landcolor": "#E5ECF6",
           "showlakes": true,
           "showland": true,
           "subunitcolor": "white"
          },
          "hoverlabel": {
           "align": "left"
          },
          "hovermode": "closest",
          "mapbox": {
           "style": "light"
          },
          "paper_bgcolor": "white",
          "plot_bgcolor": "#E5ECF6",
          "polar": {
           "angularaxis": {
            "gridcolor": "white",
            "linecolor": "white",
            "ticks": ""
           },
           "bgcolor": "#E5ECF6",
           "radialaxis": {
            "gridcolor": "white",
            "linecolor": "white",
            "ticks": ""
           }
          },
          "scene": {
           "xaxis": {
            "backgroundcolor": "#E5ECF6",
            "gridcolor": "white",
            "gridwidth": 2,
            "linecolor": "white",
            "showbackground": true,
            "ticks": "",
            "zerolinecolor": "white"
           },
           "yaxis": {
            "backgroundcolor": "#E5ECF6",
            "gridcolor": "white",
            "gridwidth": 2,
            "linecolor": "white",
            "showbackground": true,
            "ticks": "",
            "zerolinecolor": "white"
           },
           "zaxis": {
            "backgroundcolor": "#E5ECF6",
            "gridcolor": "white",
            "gridwidth": 2,
            "linecolor": "white",
            "showbackground": true,
            "ticks": "",
            "zerolinecolor": "white"
           }
          },
          "shapedefaults": {
           "line": {
            "color": "#2a3f5f"
           }
          },
          "ternary": {
           "aaxis": {
            "gridcolor": "white",
            "linecolor": "white",
            "ticks": ""
           },
           "baxis": {
            "gridcolor": "white",
            "linecolor": "white",
            "ticks": ""
           },
           "bgcolor": "#E5ECF6",
           "caxis": {
            "gridcolor": "white",
            "linecolor": "white",
            "ticks": ""
           }
          },
          "title": {
           "x": 0.05
          },
          "xaxis": {
           "automargin": true,
           "gridcolor": "white",
           "linecolor": "white",
           "ticks": "",
           "title": {
            "standoff": 15
           },
           "zerolinecolor": "white",
           "zerolinewidth": 2
          },
          "yaxis": {
           "automargin": true,
           "gridcolor": "white",
           "linecolor": "white",
           "ticks": "",
           "title": {
            "standoff": 15
           },
           "zerolinecolor": "white",
           "zerolinewidth": 2
          }
         }
        },
        "title": {
         "font": {
          "color": "#4D5663"
         }
        },
        "xaxis": {
         "gridcolor": "#E1E5ED",
         "showgrid": true,
         "tickfont": {
          "color": "#4D5663"
         },
         "title": {
          "font": {
           "color": "#4D5663"
          },
          "text": ""
         },
         "zerolinecolor": "#E1E5ED"
        },
        "yaxis": {
         "gridcolor": "#E1E5ED",
         "showgrid": true,
         "tickfont": {
          "color": "#4D5663"
         },
         "title": {
          "font": {
           "color": "#4D5663"
          },
          "text": ""
         },
         "zerolinecolor": "#E1E5ED"
        }
       }
      },
      "text/html": [
       "<div>\n",
       "        \n",
       "        \n",
       "            <div id=\"ea1cd7e2-0071-4b2d-bd04-30325d73ae79\" class=\"plotly-graph-div\" style=\"height:525px; width:100%;\"></div>\n",
       "            <script type=\"text/javascript\">\n",
       "                require([\"plotly\"], function(Plotly) {\n",
       "                    window.PLOTLYENV=window.PLOTLYENV || {};\n",
       "                    window.PLOTLYENV.BASE_URL='https://plot.ly';\n",
       "                    \n",
       "                if (document.getElementById(\"ea1cd7e2-0071-4b2d-bd04-30325d73ae79\")) {\n",
       "                    Plotly.newPlot(\n",
       "                        'ea1cd7e2-0071-4b2d-bd04-30325d73ae79',\n",
       "                        [{\"line\": {\"color\": \"rgba(255, 153, 51, 1.0)\", \"dash\": \"solid\", \"shape\": \"linear\", \"width\": 1.3}, \"mode\": \"lines\", \"name\": \".SPX\", \"text\": \"\", \"type\": \"scatter\", \"x\": [\".SPX\", \".VIX\", \"IBM.N\", \"GE\"], \"y\": [1.0, -0.7460509163923603, 0.41657961297682883, 0.27573314798545207]}, {\"line\": {\"color\": \"rgba(55, 128, 191, 1.0)\", \"dash\": \"solid\", \"shape\": \"linear\", \"width\": 1.3}, \"mode\": \"lines\", \"name\": \".VIX\", \"text\": \"\", \"type\": \"scatter\", \"x\": [\".SPX\", \".VIX\", \"IBM.N\", \"GE\"], \"y\": [-0.7460509163923603, 1.0, -0.4957307977936468, -0.48827349140435544]}, {\"line\": {\"color\": \"rgba(50, 171, 96, 1.0)\", \"dash\": \"solid\", \"shape\": \"linear\", \"width\": 1.3}, \"mode\": \"lines\", \"name\": \"IBM.N\", \"text\": \"\", \"type\": \"scatter\", \"x\": [\".SPX\", \".VIX\", \"IBM.N\", \"GE\"], \"y\": [0.41657961297682883, -0.4957307977936468, 1.0, 0.8772147019567609]}, {\"line\": {\"color\": \"rgba(128, 0, 128, 1.0)\", \"dash\": \"solid\", \"shape\": \"linear\", \"width\": 1.3}, \"mode\": \"lines\", \"name\": \"GE\", \"text\": \"\", \"type\": \"scatter\", \"x\": [\".SPX\", \".VIX\", \"IBM.N\", \"GE\"], \"y\": [0.27573314798545207, -0.48827349140435544, 0.8772147019567609, 1.0]}],\n",
       "                        {\"legend\": {\"bgcolor\": \"#F5F6F9\", \"font\": {\"color\": \"#4D5663\"}}, \"paper_bgcolor\": \"#F5F6F9\", \"plot_bgcolor\": \"#F5F6F9\", \"template\": {\"data\": {\"bar\": [{\"error_x\": {\"color\": \"#2a3f5f\"}, \"error_y\": {\"color\": \"#2a3f5f\"}, \"marker\": {\"line\": {\"color\": \"#E5ECF6\", \"width\": 0.5}}, \"type\": \"bar\"}], \"barpolar\": [{\"marker\": {\"line\": {\"color\": \"#E5ECF6\", \"width\": 0.5}}, \"type\": \"barpolar\"}], \"carpet\": [{\"aaxis\": {\"endlinecolor\": \"#2a3f5f\", \"gridcolor\": \"white\", \"linecolor\": \"white\", \"minorgridcolor\": \"white\", \"startlinecolor\": \"#2a3f5f\"}, \"baxis\": {\"endlinecolor\": \"#2a3f5f\", \"gridcolor\": \"white\", \"linecolor\": \"white\", \"minorgridcolor\": \"white\", \"startlinecolor\": \"#2a3f5f\"}, \"type\": \"carpet\"}], \"choropleth\": [{\"colorbar\": {\"outlinewidth\": 0, \"ticks\": \"\"}, \"type\": \"choropleth\"}], \"contour\": [{\"colorbar\": {\"outlinewidth\": 0, \"ticks\": \"\"}, \"colorscale\": [[0.0, \"#0d0887\"], [0.1111111111111111, \"#46039f\"], [0.2222222222222222, \"#7201a8\"], [0.3333333333333333, \"#9c179e\"], [0.4444444444444444, \"#bd3786\"], [0.5555555555555556, \"#d8576b\"], [0.6666666666666666, \"#ed7953\"], [0.7777777777777778, \"#fb9f3a\"], [0.8888888888888888, \"#fdca26\"], [1.0, \"#f0f921\"]], \"type\": \"contour\"}], \"contourcarpet\": [{\"colorbar\": {\"outlinewidth\": 0, \"ticks\": \"\"}, \"type\": \"contourcarpet\"}], \"heatmap\": [{\"colorbar\": {\"outlinewidth\": 0, \"ticks\": \"\"}, \"colorscale\": [[0.0, \"#0d0887\"], [0.1111111111111111, \"#46039f\"], [0.2222222222222222, \"#7201a8\"], [0.3333333333333333, \"#9c179e\"], [0.4444444444444444, \"#bd3786\"], [0.5555555555555556, \"#d8576b\"], [0.6666666666666666, \"#ed7953\"], [0.7777777777777778, \"#fb9f3a\"], [0.8888888888888888, \"#fdca26\"], [1.0, \"#f0f921\"]], \"type\": \"heatmap\"}], \"heatmapgl\": [{\"colorbar\": {\"outlinewidth\": 0, \"ticks\": \"\"}, \"colorscale\": [[0.0, \"#0d0887\"], [0.1111111111111111, \"#46039f\"], [0.2222222222222222, \"#7201a8\"], [0.3333333333333333, \"#9c179e\"], [0.4444444444444444, \"#bd3786\"], [0.5555555555555556, \"#d8576b\"], [0.6666666666666666, \"#ed7953\"], [0.7777777777777778, \"#fb9f3a\"], [0.8888888888888888, \"#fdca26\"], [1.0, \"#f0f921\"]], \"type\": \"heatmapgl\"}], \"histogram\": [{\"marker\": {\"colorbar\": {\"outlinewidth\": 0, \"ticks\": \"\"}}, \"type\": \"histogram\"}], \"histogram2d\": [{\"colorbar\": {\"outlinewidth\": 0, \"ticks\": \"\"}, \"colorscale\": [[0.0, \"#0d0887\"], [0.1111111111111111, \"#46039f\"], [0.2222222222222222, \"#7201a8\"], [0.3333333333333333, \"#9c179e\"], [0.4444444444444444, \"#bd3786\"], [0.5555555555555556, \"#d8576b\"], [0.6666666666666666, \"#ed7953\"], [0.7777777777777778, \"#fb9f3a\"], [0.8888888888888888, \"#fdca26\"], [1.0, \"#f0f921\"]], \"type\": \"histogram2d\"}], \"histogram2dcontour\": [{\"colorbar\": {\"outlinewidth\": 0, \"ticks\": \"\"}, \"colorscale\": [[0.0, \"#0d0887\"], [0.1111111111111111, \"#46039f\"], [0.2222222222222222, \"#7201a8\"], [0.3333333333333333, \"#9c179e\"], [0.4444444444444444, \"#bd3786\"], [0.5555555555555556, \"#d8576b\"], [0.6666666666666666, \"#ed7953\"], [0.7777777777777778, \"#fb9f3a\"], [0.8888888888888888, \"#fdca26\"], [1.0, \"#f0f921\"]], \"type\": \"histogram2dcontour\"}], \"mesh3d\": [{\"colorbar\": {\"outlinewidth\": 0, \"ticks\": \"\"}, \"type\": \"mesh3d\"}], \"parcoords\": [{\"line\": {\"colorbar\": {\"outlinewidth\": 0, \"ticks\": \"\"}}, \"type\": \"parcoords\"}], \"pie\": [{\"automargin\": true, \"type\": \"pie\"}], \"scatter\": [{\"marker\": {\"colorbar\": {\"outlinewidth\": 0, \"ticks\": \"\"}}, \"type\": \"scatter\"}], \"scatter3d\": [{\"line\": {\"colorbar\": {\"outlinewidth\": 0, \"ticks\": \"\"}}, \"marker\": {\"colorbar\": {\"outlinewidth\": 0, \"ticks\": \"\"}}, \"type\": \"scatter3d\"}], \"scattercarpet\": [{\"marker\": {\"colorbar\": {\"outlinewidth\": 0, \"ticks\": \"\"}}, \"type\": \"scattercarpet\"}], \"scattergeo\": [{\"marker\": {\"colorbar\": {\"outlinewidth\": 0, \"ticks\": \"\"}}, \"type\": \"scattergeo\"}], \"scattergl\": [{\"marker\": {\"colorbar\": {\"outlinewidth\": 0, \"ticks\": \"\"}}, \"type\": \"scattergl\"}], \"scattermapbox\": [{\"marker\": {\"colorbar\": {\"outlinewidth\": 0, \"ticks\": \"\"}}, \"type\": \"scattermapbox\"}], \"scatterpolar\": [{\"marker\": {\"colorbar\": {\"outlinewidth\": 0, \"ticks\": \"\"}}, \"type\": \"scatterpolar\"}], \"scatterpolargl\": [{\"marker\": {\"colorbar\": {\"outlinewidth\": 0, \"ticks\": \"\"}}, \"type\": \"scatterpolargl\"}], \"scatterternary\": [{\"marker\": {\"colorbar\": {\"outlinewidth\": 0, \"ticks\": \"\"}}, \"type\": \"scatterternary\"}], \"surface\": [{\"colorbar\": {\"outlinewidth\": 0, \"ticks\": \"\"}, \"colorscale\": [[0.0, \"#0d0887\"], [0.1111111111111111, \"#46039f\"], [0.2222222222222222, \"#7201a8\"], [0.3333333333333333, \"#9c179e\"], [0.4444444444444444, \"#bd3786\"], [0.5555555555555556, \"#d8576b\"], [0.6666666666666666, \"#ed7953\"], [0.7777777777777778, \"#fb9f3a\"], [0.8888888888888888, \"#fdca26\"], [1.0, \"#f0f921\"]], \"type\": \"surface\"}], \"table\": [{\"cells\": {\"fill\": {\"color\": \"#EBF0F8\"}, \"line\": {\"color\": \"white\"}}, \"header\": {\"fill\": {\"color\": \"#C8D4E3\"}, \"line\": {\"color\": \"white\"}}, \"type\": \"table\"}]}, \"layout\": {\"annotationdefaults\": {\"arrowcolor\": \"#2a3f5f\", \"arrowhead\": 0, \"arrowwidth\": 1}, \"coloraxis\": {\"colorbar\": {\"outlinewidth\": 0, \"ticks\": \"\"}}, \"colorscale\": {\"diverging\": [[0, \"#8e0152\"], [0.1, \"#c51b7d\"], [0.2, \"#de77ae\"], [0.3, \"#f1b6da\"], [0.4, \"#fde0ef\"], [0.5, \"#f7f7f7\"], [0.6, \"#e6f5d0\"], [0.7, \"#b8e186\"], [0.8, \"#7fbc41\"], [0.9, \"#4d9221\"], [1, \"#276419\"]], \"sequential\": [[0.0, \"#0d0887\"], [0.1111111111111111, \"#46039f\"], [0.2222222222222222, \"#7201a8\"], [0.3333333333333333, \"#9c179e\"], [0.4444444444444444, \"#bd3786\"], [0.5555555555555556, \"#d8576b\"], [0.6666666666666666, \"#ed7953\"], [0.7777777777777778, \"#fb9f3a\"], [0.8888888888888888, \"#fdca26\"], [1.0, \"#f0f921\"]], \"sequentialminus\": [[0.0, \"#0d0887\"], [0.1111111111111111, \"#46039f\"], [0.2222222222222222, \"#7201a8\"], [0.3333333333333333, \"#9c179e\"], [0.4444444444444444, \"#bd3786\"], [0.5555555555555556, \"#d8576b\"], [0.6666666666666666, \"#ed7953\"], [0.7777777777777778, \"#fb9f3a\"], [0.8888888888888888, \"#fdca26\"], [1.0, \"#f0f921\"]]}, \"colorway\": [\"#636efa\", \"#EF553B\", \"#00cc96\", \"#ab63fa\", \"#FFA15A\", \"#19d3f3\", \"#FF6692\", \"#B6E880\", \"#FF97FF\", \"#FECB52\"], \"font\": {\"color\": \"#2a3f5f\"}, \"geo\": {\"bgcolor\": \"white\", \"lakecolor\": \"white\", \"landcolor\": \"#E5ECF6\", \"showlakes\": true, \"showland\": true, \"subunitcolor\": \"white\"}, \"hoverlabel\": {\"align\": \"left\"}, \"hovermode\": \"closest\", \"mapbox\": {\"style\": \"light\"}, \"paper_bgcolor\": \"white\", \"plot_bgcolor\": \"#E5ECF6\", \"polar\": {\"angularaxis\": {\"gridcolor\": \"white\", \"linecolor\": \"white\", \"ticks\": \"\"}, \"bgcolor\": \"#E5ECF6\", \"radialaxis\": {\"gridcolor\": \"white\", \"linecolor\": \"white\", \"ticks\": \"\"}}, \"scene\": {\"xaxis\": {\"backgroundcolor\": \"#E5ECF6\", \"gridcolor\": \"white\", \"gridwidth\": 2, \"linecolor\": \"white\", \"showbackground\": true, \"ticks\": \"\", \"zerolinecolor\": \"white\"}, \"yaxis\": {\"backgroundcolor\": \"#E5ECF6\", \"gridcolor\": \"white\", \"gridwidth\": 2, \"linecolor\": \"white\", \"showbackground\": true, \"ticks\": \"\", \"zerolinecolor\": \"white\"}, \"zaxis\": {\"backgroundcolor\": \"#E5ECF6\", \"gridcolor\": \"white\", \"gridwidth\": 2, \"linecolor\": \"white\", \"showbackground\": true, \"ticks\": \"\", \"zerolinecolor\": \"white\"}}, \"shapedefaults\": {\"line\": {\"color\": \"#2a3f5f\"}}, \"ternary\": {\"aaxis\": {\"gridcolor\": \"white\", \"linecolor\": \"white\", \"ticks\": \"\"}, \"baxis\": {\"gridcolor\": \"white\", \"linecolor\": \"white\", \"ticks\": \"\"}, \"bgcolor\": \"#E5ECF6\", \"caxis\": {\"gridcolor\": \"white\", \"linecolor\": \"white\", \"ticks\": \"\"}}, \"title\": {\"x\": 0.05}, \"xaxis\": {\"automargin\": true, \"gridcolor\": \"white\", \"linecolor\": \"white\", \"ticks\": \"\", \"title\": {\"standoff\": 15}, \"zerolinecolor\": \"white\", \"zerolinewidth\": 2}, \"yaxis\": {\"automargin\": true, \"gridcolor\": \"white\", \"linecolor\": \"white\", \"ticks\": \"\", \"title\": {\"standoff\": 15}, \"zerolinecolor\": \"white\", \"zerolinewidth\": 2}}}, \"title\": {\"font\": {\"color\": \"#4D5663\"}}, \"xaxis\": {\"gridcolor\": \"#E1E5ED\", \"showgrid\": true, \"tickfont\": {\"color\": \"#4D5663\"}, \"title\": {\"font\": {\"color\": \"#4D5663\"}, \"text\": \"\"}, \"zerolinecolor\": \"#E1E5ED\"}, \"yaxis\": {\"gridcolor\": \"#E1E5ED\", \"showgrid\": true, \"tickfont\": {\"color\": \"#4D5663\"}, \"title\": {\"font\": {\"color\": \"#4D5663\"}, \"text\": \"\"}, \"zerolinecolor\": \"#E1E5ED\"}},\n",
       "                        {\"showLink\": true, \"linkText\": \"Export to plot.ly\", \"plotlyServerURL\": \"https://plot.ly\", \"responsive\": true}\n",
       "                    ).then(function(){\n",
       "                            \n",
       "var gd = document.getElementById('ea1cd7e2-0071-4b2d-bd04-30325d73ae79');\n",
       "var x = new MutationObserver(function (mutations, observer) {{\n",
       "        var display = window.getComputedStyle(gd).display;\n",
       "        if (!display || display === 'none') {{\n",
       "            console.log([gd, 'removed!']);\n",
       "            Plotly.purge(gd);\n",
       "            observer.disconnect();\n",
       "        }}\n",
       "}});\n",
       "\n",
       "// Listen for the removal of the full notebook cells\n",
       "var notebookContainer = gd.closest('#notebook-container');\n",
       "if (notebookContainer) {{\n",
       "    x.observe(notebookContainer, {childList: true});\n",
       "}}\n",
       "\n",
       "// Listen for the clearing of the current output cell\n",
       "var outputEl = gd.closest('.output');\n",
       "if (outputEl) {{\n",
       "    x.observe(outputEl, {childList: true});\n",
       "}}\n",
       "\n",
       "                        })\n",
       "                };\n",
       "                });\n",
       "            </script>\n",
       "        </div>"
      ]
     },
     "metadata": {},
     "output_type": "display_data"
    }
   ],
   "source": [
    "data.corr().iplot(kind='line')"
   ]
  },
  {
   "cell_type": "markdown",
   "metadata": {},
   "source": [
    "Correlations can be useful because sometime they will be able to indicate a predictive relationship that can be exploited in practice. For example, from the graph above, the prices of *.SPX* and *IBM.N* are in the analogous trend."
   ]
  },
  {
   "cell_type": "markdown",
   "metadata": {},
   "source": [
    "### OLS Regression[3]\n",
    "Ordinary least squares (OLS) regression is a statistical method of analysis that estimates the relationship between one or more independent variables and a dependent variable; the method estimates the relationship by minimizing the sum of the squares in the difference between the observed and predicted values of the dependent variable configured as a straight line. In this entry, OLS regression will be discussed in the context of a bivariate model, that is, a model in which there is only one independent variable ( X ) predicting a dependent variable ( Y ). However, the logic of OLS regression is easily extended to the multivariate model in which there are two or more independent variables. \n",
    "\n",
    "For more details of the model, please refer to [ORDINARY LEAST SQUARES REGRESSION (OLS)](https://www.xlstat.com/en/solutions/features/ordinary-least-squares-regression-ols)"
   ]
  },
  {
   "cell_type": "markdown",
   "metadata": {},
   "source": [
    "#### A. Preparing Lagged Data\n",
    "\n",
    "&nbsp;&nbsp;&nbsp;The code that follows derives the lagged data for every single RIC. First, a function that adds columns with lagged data to a DataFrame object."
   ]
  },
  {
   "cell_type": "code",
   "execution_count": 11,
   "metadata": {},
   "outputs": [],
   "source": [
    "def add_lags(data, ric, lags):\n",
    "    cols = []\n",
    "    df = pd.DataFrame(data[ric]) #create data frame of the RIC\n",
    "    for lag in range(1, lags + 1):\n",
    "        col = 'lag_{}'.format(lag)  # defines the column name\n",
    "        df[col] = df[ric].shift(lag)  # creates the lagged data column\n",
    "        cols.append(col)  # stores the column name\n",
    "    df.dropna(inplace=True)  # gets rid of incomplete data rows\n",
    "    return df, cols"
   ]
  },
  {
   "cell_type": "markdown",
   "metadata": {},
   "source": [
    "&nbsp;&nbsp;&nbsp;Next, the iterations over all RICs, using the add_lags function and storing the resulting DataFrame objects in a dictonary. Then, display the results."
   ]
  },
  {
   "cell_type": "code",
   "execution_count": 12,
   "metadata": {},
   "outputs": [
    {
     "name": "stdout",
     "output_type": "stream",
     "text": [
      "               .SPX    lag_1    lag_2    lag_3    lag_4    lag_5\n",
      "DATE                                                            \n",
      "2018-01-09  2751.29  2747.71  2743.15  2723.99  2713.06  2695.81\n",
      "2018-01-10  2748.23  2751.29  2747.71  2743.15  2723.99  2713.06\n",
      "2018-01-11  2767.56  2748.23  2751.29  2747.71  2743.15  2723.99\n",
      "2018-01-12  2786.24  2767.56  2748.23  2751.29  2747.71  2743.15\n",
      "2018-01-16  2776.42  2786.24  2767.56  2748.23  2751.29  2747.71\n",
      "...             ...      ...      ...      ...      ...      ...\n",
      "2018-12-21  2416.62  2467.42  2506.96  2546.16  2545.94  2599.95\n",
      "2018-12-24  2351.10  2416.62  2467.42  2506.96  2546.16  2545.94\n",
      "2018-12-26  2467.70  2351.10  2416.62  2467.42  2506.96  2546.16\n",
      "2018-12-27  2488.83  2467.70  2351.10  2416.62  2467.42  2506.96\n",
      "2018-12-28  2485.74  2488.83  2467.70  2351.10  2416.62  2467.42\n",
      "\n",
      "[245 rows x 6 columns]\n",
      "             .VIX  lag_1  lag_2  lag_3  lag_4  lag_5\n",
      "DATE                                                \n",
      "2018-01-09  10.08   9.52   9.22   9.22   9.15   9.77\n",
      "2018-01-10   9.82  10.08   9.52   9.22   9.22   9.15\n",
      "2018-01-11   9.88   9.82  10.08   9.52   9.22   9.22\n",
      "2018-01-12  10.16   9.88   9.82  10.08   9.52   9.22\n",
      "2018-01-16  11.66  10.16   9.88   9.82  10.08   9.52\n",
      "...           ...    ...    ...    ...    ...    ...\n",
      "2018-12-21  30.11  28.38  25.58  25.58  24.52  21.63\n",
      "2018-12-24  36.07  30.11  28.38  25.58  25.58  24.52\n",
      "2018-12-26  30.41  36.07  30.11  28.38  25.58  25.58\n",
      "2018-12-27  29.96  30.41  36.07  30.11  28.38  25.58\n",
      "2018-12-28  28.34  29.96  30.41  36.07  30.11  28.38\n",
      "\n",
      "[245 rows x 6 columns]\n",
      "             IBM.N   lag_1   lag_2   lag_3   lag_4   lag_5\n",
      "DATE                                                      \n",
      "2018-01-09  163.83  163.47  162.49  161.70  158.49  154.25\n",
      "2018-01-10  164.18  163.83  163.47  162.49  161.70  158.49\n",
      "2018-01-11  164.20  164.18  163.83  163.47  162.49  161.70\n",
      "2018-01-12  163.14  164.20  164.18  163.83  163.47  162.49\n",
      "2018-01-16  163.85  163.14  164.20  164.18  163.83  163.47\n",
      "...            ...     ...     ...     ...     ...     ...\n",
      "2018-12-21  110.94  113.02  116.43  116.65  116.10  119.90\n",
      "2018-12-24  107.57  110.94  113.02  116.43  116.65  116.10\n",
      "2018-12-26  111.39  107.57  110.94  113.02  116.43  116.65\n",
      "2018-12-27  113.78  111.39  107.57  110.94  113.02  116.43\n",
      "2018-12-28  113.03  113.78  111.39  107.57  110.94  113.02\n",
      "\n",
      "[245 rows x 6 columns]\n",
      "                   GE      lag_1      lag_2      lag_3      lag_4      lag_5\n",
      "DATE                                                                        \n",
      "2018-01-09  17.840819  17.571668  17.821594  17.811981  17.446706  17.283293\n",
      "2018-01-10  18.195520  17.840819  17.571668  17.821594  17.811981  17.446706\n",
      "2018-01-11  18.282994  18.195520  17.840819  17.571668  17.821594  17.811981\n",
      "2018-01-12  18.033069  18.282994  18.195520  17.840819  17.571668  17.821594\n",
      "2018-01-16  17.504381  18.033069  18.282994  18.195520  17.840819  17.571668\n",
      "...               ...        ...        ...        ...        ...        ...\n",
      "2018-12-21   6.872945   7.151707   7.363183   6.997907   6.872945   6.824882\n",
      "2018-12-24   6.651857   6.872945   7.151707   7.363183   6.997907   6.872945\n",
      "2018-12-26   7.103645   6.651857   6.872945   7.151707   7.363183   6.997907\n",
      "2018-12-27   6.988295   7.103645   6.651857   6.872945   7.151707   7.363183\n",
      "2018-12-28   7.218995   6.988295   7.103645   6.651857   6.872945   7.151707\n",
      "\n",
      "[245 rows x 6 columns]\n"
     ]
    }
   ],
   "source": [
    "dfs = {}\n",
    "for ric in RICs:\n",
    "    df, cols = add_lags(data, ric, 5) # create the lagged data of a RIC\n",
    "    dfs[ric] = df # create the RIC's logged data column \n",
    "    print(dfs[ric]) # print the lagged data of the RIC"
   ]
  },
  {
   "cell_type": "markdown",
   "metadata": {},
   "source": [
    "#### B. Implementing OLS Regression\n",
    "The matrix consisting of the lagged data columns is used to \"predict\" the next day's value of the RIC via linear OLS regression."
   ]
  },
  {
   "cell_type": "code",
   "execution_count": 13,
   "metadata": {},
   "outputs": [
    {
     "name": "stdout",
     "output_type": "stream",
     "text": [
      ".SPX       | [ 1.00949284 -0.06710675  0.1349035  -0.11831175  0.04060426]\n",
      ".VIX       | [ 0.89882376 -0.02220077  0.18971423 -0.12039734  0.05374542]\n",
      "IBM.N      | [ 0.95959374 -0.0344673   0.11081562 -0.02370618 -0.01379629]\n",
      "GE         | [ 1.01689277  0.03539973 -0.00375047 -0.05506814  0.00334075]\n"
     ]
    }
   ],
   "source": [
    "regs = {}\n",
    "for ric in RICs:\n",
    "    df = dfs[ric]  # getting logged data of the RIC\n",
    "    reg = np.linalg.lstsq(df[cols], df[ric], rcond=-1)[0]  # the OLS regression\n",
    "    regs[ric] = reg  # storing the results\n",
    "    print('{:10} | {}'.format(ric, regs[ric])) # print the results"
   ]
  },
  {
   "cell_type": "markdown",
   "metadata": {},
   "source": [
    "### Comparing the original time series with the OLS predicted one\n",
    "The predicted prices are almost the prices from the day before."
   ]
  },
  {
   "cell_type": "code",
   "execution_count": 14,
   "metadata": {},
   "outputs": [
    {
     "data": {
      "application/vnd.plotly.v1+json": {
       "config": {
        "linkText": "Export to plot.ly",
        "plotlyServerURL": "https://plot.ly",
        "showLink": true
       },
       "data": [
        {
         "line": {
          "color": "rgba(255, 153, 51, 1.0)",
          "dash": "solid",
          "shape": "linear",
          "width": 1.3
         },
         "mode": "lines",
         "name": ".SPX",
         "text": "",
         "type": "scatter",
         "x": [
          "2018-10-17",
          "2018-10-18",
          "2018-10-19",
          "2018-10-22",
          "2018-10-23",
          "2018-10-24",
          "2018-10-25",
          "2018-10-26",
          "2018-10-29",
          "2018-10-30",
          "2018-10-31",
          "2018-11-01",
          "2018-11-02",
          "2018-11-05",
          "2018-11-06",
          "2018-11-07",
          "2018-11-08",
          "2018-11-09",
          "2018-11-12",
          "2018-11-13",
          "2018-11-14",
          "2018-11-15",
          "2018-11-16",
          "2018-11-19",
          "2018-11-20",
          "2018-11-21",
          "2018-11-23",
          "2018-11-26",
          "2018-11-27",
          "2018-11-28",
          "2018-11-29",
          "2018-11-30",
          "2018-12-03",
          "2018-12-04",
          "2018-12-06",
          "2018-12-07",
          "2018-12-10",
          "2018-12-11",
          "2018-12-12",
          "2018-12-13",
          "2018-12-14",
          "2018-12-17",
          "2018-12-18",
          "2018-12-19",
          "2018-12-20",
          "2018-12-21",
          "2018-12-24",
          "2018-12-26",
          "2018-12-27",
          "2018-12-28"
         ],
         "y": [
          2809.21,
          2768.78,
          2767.78,
          2755.88,
          2740.69,
          2656.1,
          2705.57,
          2658.69,
          2641.25,
          2682.63,
          2711.74,
          2740.37,
          2723.06,
          2738.31,
          2755.45,
          2813.89,
          2806.83,
          2781.01,
          2726.22,
          2722.18,
          2701.58,
          2730.2,
          2736.27,
          2690.73,
          2641.89,
          2649.93,
          2632.56,
          2673.45,
          2682.17,
          2743.79,
          2737.76,
          2760.17,
          2790.37,
          2700.06,
          2695.95,
          2633.08,
          2637.72,
          2636.78,
          2651.07,
          2650.54,
          2599.95,
          2545.94,
          2546.16,
          2506.96,
          2467.42,
          2416.62,
          2351.1,
          2467.7,
          2488.83,
          2485.74
         ]
        },
        {
         "line": {
          "color": "rgba(55, 128, 191, 1.0)",
          "dash": "solid",
          "shape": "linear",
          "width": 1.3
         },
         "mode": "lines",
         "name": "PRED",
         "text": "",
         "type": "scatter",
         "x": [
          "2018-10-17",
          "2018-10-18",
          "2018-10-19",
          "2018-10-22",
          "2018-10-23",
          "2018-10-24",
          "2018-10-25",
          "2018-10-26",
          "2018-10-29",
          "2018-10-30",
          "2018-10-31",
          "2018-11-01",
          "2018-11-02",
          "2018-11-05",
          "2018-11-06",
          "2018-11-07",
          "2018-11-08",
          "2018-11-09",
          "2018-11-12",
          "2018-11-13",
          "2018-11-14",
          "2018-11-15",
          "2018-11-16",
          "2018-11-19",
          "2018-11-20",
          "2018-11-21",
          "2018-11-23",
          "2018-11-26",
          "2018-11-27",
          "2018-11-28",
          "2018-11-29",
          "2018-11-30",
          "2018-12-03",
          "2018-12-04",
          "2018-12-06",
          "2018-12-07",
          "2018-12-10",
          "2018-12-11",
          "2018-12-12",
          "2018-12-13",
          "2018-12-14",
          "2018-12-17",
          "2018-12-18",
          "2018-12-19",
          "2018-12-20",
          "2018-12-21",
          "2018-12-24",
          "2018-12-26",
          "2018-12-27",
          "2018-12-28"
         ],
         "y": [
          2815.605325102206,
          2801.803446647099,
          2772.521176061933,
          2766.4697803043405,
          2751.554705310871,
          2741.638690748424,
          2654.136373064767,
          2709.0706645758287,
          2648.328347610928,
          2649.9336445766994,
          2677.264927139978,
          2709.0768169551757,
          2741.767255189584,
          2720.694830547971,
          2739.3496506693305,
          2751.088525283626,
          2814.2008316454762,
          2802.9572260802524,
          2783.8410067859627,
          2723.092990495283,
          2722.4164037504406,
          2697.2687431377058,
          2732.431715353876,
          2732.1130016559814,
          2691.8674788279427,
          2642.2162242059676,
          2647.91047647258,
          2628.881745631408,
          2676.3394034492394,
          2677.120573779018,
          2746.6380887588516,
          2732.0490245124774,
          2764.0177960241144,
          2785.250848826565,
          2698.2955690597983,
          2701.384839377612,
          2623.3476255267606,
          2643.6072024276405,
          2630.6848112745483,
          2653.0708723579137,
          2648.3483199752523,
          2599.5410318206186,
          2546.612912337743,
          2544.2776082762102,
          2503.368458688878,
          2470.449222872201,
          2414.3131056342263,
          2350.892826795932,
          2469.229786948813,
          2478.301591010681
         ]
        }
       ],
       "layout": {
        "height": 450,
        "template": {
         "data": {
          "bar": [
           {
            "error_x": {
             "color": "#2a3f5f"
            },
            "error_y": {
             "color": "#2a3f5f"
            },
            "marker": {
             "line": {
              "color": "#E5ECF6",
              "width": 0.5
             }
            },
            "type": "bar"
           }
          ],
          "barpolar": [
           {
            "marker": {
             "line": {
              "color": "#E5ECF6",
              "width": 0.5
             }
            },
            "type": "barpolar"
           }
          ],
          "carpet": [
           {
            "aaxis": {
             "endlinecolor": "#2a3f5f",
             "gridcolor": "white",
             "linecolor": "white",
             "minorgridcolor": "white",
             "startlinecolor": "#2a3f5f"
            },
            "baxis": {
             "endlinecolor": "#2a3f5f",
             "gridcolor": "white",
             "linecolor": "white",
             "minorgridcolor": "white",
             "startlinecolor": "#2a3f5f"
            },
            "type": "carpet"
           }
          ],
          "choropleth": [
           {
            "colorbar": {
             "outlinewidth": 0,
             "ticks": ""
            },
            "type": "choropleth"
           }
          ],
          "contour": [
           {
            "colorbar": {
             "outlinewidth": 0,
             "ticks": ""
            },
            "colorscale": [
             [
              0,
              "#0d0887"
             ],
             [
              0.1111111111111111,
              "#46039f"
             ],
             [
              0.2222222222222222,
              "#7201a8"
             ],
             [
              0.3333333333333333,
              "#9c179e"
             ],
             [
              0.4444444444444444,
              "#bd3786"
             ],
             [
              0.5555555555555556,
              "#d8576b"
             ],
             [
              0.6666666666666666,
              "#ed7953"
             ],
             [
              0.7777777777777778,
              "#fb9f3a"
             ],
             [
              0.8888888888888888,
              "#fdca26"
             ],
             [
              1,
              "#f0f921"
             ]
            ],
            "type": "contour"
           }
          ],
          "contourcarpet": [
           {
            "colorbar": {
             "outlinewidth": 0,
             "ticks": ""
            },
            "type": "contourcarpet"
           }
          ],
          "heatmap": [
           {
            "colorbar": {
             "outlinewidth": 0,
             "ticks": ""
            },
            "colorscale": [
             [
              0,
              "#0d0887"
             ],
             [
              0.1111111111111111,
              "#46039f"
             ],
             [
              0.2222222222222222,
              "#7201a8"
             ],
             [
              0.3333333333333333,
              "#9c179e"
             ],
             [
              0.4444444444444444,
              "#bd3786"
             ],
             [
              0.5555555555555556,
              "#d8576b"
             ],
             [
              0.6666666666666666,
              "#ed7953"
             ],
             [
              0.7777777777777778,
              "#fb9f3a"
             ],
             [
              0.8888888888888888,
              "#fdca26"
             ],
             [
              1,
              "#f0f921"
             ]
            ],
            "type": "heatmap"
           }
          ],
          "heatmapgl": [
           {
            "colorbar": {
             "outlinewidth": 0,
             "ticks": ""
            },
            "colorscale": [
             [
              0,
              "#0d0887"
             ],
             [
              0.1111111111111111,
              "#46039f"
             ],
             [
              0.2222222222222222,
              "#7201a8"
             ],
             [
              0.3333333333333333,
              "#9c179e"
             ],
             [
              0.4444444444444444,
              "#bd3786"
             ],
             [
              0.5555555555555556,
              "#d8576b"
             ],
             [
              0.6666666666666666,
              "#ed7953"
             ],
             [
              0.7777777777777778,
              "#fb9f3a"
             ],
             [
              0.8888888888888888,
              "#fdca26"
             ],
             [
              1,
              "#f0f921"
             ]
            ],
            "type": "heatmapgl"
           }
          ],
          "histogram": [
           {
            "marker": {
             "colorbar": {
              "outlinewidth": 0,
              "ticks": ""
             }
            },
            "type": "histogram"
           }
          ],
          "histogram2d": [
           {
            "colorbar": {
             "outlinewidth": 0,
             "ticks": ""
            },
            "colorscale": [
             [
              0,
              "#0d0887"
             ],
             [
              0.1111111111111111,
              "#46039f"
             ],
             [
              0.2222222222222222,
              "#7201a8"
             ],
             [
              0.3333333333333333,
              "#9c179e"
             ],
             [
              0.4444444444444444,
              "#bd3786"
             ],
             [
              0.5555555555555556,
              "#d8576b"
             ],
             [
              0.6666666666666666,
              "#ed7953"
             ],
             [
              0.7777777777777778,
              "#fb9f3a"
             ],
             [
              0.8888888888888888,
              "#fdca26"
             ],
             [
              1,
              "#f0f921"
             ]
            ],
            "type": "histogram2d"
           }
          ],
          "histogram2dcontour": [
           {
            "colorbar": {
             "outlinewidth": 0,
             "ticks": ""
            },
            "colorscale": [
             [
              0,
              "#0d0887"
             ],
             [
              0.1111111111111111,
              "#46039f"
             ],
             [
              0.2222222222222222,
              "#7201a8"
             ],
             [
              0.3333333333333333,
              "#9c179e"
             ],
             [
              0.4444444444444444,
              "#bd3786"
             ],
             [
              0.5555555555555556,
              "#d8576b"
             ],
             [
              0.6666666666666666,
              "#ed7953"
             ],
             [
              0.7777777777777778,
              "#fb9f3a"
             ],
             [
              0.8888888888888888,
              "#fdca26"
             ],
             [
              1,
              "#f0f921"
             ]
            ],
            "type": "histogram2dcontour"
           }
          ],
          "mesh3d": [
           {
            "colorbar": {
             "outlinewidth": 0,
             "ticks": ""
            },
            "type": "mesh3d"
           }
          ],
          "parcoords": [
           {
            "line": {
             "colorbar": {
              "outlinewidth": 0,
              "ticks": ""
             }
            },
            "type": "parcoords"
           }
          ],
          "pie": [
           {
            "automargin": true,
            "type": "pie"
           }
          ],
          "scatter": [
           {
            "marker": {
             "colorbar": {
              "outlinewidth": 0,
              "ticks": ""
             }
            },
            "type": "scatter"
           }
          ],
          "scatter3d": [
           {
            "line": {
             "colorbar": {
              "outlinewidth": 0,
              "ticks": ""
             }
            },
            "marker": {
             "colorbar": {
              "outlinewidth": 0,
              "ticks": ""
             }
            },
            "type": "scatter3d"
           }
          ],
          "scattercarpet": [
           {
            "marker": {
             "colorbar": {
              "outlinewidth": 0,
              "ticks": ""
             }
            },
            "type": "scattercarpet"
           }
          ],
          "scattergeo": [
           {
            "marker": {
             "colorbar": {
              "outlinewidth": 0,
              "ticks": ""
             }
            },
            "type": "scattergeo"
           }
          ],
          "scattergl": [
           {
            "marker": {
             "colorbar": {
              "outlinewidth": 0,
              "ticks": ""
             }
            },
            "type": "scattergl"
           }
          ],
          "scattermapbox": [
           {
            "marker": {
             "colorbar": {
              "outlinewidth": 0,
              "ticks": ""
             }
            },
            "type": "scattermapbox"
           }
          ],
          "scatterpolar": [
           {
            "marker": {
             "colorbar": {
              "outlinewidth": 0,
              "ticks": ""
             }
            },
            "type": "scatterpolar"
           }
          ],
          "scatterpolargl": [
           {
            "marker": {
             "colorbar": {
              "outlinewidth": 0,
              "ticks": ""
             }
            },
            "type": "scatterpolargl"
           }
          ],
          "scatterternary": [
           {
            "marker": {
             "colorbar": {
              "outlinewidth": 0,
              "ticks": ""
             }
            },
            "type": "scatterternary"
           }
          ],
          "surface": [
           {
            "colorbar": {
             "outlinewidth": 0,
             "ticks": ""
            },
            "colorscale": [
             [
              0,
              "#0d0887"
             ],
             [
              0.1111111111111111,
              "#46039f"
             ],
             [
              0.2222222222222222,
              "#7201a8"
             ],
             [
              0.3333333333333333,
              "#9c179e"
             ],
             [
              0.4444444444444444,
              "#bd3786"
             ],
             [
              0.5555555555555556,
              "#d8576b"
             ],
             [
              0.6666666666666666,
              "#ed7953"
             ],
             [
              0.7777777777777778,
              "#fb9f3a"
             ],
             [
              0.8888888888888888,
              "#fdca26"
             ],
             [
              1,
              "#f0f921"
             ]
            ],
            "type": "surface"
           }
          ],
          "table": [
           {
            "cells": {
             "fill": {
              "color": "#EBF0F8"
             },
             "line": {
              "color": "white"
             }
            },
            "header": {
             "fill": {
              "color": "#C8D4E3"
             },
             "line": {
              "color": "white"
             }
            },
            "type": "table"
           }
          ]
         },
         "layout": {
          "annotationdefaults": {
           "arrowcolor": "#2a3f5f",
           "arrowhead": 0,
           "arrowwidth": 1
          },
          "coloraxis": {
           "colorbar": {
            "outlinewidth": 0,
            "ticks": ""
           }
          },
          "colorscale": {
           "diverging": [
            [
             0,
             "#8e0152"
            ],
            [
             0.1,
             "#c51b7d"
            ],
            [
             0.2,
             "#de77ae"
            ],
            [
             0.3,
             "#f1b6da"
            ],
            [
             0.4,
             "#fde0ef"
            ],
            [
             0.5,
             "#f7f7f7"
            ],
            [
             0.6,
             "#e6f5d0"
            ],
            [
             0.7,
             "#b8e186"
            ],
            [
             0.8,
             "#7fbc41"
            ],
            [
             0.9,
             "#4d9221"
            ],
            [
             1,
             "#276419"
            ]
           ],
           "sequential": [
            [
             0,
             "#0d0887"
            ],
            [
             0.1111111111111111,
             "#46039f"
            ],
            [
             0.2222222222222222,
             "#7201a8"
            ],
            [
             0.3333333333333333,
             "#9c179e"
            ],
            [
             0.4444444444444444,
             "#bd3786"
            ],
            [
             0.5555555555555556,
             "#d8576b"
            ],
            [
             0.6666666666666666,
             "#ed7953"
            ],
            [
             0.7777777777777778,
             "#fb9f3a"
            ],
            [
             0.8888888888888888,
             "#fdca26"
            ],
            [
             1,
             "#f0f921"
            ]
           ],
           "sequentialminus": [
            [
             0,
             "#0d0887"
            ],
            [
             0.1111111111111111,
             "#46039f"
            ],
            [
             0.2222222222222222,
             "#7201a8"
            ],
            [
             0.3333333333333333,
             "#9c179e"
            ],
            [
             0.4444444444444444,
             "#bd3786"
            ],
            [
             0.5555555555555556,
             "#d8576b"
            ],
            [
             0.6666666666666666,
             "#ed7953"
            ],
            [
             0.7777777777777778,
             "#fb9f3a"
            ],
            [
             0.8888888888888888,
             "#fdca26"
            ],
            [
             1,
             "#f0f921"
            ]
           ]
          },
          "colorway": [
           "#636efa",
           "#EF553B",
           "#00cc96",
           "#ab63fa",
           "#FFA15A",
           "#19d3f3",
           "#FF6692",
           "#B6E880",
           "#FF97FF",
           "#FECB52"
          ],
          "font": {
           "color": "#2a3f5f"
          },
          "geo": {
           "bgcolor": "white",
           "lakecolor": "white",
           "landcolor": "#E5ECF6",
           "showlakes": true,
           "showland": true,
           "subunitcolor": "white"
          },
          "hoverlabel": {
           "align": "left"
          },
          "hovermode": "closest",
          "mapbox": {
           "style": "light"
          },
          "paper_bgcolor": "white",
          "plot_bgcolor": "#E5ECF6",
          "polar": {
           "angularaxis": {
            "gridcolor": "white",
            "linecolor": "white",
            "ticks": ""
           },
           "bgcolor": "#E5ECF6",
           "radialaxis": {
            "gridcolor": "white",
            "linecolor": "white",
            "ticks": ""
           }
          },
          "scene": {
           "xaxis": {
            "backgroundcolor": "#E5ECF6",
            "gridcolor": "white",
            "gridwidth": 2,
            "linecolor": "white",
            "showbackground": true,
            "ticks": "",
            "zerolinecolor": "white"
           },
           "yaxis": {
            "backgroundcolor": "#E5ECF6",
            "gridcolor": "white",
            "gridwidth": 2,
            "linecolor": "white",
            "showbackground": true,
            "ticks": "",
            "zerolinecolor": "white"
           },
           "zaxis": {
            "backgroundcolor": "#E5ECF6",
            "gridcolor": "white",
            "gridwidth": 2,
            "linecolor": "white",
            "showbackground": true,
            "ticks": "",
            "zerolinecolor": "white"
           }
          },
          "shapedefaults": {
           "line": {
            "color": "#2a3f5f"
           }
          },
          "ternary": {
           "aaxis": {
            "gridcolor": "white",
            "linecolor": "white",
            "ticks": ""
           },
           "baxis": {
            "gridcolor": "white",
            "linecolor": "white",
            "ticks": ""
           },
           "bgcolor": "#E5ECF6",
           "caxis": {
            "gridcolor": "white",
            "linecolor": "white",
            "ticks": ""
           }
          },
          "title": {
           "x": 0.05
          },
          "xaxis": {
           "automargin": true,
           "gridcolor": "white",
           "linecolor": "white",
           "ticks": "",
           "title": {
            "standoff": 15
           },
           "zerolinecolor": "white",
           "zerolinewidth": 2
          },
          "yaxis": {
           "automargin": true,
           "gridcolor": "white",
           "linecolor": "white",
           "ticks": "",
           "title": {
            "standoff": 15
           },
           "zerolinecolor": "white",
           "zerolinewidth": 2
          }
         }
        },
        "width": 1000
       }
      },
      "text/html": [
       "<div>\n",
       "        \n",
       "        \n",
       "            <div id=\"571d1bb5-7a9f-4042-8ba8-0f0bc7e33e3a\" class=\"plotly-graph-div\" style=\"height:450px; width:1000px;\"></div>\n",
       "            <script type=\"text/javascript\">\n",
       "                require([\"plotly\"], function(Plotly) {\n",
       "                    window.PLOTLYENV=window.PLOTLYENV || {};\n",
       "                    window.PLOTLYENV.BASE_URL='https://plot.ly';\n",
       "                    \n",
       "                if (document.getElementById(\"571d1bb5-7a9f-4042-8ba8-0f0bc7e33e3a\")) {\n",
       "                    Plotly.newPlot(\n",
       "                        '571d1bb5-7a9f-4042-8ba8-0f0bc7e33e3a',\n",
       "                        [{\"line\": {\"color\": \"rgba(255, 153, 51, 1.0)\", \"dash\": \"solid\", \"shape\": \"linear\", \"width\": 1.3}, \"mode\": \"lines\", \"name\": \".SPX\", \"text\": \"\", \"type\": \"scatter\", \"x\": [\"2018-10-17\", \"2018-10-18\", \"2018-10-19\", \"2018-10-22\", \"2018-10-23\", \"2018-10-24\", \"2018-10-25\", \"2018-10-26\", \"2018-10-29\", \"2018-10-30\", \"2018-10-31\", \"2018-11-01\", \"2018-11-02\", \"2018-11-05\", \"2018-11-06\", \"2018-11-07\", \"2018-11-08\", \"2018-11-09\", \"2018-11-12\", \"2018-11-13\", \"2018-11-14\", \"2018-11-15\", \"2018-11-16\", \"2018-11-19\", \"2018-11-20\", \"2018-11-21\", \"2018-11-23\", \"2018-11-26\", \"2018-11-27\", \"2018-11-28\", \"2018-11-29\", \"2018-11-30\", \"2018-12-03\", \"2018-12-04\", \"2018-12-06\", \"2018-12-07\", \"2018-12-10\", \"2018-12-11\", \"2018-12-12\", \"2018-12-13\", \"2018-12-14\", \"2018-12-17\", \"2018-12-18\", \"2018-12-19\", \"2018-12-20\", \"2018-12-21\", \"2018-12-24\", \"2018-12-26\", \"2018-12-27\", \"2018-12-28\"], \"y\": [2809.21, 2768.78, 2767.78, 2755.88, 2740.69, 2656.1, 2705.57, 2658.69, 2641.25, 2682.63, 2711.74, 2740.37, 2723.06, 2738.31, 2755.45, 2813.89, 2806.83, 2781.01, 2726.22, 2722.18, 2701.58, 2730.2, 2736.27, 2690.73, 2641.89, 2649.93, 2632.56, 2673.45, 2682.17, 2743.79, 2737.76, 2760.17, 2790.37, 2700.06, 2695.95, 2633.08, 2637.72, 2636.78, 2651.07, 2650.54, 2599.95, 2545.94, 2546.16, 2506.96, 2467.42, 2416.62, 2351.1, 2467.7, 2488.83, 2485.74]}, {\"line\": {\"color\": \"rgba(55, 128, 191, 1.0)\", \"dash\": \"solid\", \"shape\": \"linear\", \"width\": 1.3}, \"mode\": \"lines\", \"name\": \"PRED\", \"text\": \"\", \"type\": \"scatter\", \"x\": [\"2018-10-17\", \"2018-10-18\", \"2018-10-19\", \"2018-10-22\", \"2018-10-23\", \"2018-10-24\", \"2018-10-25\", \"2018-10-26\", \"2018-10-29\", \"2018-10-30\", \"2018-10-31\", \"2018-11-01\", \"2018-11-02\", \"2018-11-05\", \"2018-11-06\", \"2018-11-07\", \"2018-11-08\", \"2018-11-09\", \"2018-11-12\", \"2018-11-13\", \"2018-11-14\", \"2018-11-15\", \"2018-11-16\", \"2018-11-19\", \"2018-11-20\", \"2018-11-21\", \"2018-11-23\", \"2018-11-26\", \"2018-11-27\", \"2018-11-28\", \"2018-11-29\", \"2018-11-30\", \"2018-12-03\", \"2018-12-04\", \"2018-12-06\", \"2018-12-07\", \"2018-12-10\", \"2018-12-11\", \"2018-12-12\", \"2018-12-13\", \"2018-12-14\", \"2018-12-17\", \"2018-12-18\", \"2018-12-19\", \"2018-12-20\", \"2018-12-21\", \"2018-12-24\", \"2018-12-26\", \"2018-12-27\", \"2018-12-28\"], \"y\": [2815.605325102206, 2801.803446647099, 2772.521176061933, 2766.4697803043405, 2751.554705310871, 2741.638690748424, 2654.136373064767, 2709.0706645758287, 2648.328347610928, 2649.9336445766994, 2677.264927139978, 2709.0768169551757, 2741.767255189584, 2720.694830547971, 2739.3496506693305, 2751.088525283626, 2814.2008316454762, 2802.9572260802524, 2783.8410067859627, 2723.092990495283, 2722.4164037504406, 2697.2687431377058, 2732.431715353876, 2732.1130016559814, 2691.8674788279427, 2642.2162242059676, 2647.91047647258, 2628.881745631408, 2676.3394034492394, 2677.120573779018, 2746.6380887588516, 2732.0490245124774, 2764.0177960241144, 2785.250848826565, 2698.2955690597983, 2701.384839377612, 2623.3476255267606, 2643.6072024276405, 2630.6848112745483, 2653.0708723579137, 2648.3483199752523, 2599.5410318206186, 2546.612912337743, 2544.2776082762102, 2503.368458688878, 2470.449222872201, 2414.3131056342263, 2350.892826795932, 2469.229786948813, 2478.301591010681]}],\n",
       "                        {\"height\": 450, \"template\": {\"data\": {\"bar\": [{\"error_x\": {\"color\": \"#2a3f5f\"}, \"error_y\": {\"color\": \"#2a3f5f\"}, \"marker\": {\"line\": {\"color\": \"#E5ECF6\", \"width\": 0.5}}, \"type\": \"bar\"}], \"barpolar\": [{\"marker\": {\"line\": {\"color\": \"#E5ECF6\", \"width\": 0.5}}, \"type\": \"barpolar\"}], \"carpet\": [{\"aaxis\": {\"endlinecolor\": \"#2a3f5f\", \"gridcolor\": \"white\", \"linecolor\": \"white\", \"minorgridcolor\": \"white\", \"startlinecolor\": \"#2a3f5f\"}, \"baxis\": {\"endlinecolor\": \"#2a3f5f\", \"gridcolor\": \"white\", \"linecolor\": \"white\", \"minorgridcolor\": \"white\", \"startlinecolor\": \"#2a3f5f\"}, \"type\": \"carpet\"}], \"choropleth\": [{\"colorbar\": {\"outlinewidth\": 0, \"ticks\": \"\"}, \"type\": \"choropleth\"}], \"contour\": [{\"colorbar\": {\"outlinewidth\": 0, \"ticks\": \"\"}, \"colorscale\": [[0.0, \"#0d0887\"], [0.1111111111111111, \"#46039f\"], [0.2222222222222222, \"#7201a8\"], [0.3333333333333333, \"#9c179e\"], [0.4444444444444444, \"#bd3786\"], [0.5555555555555556, \"#d8576b\"], [0.6666666666666666, \"#ed7953\"], [0.7777777777777778, \"#fb9f3a\"], [0.8888888888888888, \"#fdca26\"], [1.0, \"#f0f921\"]], \"type\": \"contour\"}], \"contourcarpet\": [{\"colorbar\": {\"outlinewidth\": 0, \"ticks\": \"\"}, \"type\": \"contourcarpet\"}], \"heatmap\": [{\"colorbar\": {\"outlinewidth\": 0, \"ticks\": \"\"}, \"colorscale\": [[0.0, \"#0d0887\"], [0.1111111111111111, \"#46039f\"], [0.2222222222222222, \"#7201a8\"], [0.3333333333333333, \"#9c179e\"], [0.4444444444444444, \"#bd3786\"], [0.5555555555555556, \"#d8576b\"], [0.6666666666666666, \"#ed7953\"], [0.7777777777777778, \"#fb9f3a\"], [0.8888888888888888, \"#fdca26\"], [1.0, \"#f0f921\"]], \"type\": \"heatmap\"}], \"heatmapgl\": [{\"colorbar\": {\"outlinewidth\": 0, \"ticks\": \"\"}, \"colorscale\": [[0.0, \"#0d0887\"], [0.1111111111111111, \"#46039f\"], [0.2222222222222222, \"#7201a8\"], [0.3333333333333333, \"#9c179e\"], [0.4444444444444444, \"#bd3786\"], [0.5555555555555556, \"#d8576b\"], [0.6666666666666666, \"#ed7953\"], [0.7777777777777778, \"#fb9f3a\"], [0.8888888888888888, \"#fdca26\"], [1.0, \"#f0f921\"]], \"type\": \"heatmapgl\"}], \"histogram\": [{\"marker\": {\"colorbar\": {\"outlinewidth\": 0, \"ticks\": \"\"}}, \"type\": \"histogram\"}], \"histogram2d\": [{\"colorbar\": {\"outlinewidth\": 0, \"ticks\": \"\"}, \"colorscale\": [[0.0, \"#0d0887\"], [0.1111111111111111, \"#46039f\"], [0.2222222222222222, \"#7201a8\"], [0.3333333333333333, \"#9c179e\"], [0.4444444444444444, \"#bd3786\"], [0.5555555555555556, \"#d8576b\"], [0.6666666666666666, \"#ed7953\"], [0.7777777777777778, \"#fb9f3a\"], [0.8888888888888888, \"#fdca26\"], [1.0, \"#f0f921\"]], \"type\": \"histogram2d\"}], \"histogram2dcontour\": [{\"colorbar\": {\"outlinewidth\": 0, \"ticks\": \"\"}, \"colorscale\": [[0.0, \"#0d0887\"], [0.1111111111111111, \"#46039f\"], [0.2222222222222222, \"#7201a8\"], [0.3333333333333333, \"#9c179e\"], [0.4444444444444444, \"#bd3786\"], [0.5555555555555556, \"#d8576b\"], [0.6666666666666666, \"#ed7953\"], [0.7777777777777778, \"#fb9f3a\"], [0.8888888888888888, \"#fdca26\"], [1.0, \"#f0f921\"]], \"type\": \"histogram2dcontour\"}], \"mesh3d\": [{\"colorbar\": {\"outlinewidth\": 0, \"ticks\": \"\"}, \"type\": \"mesh3d\"}], \"parcoords\": [{\"line\": {\"colorbar\": {\"outlinewidth\": 0, \"ticks\": \"\"}}, \"type\": \"parcoords\"}], \"pie\": [{\"automargin\": true, \"type\": \"pie\"}], \"scatter\": [{\"marker\": {\"colorbar\": {\"outlinewidth\": 0, \"ticks\": \"\"}}, \"type\": \"scatter\"}], \"scatter3d\": [{\"line\": {\"colorbar\": {\"outlinewidth\": 0, \"ticks\": \"\"}}, \"marker\": {\"colorbar\": {\"outlinewidth\": 0, \"ticks\": \"\"}}, \"type\": \"scatter3d\"}], \"scattercarpet\": [{\"marker\": {\"colorbar\": {\"outlinewidth\": 0, \"ticks\": \"\"}}, \"type\": \"scattercarpet\"}], \"scattergeo\": [{\"marker\": {\"colorbar\": {\"outlinewidth\": 0, \"ticks\": \"\"}}, \"type\": \"scattergeo\"}], \"scattergl\": [{\"marker\": {\"colorbar\": {\"outlinewidth\": 0, \"ticks\": \"\"}}, \"type\": \"scattergl\"}], \"scattermapbox\": [{\"marker\": {\"colorbar\": {\"outlinewidth\": 0, \"ticks\": \"\"}}, \"type\": \"scattermapbox\"}], \"scatterpolar\": [{\"marker\": {\"colorbar\": {\"outlinewidth\": 0, \"ticks\": \"\"}}, \"type\": \"scatterpolar\"}], \"scatterpolargl\": [{\"marker\": {\"colorbar\": {\"outlinewidth\": 0, \"ticks\": \"\"}}, \"type\": \"scatterpolargl\"}], \"scatterternary\": [{\"marker\": {\"colorbar\": {\"outlinewidth\": 0, \"ticks\": \"\"}}, \"type\": \"scatterternary\"}], \"surface\": [{\"colorbar\": {\"outlinewidth\": 0, \"ticks\": \"\"}, \"colorscale\": [[0.0, \"#0d0887\"], [0.1111111111111111, \"#46039f\"], [0.2222222222222222, \"#7201a8\"], [0.3333333333333333, \"#9c179e\"], [0.4444444444444444, \"#bd3786\"], [0.5555555555555556, \"#d8576b\"], [0.6666666666666666, \"#ed7953\"], [0.7777777777777778, \"#fb9f3a\"], [0.8888888888888888, \"#fdca26\"], [1.0, \"#f0f921\"]], \"type\": \"surface\"}], \"table\": [{\"cells\": {\"fill\": {\"color\": \"#EBF0F8\"}, \"line\": {\"color\": \"white\"}}, \"header\": {\"fill\": {\"color\": \"#C8D4E3\"}, \"line\": {\"color\": \"white\"}}, \"type\": \"table\"}]}, \"layout\": {\"annotationdefaults\": {\"arrowcolor\": \"#2a3f5f\", \"arrowhead\": 0, \"arrowwidth\": 1}, \"coloraxis\": {\"colorbar\": {\"outlinewidth\": 0, \"ticks\": \"\"}}, \"colorscale\": {\"diverging\": [[0, \"#8e0152\"], [0.1, \"#c51b7d\"], [0.2, \"#de77ae\"], [0.3, \"#f1b6da\"], [0.4, \"#fde0ef\"], [0.5, \"#f7f7f7\"], [0.6, \"#e6f5d0\"], [0.7, \"#b8e186\"], [0.8, \"#7fbc41\"], [0.9, \"#4d9221\"], [1, \"#276419\"]], \"sequential\": [[0.0, \"#0d0887\"], [0.1111111111111111, \"#46039f\"], [0.2222222222222222, \"#7201a8\"], [0.3333333333333333, \"#9c179e\"], [0.4444444444444444, \"#bd3786\"], [0.5555555555555556, \"#d8576b\"], [0.6666666666666666, \"#ed7953\"], [0.7777777777777778, \"#fb9f3a\"], [0.8888888888888888, \"#fdca26\"], [1.0, \"#f0f921\"]], \"sequentialminus\": [[0.0, \"#0d0887\"], [0.1111111111111111, \"#46039f\"], [0.2222222222222222, \"#7201a8\"], [0.3333333333333333, \"#9c179e\"], [0.4444444444444444, \"#bd3786\"], [0.5555555555555556, \"#d8576b\"], [0.6666666666666666, \"#ed7953\"], [0.7777777777777778, \"#fb9f3a\"], [0.8888888888888888, \"#fdca26\"], [1.0, \"#f0f921\"]]}, \"colorway\": [\"#636efa\", \"#EF553B\", \"#00cc96\", \"#ab63fa\", \"#FFA15A\", \"#19d3f3\", \"#FF6692\", \"#B6E880\", \"#FF97FF\", \"#FECB52\"], \"font\": {\"color\": \"#2a3f5f\"}, \"geo\": {\"bgcolor\": \"white\", \"lakecolor\": \"white\", \"landcolor\": \"#E5ECF6\", \"showlakes\": true, \"showland\": true, \"subunitcolor\": \"white\"}, \"hoverlabel\": {\"align\": \"left\"}, \"hovermode\": \"closest\", \"mapbox\": {\"style\": \"light\"}, \"paper_bgcolor\": \"white\", \"plot_bgcolor\": \"#E5ECF6\", \"polar\": {\"angularaxis\": {\"gridcolor\": \"white\", \"linecolor\": \"white\", \"ticks\": \"\"}, \"bgcolor\": \"#E5ECF6\", \"radialaxis\": {\"gridcolor\": \"white\", \"linecolor\": \"white\", \"ticks\": \"\"}}, \"scene\": {\"xaxis\": {\"backgroundcolor\": \"#E5ECF6\", \"gridcolor\": \"white\", \"gridwidth\": 2, \"linecolor\": \"white\", \"showbackground\": true, \"ticks\": \"\", \"zerolinecolor\": \"white\"}, \"yaxis\": {\"backgroundcolor\": \"#E5ECF6\", \"gridcolor\": \"white\", \"gridwidth\": 2, \"linecolor\": \"white\", \"showbackground\": true, \"ticks\": \"\", \"zerolinecolor\": \"white\"}, \"zaxis\": {\"backgroundcolor\": \"#E5ECF6\", \"gridcolor\": \"white\", \"gridwidth\": 2, \"linecolor\": \"white\", \"showbackground\": true, \"ticks\": \"\", \"zerolinecolor\": \"white\"}}, \"shapedefaults\": {\"line\": {\"color\": \"#2a3f5f\"}}, \"ternary\": {\"aaxis\": {\"gridcolor\": \"white\", \"linecolor\": \"white\", \"ticks\": \"\"}, \"baxis\": {\"gridcolor\": \"white\", \"linecolor\": \"white\", \"ticks\": \"\"}, \"bgcolor\": \"#E5ECF6\", \"caxis\": {\"gridcolor\": \"white\", \"linecolor\": \"white\", \"ticks\": \"\"}}, \"title\": {\"x\": 0.05}, \"xaxis\": {\"automargin\": true, \"gridcolor\": \"white\", \"linecolor\": \"white\", \"ticks\": \"\", \"title\": {\"standoff\": 15}, \"zerolinecolor\": \"white\", \"zerolinewidth\": 2}, \"yaxis\": {\"automargin\": true, \"gridcolor\": \"white\", \"linecolor\": \"white\", \"ticks\": \"\", \"title\": {\"standoff\": 15}, \"zerolinecolor\": \"white\", \"zerolinewidth\": 2}}}, \"width\": 1000},\n",
       "                        {\"showLink\": true, \"linkText\": \"Export to plot.ly\", \"plotlyServerURL\": \"https://plot.ly\", \"responsive\": true}\n",
       "                    ).then(function(){\n",
       "                            \n",
       "var gd = document.getElementById('571d1bb5-7a9f-4042-8ba8-0f0bc7e33e3a');\n",
       "var x = new MutationObserver(function (mutations, observer) {{\n",
       "        var display = window.getComputedStyle(gd).display;\n",
       "        if (!display || display === 'none') {{\n",
       "            console.log([gd, 'removed!']);\n",
       "            Plotly.purge(gd);\n",
       "            observer.disconnect();\n",
       "        }}\n",
       "}});\n",
       "\n",
       "// Listen for the removal of the full notebook cells\n",
       "var notebookContainer = gd.closest('#notebook-container');\n",
       "if (notebookContainer) {{\n",
       "    x.observe(notebookContainer, {childList: true});\n",
       "}}\n",
       "\n",
       "// Listen for the clearing of the current output cell\n",
       "var outputEl = gd.closest('.output');\n",
       "if (outputEl) {{\n",
       "    x.observe(outputEl, {childList: true});\n",
       "}}\n",
       "\n",
       "                        })\n",
       "                };\n",
       "                });\n",
       "            </script>\n",
       "        </div>"
      ]
     },
     "metadata": {},
     "output_type": "display_data"
    },
    {
     "data": {
      "application/vnd.plotly.v1+json": {
       "config": {
        "linkText": "Export to plot.ly",
        "plotlyServerURL": "https://plot.ly",
        "showLink": true
       },
       "data": [
        {
         "line": {
          "color": "rgba(255, 153, 51, 1.0)",
          "dash": "solid",
          "shape": "linear",
          "width": 1.3
         },
         "mode": "lines",
         "name": ".VIX",
         "text": "",
         "type": "scatter",
         "x": [
          "2018-10-17",
          "2018-10-18",
          "2018-10-19",
          "2018-10-22",
          "2018-10-23",
          "2018-10-24",
          "2018-10-25",
          "2018-10-26",
          "2018-10-29",
          "2018-10-30",
          "2018-10-31",
          "2018-11-01",
          "2018-11-02",
          "2018-11-05",
          "2018-11-06",
          "2018-11-07",
          "2018-11-08",
          "2018-11-09",
          "2018-11-12",
          "2018-11-13",
          "2018-11-14",
          "2018-11-15",
          "2018-11-16",
          "2018-11-19",
          "2018-11-20",
          "2018-11-21",
          "2018-11-23",
          "2018-11-26",
          "2018-11-27",
          "2018-11-28",
          "2018-11-29",
          "2018-11-30",
          "2018-12-03",
          "2018-12-04",
          "2018-12-06",
          "2018-12-07",
          "2018-12-10",
          "2018-12-11",
          "2018-12-12",
          "2018-12-13",
          "2018-12-14",
          "2018-12-17",
          "2018-12-18",
          "2018-12-19",
          "2018-12-20",
          "2018-12-21",
          "2018-12-24",
          "2018-12-26",
          "2018-12-27",
          "2018-12-28"
         ],
         "y": [
          17.4,
          20.06,
          19.89,
          19.64,
          20.71,
          25.23,
          24.22,
          24.16,
          24.7,
          23.35,
          21.23,
          19.34,
          19.51,
          19.96,
          19.91,
          16.36,
          16.72,
          17.36,
          20.45,
          20.02,
          21.25,
          19.98,
          18.14,
          20.1,
          22.48,
          20.8,
          21.52,
          18.9,
          19.02,
          18.49,
          18.79,
          18.07,
          16.44,
          20.74,
          21.19,
          23.23,
          22.64,
          21.76,
          21.46,
          20.65,
          21.63,
          24.52,
          25.58,
          25.58,
          28.38,
          30.11,
          36.07,
          30.41,
          29.96,
          28.34
         ]
        },
        {
         "line": {
          "color": "rgba(55, 128, 191, 1.0)",
          "dash": "solid",
          "shape": "linear",
          "width": 1.3
         },
         "mode": "lines",
         "name": "PRED",
         "text": "",
         "type": "scatter",
         "x": [
          "2018-10-17",
          "2018-10-18",
          "2018-10-19",
          "2018-10-22",
          "2018-10-23",
          "2018-10-24",
          "2018-10-25",
          "2018-10-26",
          "2018-10-29",
          "2018-10-30",
          "2018-10-31",
          "2018-11-01",
          "2018-11-02",
          "2018-11-05",
          "2018-11-06",
          "2018-11-07",
          "2018-11-08",
          "2018-11-09",
          "2018-11-12",
          "2018-11-13",
          "2018-11-14",
          "2018-11-15",
          "2018-11-16",
          "2018-11-19",
          "2018-11-20",
          "2018-11-21",
          "2018-11-23",
          "2018-11-26",
          "2018-11-27",
          "2018-11-28",
          "2018-11-29",
          "2018-11-30",
          "2018-12-03",
          "2018-12-04",
          "2018-12-06",
          "2018-12-07",
          "2018-12-10",
          "2018-12-11",
          "2018-12-12",
          "2018-12-13",
          "2018-12-14",
          "2018-12-17",
          "2018-12-18",
          "2018-12-19",
          "2018-12-20",
          "2018-12-21",
          "2018-12-24",
          "2018-12-26",
          "2018-12-27",
          "2018-12-28"
         ],
         "y": [
          17.633677803739015,
          18.06616226905442,
          19.567727532238194,
          19.756661087958022,
          19.869073401114264,
          20.472032667898556,
          24.626963047902127,
          23.84276041980097,
          24.526500591304778,
          24.33489769902759,
          23.462644981315478,
          21.642496300941083,
          19.666431521210846,
          19.650555781361724,
          19.875378490429323,
          19.966309060970193,
          16.739919764391615,
          17.087781252534377,
          17.011755960738533,
          20.267933306763755,
          19.700116531117985,
          21.343727117405077,
          19.75570615538498,
          18.581258135183223,
          19.971665776413754,
          21.937290122162267,
          20.89954270105225,
          21.700642603144086,
          18.829815239012024,
          19.46261599512019,
          18.30954562287063,
          18.967862610993212,
          18.05824004296313,
          16.736316182731432,
          20.436247073763244,
          20.538829973070953,
          23.335762264066894,
          22.24022446580443,
          22.026301558258155,
          21.442834568165367,
          20.735174123303555,
          21.6513296232392,
          24.062328235177443,
          25.218239367677263,
          25.581457497491296,
          28.003983299026377,
          29.524489334374042,
          35.43124160663306,
          30.202675610005066,
          30.99675787761781
         ]
        }
       ],
       "layout": {
        "height": 450,
        "template": {
         "data": {
          "bar": [
           {
            "error_x": {
             "color": "#2a3f5f"
            },
            "error_y": {
             "color": "#2a3f5f"
            },
            "marker": {
             "line": {
              "color": "#E5ECF6",
              "width": 0.5
             }
            },
            "type": "bar"
           }
          ],
          "barpolar": [
           {
            "marker": {
             "line": {
              "color": "#E5ECF6",
              "width": 0.5
             }
            },
            "type": "barpolar"
           }
          ],
          "carpet": [
           {
            "aaxis": {
             "endlinecolor": "#2a3f5f",
             "gridcolor": "white",
             "linecolor": "white",
             "minorgridcolor": "white",
             "startlinecolor": "#2a3f5f"
            },
            "baxis": {
             "endlinecolor": "#2a3f5f",
             "gridcolor": "white",
             "linecolor": "white",
             "minorgridcolor": "white",
             "startlinecolor": "#2a3f5f"
            },
            "type": "carpet"
           }
          ],
          "choropleth": [
           {
            "colorbar": {
             "outlinewidth": 0,
             "ticks": ""
            },
            "type": "choropleth"
           }
          ],
          "contour": [
           {
            "colorbar": {
             "outlinewidth": 0,
             "ticks": ""
            },
            "colorscale": [
             [
              0,
              "#0d0887"
             ],
             [
              0.1111111111111111,
              "#46039f"
             ],
             [
              0.2222222222222222,
              "#7201a8"
             ],
             [
              0.3333333333333333,
              "#9c179e"
             ],
             [
              0.4444444444444444,
              "#bd3786"
             ],
             [
              0.5555555555555556,
              "#d8576b"
             ],
             [
              0.6666666666666666,
              "#ed7953"
             ],
             [
              0.7777777777777778,
              "#fb9f3a"
             ],
             [
              0.8888888888888888,
              "#fdca26"
             ],
             [
              1,
              "#f0f921"
             ]
            ],
            "type": "contour"
           }
          ],
          "contourcarpet": [
           {
            "colorbar": {
             "outlinewidth": 0,
             "ticks": ""
            },
            "type": "contourcarpet"
           }
          ],
          "heatmap": [
           {
            "colorbar": {
             "outlinewidth": 0,
             "ticks": ""
            },
            "colorscale": [
             [
              0,
              "#0d0887"
             ],
             [
              0.1111111111111111,
              "#46039f"
             ],
             [
              0.2222222222222222,
              "#7201a8"
             ],
             [
              0.3333333333333333,
              "#9c179e"
             ],
             [
              0.4444444444444444,
              "#bd3786"
             ],
             [
              0.5555555555555556,
              "#d8576b"
             ],
             [
              0.6666666666666666,
              "#ed7953"
             ],
             [
              0.7777777777777778,
              "#fb9f3a"
             ],
             [
              0.8888888888888888,
              "#fdca26"
             ],
             [
              1,
              "#f0f921"
             ]
            ],
            "type": "heatmap"
           }
          ],
          "heatmapgl": [
           {
            "colorbar": {
             "outlinewidth": 0,
             "ticks": ""
            },
            "colorscale": [
             [
              0,
              "#0d0887"
             ],
             [
              0.1111111111111111,
              "#46039f"
             ],
             [
              0.2222222222222222,
              "#7201a8"
             ],
             [
              0.3333333333333333,
              "#9c179e"
             ],
             [
              0.4444444444444444,
              "#bd3786"
             ],
             [
              0.5555555555555556,
              "#d8576b"
             ],
             [
              0.6666666666666666,
              "#ed7953"
             ],
             [
              0.7777777777777778,
              "#fb9f3a"
             ],
             [
              0.8888888888888888,
              "#fdca26"
             ],
             [
              1,
              "#f0f921"
             ]
            ],
            "type": "heatmapgl"
           }
          ],
          "histogram": [
           {
            "marker": {
             "colorbar": {
              "outlinewidth": 0,
              "ticks": ""
             }
            },
            "type": "histogram"
           }
          ],
          "histogram2d": [
           {
            "colorbar": {
             "outlinewidth": 0,
             "ticks": ""
            },
            "colorscale": [
             [
              0,
              "#0d0887"
             ],
             [
              0.1111111111111111,
              "#46039f"
             ],
             [
              0.2222222222222222,
              "#7201a8"
             ],
             [
              0.3333333333333333,
              "#9c179e"
             ],
             [
              0.4444444444444444,
              "#bd3786"
             ],
             [
              0.5555555555555556,
              "#d8576b"
             ],
             [
              0.6666666666666666,
              "#ed7953"
             ],
             [
              0.7777777777777778,
              "#fb9f3a"
             ],
             [
              0.8888888888888888,
              "#fdca26"
             ],
             [
              1,
              "#f0f921"
             ]
            ],
            "type": "histogram2d"
           }
          ],
          "histogram2dcontour": [
           {
            "colorbar": {
             "outlinewidth": 0,
             "ticks": ""
            },
            "colorscale": [
             [
              0,
              "#0d0887"
             ],
             [
              0.1111111111111111,
              "#46039f"
             ],
             [
              0.2222222222222222,
              "#7201a8"
             ],
             [
              0.3333333333333333,
              "#9c179e"
             ],
             [
              0.4444444444444444,
              "#bd3786"
             ],
             [
              0.5555555555555556,
              "#d8576b"
             ],
             [
              0.6666666666666666,
              "#ed7953"
             ],
             [
              0.7777777777777778,
              "#fb9f3a"
             ],
             [
              0.8888888888888888,
              "#fdca26"
             ],
             [
              1,
              "#f0f921"
             ]
            ],
            "type": "histogram2dcontour"
           }
          ],
          "mesh3d": [
           {
            "colorbar": {
             "outlinewidth": 0,
             "ticks": ""
            },
            "type": "mesh3d"
           }
          ],
          "parcoords": [
           {
            "line": {
             "colorbar": {
              "outlinewidth": 0,
              "ticks": ""
             }
            },
            "type": "parcoords"
           }
          ],
          "pie": [
           {
            "automargin": true,
            "type": "pie"
           }
          ],
          "scatter": [
           {
            "marker": {
             "colorbar": {
              "outlinewidth": 0,
              "ticks": ""
             }
            },
            "type": "scatter"
           }
          ],
          "scatter3d": [
           {
            "line": {
             "colorbar": {
              "outlinewidth": 0,
              "ticks": ""
             }
            },
            "marker": {
             "colorbar": {
              "outlinewidth": 0,
              "ticks": ""
             }
            },
            "type": "scatter3d"
           }
          ],
          "scattercarpet": [
           {
            "marker": {
             "colorbar": {
              "outlinewidth": 0,
              "ticks": ""
             }
            },
            "type": "scattercarpet"
           }
          ],
          "scattergeo": [
           {
            "marker": {
             "colorbar": {
              "outlinewidth": 0,
              "ticks": ""
             }
            },
            "type": "scattergeo"
           }
          ],
          "scattergl": [
           {
            "marker": {
             "colorbar": {
              "outlinewidth": 0,
              "ticks": ""
             }
            },
            "type": "scattergl"
           }
          ],
          "scattermapbox": [
           {
            "marker": {
             "colorbar": {
              "outlinewidth": 0,
              "ticks": ""
             }
            },
            "type": "scattermapbox"
           }
          ],
          "scatterpolar": [
           {
            "marker": {
             "colorbar": {
              "outlinewidth": 0,
              "ticks": ""
             }
            },
            "type": "scatterpolar"
           }
          ],
          "scatterpolargl": [
           {
            "marker": {
             "colorbar": {
              "outlinewidth": 0,
              "ticks": ""
             }
            },
            "type": "scatterpolargl"
           }
          ],
          "scatterternary": [
           {
            "marker": {
             "colorbar": {
              "outlinewidth": 0,
              "ticks": ""
             }
            },
            "type": "scatterternary"
           }
          ],
          "surface": [
           {
            "colorbar": {
             "outlinewidth": 0,
             "ticks": ""
            },
            "colorscale": [
             [
              0,
              "#0d0887"
             ],
             [
              0.1111111111111111,
              "#46039f"
             ],
             [
              0.2222222222222222,
              "#7201a8"
             ],
             [
              0.3333333333333333,
              "#9c179e"
             ],
             [
              0.4444444444444444,
              "#bd3786"
             ],
             [
              0.5555555555555556,
              "#d8576b"
             ],
             [
              0.6666666666666666,
              "#ed7953"
             ],
             [
              0.7777777777777778,
              "#fb9f3a"
             ],
             [
              0.8888888888888888,
              "#fdca26"
             ],
             [
              1,
              "#f0f921"
             ]
            ],
            "type": "surface"
           }
          ],
          "table": [
           {
            "cells": {
             "fill": {
              "color": "#EBF0F8"
             },
             "line": {
              "color": "white"
             }
            },
            "header": {
             "fill": {
              "color": "#C8D4E3"
             },
             "line": {
              "color": "white"
             }
            },
            "type": "table"
           }
          ]
         },
         "layout": {
          "annotationdefaults": {
           "arrowcolor": "#2a3f5f",
           "arrowhead": 0,
           "arrowwidth": 1
          },
          "coloraxis": {
           "colorbar": {
            "outlinewidth": 0,
            "ticks": ""
           }
          },
          "colorscale": {
           "diverging": [
            [
             0,
             "#8e0152"
            ],
            [
             0.1,
             "#c51b7d"
            ],
            [
             0.2,
             "#de77ae"
            ],
            [
             0.3,
             "#f1b6da"
            ],
            [
             0.4,
             "#fde0ef"
            ],
            [
             0.5,
             "#f7f7f7"
            ],
            [
             0.6,
             "#e6f5d0"
            ],
            [
             0.7,
             "#b8e186"
            ],
            [
             0.8,
             "#7fbc41"
            ],
            [
             0.9,
             "#4d9221"
            ],
            [
             1,
             "#276419"
            ]
           ],
           "sequential": [
            [
             0,
             "#0d0887"
            ],
            [
             0.1111111111111111,
             "#46039f"
            ],
            [
             0.2222222222222222,
             "#7201a8"
            ],
            [
             0.3333333333333333,
             "#9c179e"
            ],
            [
             0.4444444444444444,
             "#bd3786"
            ],
            [
             0.5555555555555556,
             "#d8576b"
            ],
            [
             0.6666666666666666,
             "#ed7953"
            ],
            [
             0.7777777777777778,
             "#fb9f3a"
            ],
            [
             0.8888888888888888,
             "#fdca26"
            ],
            [
             1,
             "#f0f921"
            ]
           ],
           "sequentialminus": [
            [
             0,
             "#0d0887"
            ],
            [
             0.1111111111111111,
             "#46039f"
            ],
            [
             0.2222222222222222,
             "#7201a8"
            ],
            [
             0.3333333333333333,
             "#9c179e"
            ],
            [
             0.4444444444444444,
             "#bd3786"
            ],
            [
             0.5555555555555556,
             "#d8576b"
            ],
            [
             0.6666666666666666,
             "#ed7953"
            ],
            [
             0.7777777777777778,
             "#fb9f3a"
            ],
            [
             0.8888888888888888,
             "#fdca26"
            ],
            [
             1,
             "#f0f921"
            ]
           ]
          },
          "colorway": [
           "#636efa",
           "#EF553B",
           "#00cc96",
           "#ab63fa",
           "#FFA15A",
           "#19d3f3",
           "#FF6692",
           "#B6E880",
           "#FF97FF",
           "#FECB52"
          ],
          "font": {
           "color": "#2a3f5f"
          },
          "geo": {
           "bgcolor": "white",
           "lakecolor": "white",
           "landcolor": "#E5ECF6",
           "showlakes": true,
           "showland": true,
           "subunitcolor": "white"
          },
          "hoverlabel": {
           "align": "left"
          },
          "hovermode": "closest",
          "mapbox": {
           "style": "light"
          },
          "paper_bgcolor": "white",
          "plot_bgcolor": "#E5ECF6",
          "polar": {
           "angularaxis": {
            "gridcolor": "white",
            "linecolor": "white",
            "ticks": ""
           },
           "bgcolor": "#E5ECF6",
           "radialaxis": {
            "gridcolor": "white",
            "linecolor": "white",
            "ticks": ""
           }
          },
          "scene": {
           "xaxis": {
            "backgroundcolor": "#E5ECF6",
            "gridcolor": "white",
            "gridwidth": 2,
            "linecolor": "white",
            "showbackground": true,
            "ticks": "",
            "zerolinecolor": "white"
           },
           "yaxis": {
            "backgroundcolor": "#E5ECF6",
            "gridcolor": "white",
            "gridwidth": 2,
            "linecolor": "white",
            "showbackground": true,
            "ticks": "",
            "zerolinecolor": "white"
           },
           "zaxis": {
            "backgroundcolor": "#E5ECF6",
            "gridcolor": "white",
            "gridwidth": 2,
            "linecolor": "white",
            "showbackground": true,
            "ticks": "",
            "zerolinecolor": "white"
           }
          },
          "shapedefaults": {
           "line": {
            "color": "#2a3f5f"
           }
          },
          "ternary": {
           "aaxis": {
            "gridcolor": "white",
            "linecolor": "white",
            "ticks": ""
           },
           "baxis": {
            "gridcolor": "white",
            "linecolor": "white",
            "ticks": ""
           },
           "bgcolor": "#E5ECF6",
           "caxis": {
            "gridcolor": "white",
            "linecolor": "white",
            "ticks": ""
           }
          },
          "title": {
           "x": 0.05
          },
          "xaxis": {
           "automargin": true,
           "gridcolor": "white",
           "linecolor": "white",
           "ticks": "",
           "title": {
            "standoff": 15
           },
           "zerolinecolor": "white",
           "zerolinewidth": 2
          },
          "yaxis": {
           "automargin": true,
           "gridcolor": "white",
           "linecolor": "white",
           "ticks": "",
           "title": {
            "standoff": 15
           },
           "zerolinecolor": "white",
           "zerolinewidth": 2
          }
         }
        },
        "width": 1000
       }
      },
      "text/html": [
       "<div>\n",
       "        \n",
       "        \n",
       "            <div id=\"b70cc4c8-8a11-43e1-a820-0e155e3805f0\" class=\"plotly-graph-div\" style=\"height:450px; width:1000px;\"></div>\n",
       "            <script type=\"text/javascript\">\n",
       "                require([\"plotly\"], function(Plotly) {\n",
       "                    window.PLOTLYENV=window.PLOTLYENV || {};\n",
       "                    window.PLOTLYENV.BASE_URL='https://plot.ly';\n",
       "                    \n",
       "                if (document.getElementById(\"b70cc4c8-8a11-43e1-a820-0e155e3805f0\")) {\n",
       "                    Plotly.newPlot(\n",
       "                        'b70cc4c8-8a11-43e1-a820-0e155e3805f0',\n",
       "                        [{\"line\": {\"color\": \"rgba(255, 153, 51, 1.0)\", \"dash\": \"solid\", \"shape\": \"linear\", \"width\": 1.3}, \"mode\": \"lines\", \"name\": \".VIX\", \"text\": \"\", \"type\": \"scatter\", \"x\": [\"2018-10-17\", \"2018-10-18\", \"2018-10-19\", \"2018-10-22\", \"2018-10-23\", \"2018-10-24\", \"2018-10-25\", \"2018-10-26\", \"2018-10-29\", \"2018-10-30\", \"2018-10-31\", \"2018-11-01\", \"2018-11-02\", \"2018-11-05\", \"2018-11-06\", \"2018-11-07\", \"2018-11-08\", \"2018-11-09\", \"2018-11-12\", \"2018-11-13\", \"2018-11-14\", \"2018-11-15\", \"2018-11-16\", \"2018-11-19\", \"2018-11-20\", \"2018-11-21\", \"2018-11-23\", \"2018-11-26\", \"2018-11-27\", \"2018-11-28\", \"2018-11-29\", \"2018-11-30\", \"2018-12-03\", \"2018-12-04\", \"2018-12-06\", \"2018-12-07\", \"2018-12-10\", \"2018-12-11\", \"2018-12-12\", \"2018-12-13\", \"2018-12-14\", \"2018-12-17\", \"2018-12-18\", \"2018-12-19\", \"2018-12-20\", \"2018-12-21\", \"2018-12-24\", \"2018-12-26\", \"2018-12-27\", \"2018-12-28\"], \"y\": [17.4, 20.06, 19.89, 19.64, 20.71, 25.23, 24.22, 24.16, 24.7, 23.35, 21.23, 19.34, 19.51, 19.96, 19.91, 16.36, 16.72, 17.36, 20.45, 20.02, 21.25, 19.98, 18.14, 20.1, 22.48, 20.8, 21.52, 18.9, 19.02, 18.49, 18.79, 18.07, 16.44, 20.74, 21.19, 23.23, 22.64, 21.76, 21.46, 20.65, 21.63, 24.52, 25.58, 25.58, 28.38, 30.11, 36.07, 30.41, 29.96, 28.34]}, {\"line\": {\"color\": \"rgba(55, 128, 191, 1.0)\", \"dash\": \"solid\", \"shape\": \"linear\", \"width\": 1.3}, \"mode\": \"lines\", \"name\": \"PRED\", \"text\": \"\", \"type\": \"scatter\", \"x\": [\"2018-10-17\", \"2018-10-18\", \"2018-10-19\", \"2018-10-22\", \"2018-10-23\", \"2018-10-24\", \"2018-10-25\", \"2018-10-26\", \"2018-10-29\", \"2018-10-30\", \"2018-10-31\", \"2018-11-01\", \"2018-11-02\", \"2018-11-05\", \"2018-11-06\", \"2018-11-07\", \"2018-11-08\", \"2018-11-09\", \"2018-11-12\", \"2018-11-13\", \"2018-11-14\", \"2018-11-15\", \"2018-11-16\", \"2018-11-19\", \"2018-11-20\", \"2018-11-21\", \"2018-11-23\", \"2018-11-26\", \"2018-11-27\", \"2018-11-28\", \"2018-11-29\", \"2018-11-30\", \"2018-12-03\", \"2018-12-04\", \"2018-12-06\", \"2018-12-07\", \"2018-12-10\", \"2018-12-11\", \"2018-12-12\", \"2018-12-13\", \"2018-12-14\", \"2018-12-17\", \"2018-12-18\", \"2018-12-19\", \"2018-12-20\", \"2018-12-21\", \"2018-12-24\", \"2018-12-26\", \"2018-12-27\", \"2018-12-28\"], \"y\": [17.633677803739015, 18.06616226905442, 19.567727532238194, 19.756661087958022, 19.869073401114264, 20.472032667898556, 24.626963047902127, 23.84276041980097, 24.526500591304778, 24.33489769902759, 23.462644981315478, 21.642496300941083, 19.666431521210846, 19.650555781361724, 19.875378490429323, 19.966309060970193, 16.739919764391615, 17.087781252534377, 17.011755960738533, 20.267933306763755, 19.700116531117985, 21.343727117405077, 19.75570615538498, 18.581258135183223, 19.971665776413754, 21.937290122162267, 20.89954270105225, 21.700642603144086, 18.829815239012024, 19.46261599512019, 18.30954562287063, 18.967862610993212, 18.05824004296313, 16.736316182731432, 20.436247073763244, 20.538829973070953, 23.335762264066894, 22.24022446580443, 22.026301558258155, 21.442834568165367, 20.735174123303555, 21.6513296232392, 24.062328235177443, 25.218239367677263, 25.581457497491296, 28.003983299026377, 29.524489334374042, 35.43124160663306, 30.202675610005066, 30.99675787761781]}],\n",
       "                        {\"height\": 450, \"template\": {\"data\": {\"bar\": [{\"error_x\": {\"color\": \"#2a3f5f\"}, \"error_y\": {\"color\": \"#2a3f5f\"}, \"marker\": {\"line\": {\"color\": \"#E5ECF6\", \"width\": 0.5}}, \"type\": \"bar\"}], \"barpolar\": [{\"marker\": {\"line\": {\"color\": \"#E5ECF6\", \"width\": 0.5}}, \"type\": \"barpolar\"}], \"carpet\": [{\"aaxis\": {\"endlinecolor\": \"#2a3f5f\", \"gridcolor\": \"white\", \"linecolor\": \"white\", \"minorgridcolor\": \"white\", \"startlinecolor\": \"#2a3f5f\"}, \"baxis\": {\"endlinecolor\": \"#2a3f5f\", \"gridcolor\": \"white\", \"linecolor\": \"white\", \"minorgridcolor\": \"white\", \"startlinecolor\": \"#2a3f5f\"}, \"type\": \"carpet\"}], \"choropleth\": [{\"colorbar\": {\"outlinewidth\": 0, \"ticks\": \"\"}, \"type\": \"choropleth\"}], \"contour\": [{\"colorbar\": {\"outlinewidth\": 0, \"ticks\": \"\"}, \"colorscale\": [[0.0, \"#0d0887\"], [0.1111111111111111, \"#46039f\"], [0.2222222222222222, \"#7201a8\"], [0.3333333333333333, \"#9c179e\"], [0.4444444444444444, \"#bd3786\"], [0.5555555555555556, \"#d8576b\"], [0.6666666666666666, \"#ed7953\"], [0.7777777777777778, \"#fb9f3a\"], [0.8888888888888888, \"#fdca26\"], [1.0, \"#f0f921\"]], \"type\": \"contour\"}], \"contourcarpet\": [{\"colorbar\": {\"outlinewidth\": 0, \"ticks\": \"\"}, \"type\": \"contourcarpet\"}], \"heatmap\": [{\"colorbar\": {\"outlinewidth\": 0, \"ticks\": \"\"}, \"colorscale\": [[0.0, \"#0d0887\"], [0.1111111111111111, \"#46039f\"], [0.2222222222222222, \"#7201a8\"], [0.3333333333333333, \"#9c179e\"], [0.4444444444444444, \"#bd3786\"], [0.5555555555555556, \"#d8576b\"], [0.6666666666666666, \"#ed7953\"], [0.7777777777777778, \"#fb9f3a\"], [0.8888888888888888, \"#fdca26\"], [1.0, \"#f0f921\"]], \"type\": \"heatmap\"}], \"heatmapgl\": [{\"colorbar\": {\"outlinewidth\": 0, \"ticks\": \"\"}, \"colorscale\": [[0.0, \"#0d0887\"], [0.1111111111111111, \"#46039f\"], [0.2222222222222222, \"#7201a8\"], [0.3333333333333333, \"#9c179e\"], [0.4444444444444444, \"#bd3786\"], [0.5555555555555556, \"#d8576b\"], [0.6666666666666666, \"#ed7953\"], [0.7777777777777778, \"#fb9f3a\"], [0.8888888888888888, \"#fdca26\"], [1.0, \"#f0f921\"]], \"type\": \"heatmapgl\"}], \"histogram\": [{\"marker\": {\"colorbar\": {\"outlinewidth\": 0, \"ticks\": \"\"}}, \"type\": \"histogram\"}], \"histogram2d\": [{\"colorbar\": {\"outlinewidth\": 0, \"ticks\": \"\"}, \"colorscale\": [[0.0, \"#0d0887\"], [0.1111111111111111, \"#46039f\"], [0.2222222222222222, \"#7201a8\"], [0.3333333333333333, \"#9c179e\"], [0.4444444444444444, \"#bd3786\"], [0.5555555555555556, \"#d8576b\"], [0.6666666666666666, \"#ed7953\"], [0.7777777777777778, \"#fb9f3a\"], [0.8888888888888888, \"#fdca26\"], [1.0, \"#f0f921\"]], \"type\": \"histogram2d\"}], \"histogram2dcontour\": [{\"colorbar\": {\"outlinewidth\": 0, \"ticks\": \"\"}, \"colorscale\": [[0.0, \"#0d0887\"], [0.1111111111111111, \"#46039f\"], [0.2222222222222222, \"#7201a8\"], [0.3333333333333333, \"#9c179e\"], [0.4444444444444444, \"#bd3786\"], [0.5555555555555556, \"#d8576b\"], [0.6666666666666666, \"#ed7953\"], [0.7777777777777778, \"#fb9f3a\"], [0.8888888888888888, \"#fdca26\"], [1.0, \"#f0f921\"]], \"type\": \"histogram2dcontour\"}], \"mesh3d\": [{\"colorbar\": {\"outlinewidth\": 0, \"ticks\": \"\"}, \"type\": \"mesh3d\"}], \"parcoords\": [{\"line\": {\"colorbar\": {\"outlinewidth\": 0, \"ticks\": \"\"}}, \"type\": \"parcoords\"}], \"pie\": [{\"automargin\": true, \"type\": \"pie\"}], \"scatter\": [{\"marker\": {\"colorbar\": {\"outlinewidth\": 0, \"ticks\": \"\"}}, \"type\": \"scatter\"}], \"scatter3d\": [{\"line\": {\"colorbar\": {\"outlinewidth\": 0, \"ticks\": \"\"}}, \"marker\": {\"colorbar\": {\"outlinewidth\": 0, \"ticks\": \"\"}}, \"type\": \"scatter3d\"}], \"scattercarpet\": [{\"marker\": {\"colorbar\": {\"outlinewidth\": 0, \"ticks\": \"\"}}, \"type\": \"scattercarpet\"}], \"scattergeo\": [{\"marker\": {\"colorbar\": {\"outlinewidth\": 0, \"ticks\": \"\"}}, \"type\": \"scattergeo\"}], \"scattergl\": [{\"marker\": {\"colorbar\": {\"outlinewidth\": 0, \"ticks\": \"\"}}, \"type\": \"scattergl\"}], \"scattermapbox\": [{\"marker\": {\"colorbar\": {\"outlinewidth\": 0, \"ticks\": \"\"}}, \"type\": \"scattermapbox\"}], \"scatterpolar\": [{\"marker\": {\"colorbar\": {\"outlinewidth\": 0, \"ticks\": \"\"}}, \"type\": \"scatterpolar\"}], \"scatterpolargl\": [{\"marker\": {\"colorbar\": {\"outlinewidth\": 0, \"ticks\": \"\"}}, \"type\": \"scatterpolargl\"}], \"scatterternary\": [{\"marker\": {\"colorbar\": {\"outlinewidth\": 0, \"ticks\": \"\"}}, \"type\": \"scatterternary\"}], \"surface\": [{\"colorbar\": {\"outlinewidth\": 0, \"ticks\": \"\"}, \"colorscale\": [[0.0, \"#0d0887\"], [0.1111111111111111, \"#46039f\"], [0.2222222222222222, \"#7201a8\"], [0.3333333333333333, \"#9c179e\"], [0.4444444444444444, \"#bd3786\"], [0.5555555555555556, \"#d8576b\"], [0.6666666666666666, \"#ed7953\"], [0.7777777777777778, \"#fb9f3a\"], [0.8888888888888888, \"#fdca26\"], [1.0, \"#f0f921\"]], \"type\": \"surface\"}], \"table\": [{\"cells\": {\"fill\": {\"color\": \"#EBF0F8\"}, \"line\": {\"color\": \"white\"}}, \"header\": {\"fill\": {\"color\": \"#C8D4E3\"}, \"line\": {\"color\": \"white\"}}, \"type\": \"table\"}]}, \"layout\": {\"annotationdefaults\": {\"arrowcolor\": \"#2a3f5f\", \"arrowhead\": 0, \"arrowwidth\": 1}, \"coloraxis\": {\"colorbar\": {\"outlinewidth\": 0, \"ticks\": \"\"}}, \"colorscale\": {\"diverging\": [[0, \"#8e0152\"], [0.1, \"#c51b7d\"], [0.2, \"#de77ae\"], [0.3, \"#f1b6da\"], [0.4, \"#fde0ef\"], [0.5, \"#f7f7f7\"], [0.6, \"#e6f5d0\"], [0.7, \"#b8e186\"], [0.8, \"#7fbc41\"], [0.9, \"#4d9221\"], [1, \"#276419\"]], \"sequential\": [[0.0, \"#0d0887\"], [0.1111111111111111, \"#46039f\"], [0.2222222222222222, \"#7201a8\"], [0.3333333333333333, \"#9c179e\"], [0.4444444444444444, \"#bd3786\"], [0.5555555555555556, \"#d8576b\"], [0.6666666666666666, \"#ed7953\"], [0.7777777777777778, \"#fb9f3a\"], [0.8888888888888888, \"#fdca26\"], [1.0, \"#f0f921\"]], \"sequentialminus\": [[0.0, \"#0d0887\"], [0.1111111111111111, \"#46039f\"], [0.2222222222222222, \"#7201a8\"], [0.3333333333333333, \"#9c179e\"], [0.4444444444444444, \"#bd3786\"], [0.5555555555555556, \"#d8576b\"], [0.6666666666666666, \"#ed7953\"], [0.7777777777777778, \"#fb9f3a\"], [0.8888888888888888, \"#fdca26\"], [1.0, \"#f0f921\"]]}, \"colorway\": [\"#636efa\", \"#EF553B\", \"#00cc96\", \"#ab63fa\", \"#FFA15A\", \"#19d3f3\", \"#FF6692\", \"#B6E880\", \"#FF97FF\", \"#FECB52\"], \"font\": {\"color\": \"#2a3f5f\"}, \"geo\": {\"bgcolor\": \"white\", \"lakecolor\": \"white\", \"landcolor\": \"#E5ECF6\", \"showlakes\": true, \"showland\": true, \"subunitcolor\": \"white\"}, \"hoverlabel\": {\"align\": \"left\"}, \"hovermode\": \"closest\", \"mapbox\": {\"style\": \"light\"}, \"paper_bgcolor\": \"white\", \"plot_bgcolor\": \"#E5ECF6\", \"polar\": {\"angularaxis\": {\"gridcolor\": \"white\", \"linecolor\": \"white\", \"ticks\": \"\"}, \"bgcolor\": \"#E5ECF6\", \"radialaxis\": {\"gridcolor\": \"white\", \"linecolor\": \"white\", \"ticks\": \"\"}}, \"scene\": {\"xaxis\": {\"backgroundcolor\": \"#E5ECF6\", \"gridcolor\": \"white\", \"gridwidth\": 2, \"linecolor\": \"white\", \"showbackground\": true, \"ticks\": \"\", \"zerolinecolor\": \"white\"}, \"yaxis\": {\"backgroundcolor\": \"#E5ECF6\", \"gridcolor\": \"white\", \"gridwidth\": 2, \"linecolor\": \"white\", \"showbackground\": true, \"ticks\": \"\", \"zerolinecolor\": \"white\"}, \"zaxis\": {\"backgroundcolor\": \"#E5ECF6\", \"gridcolor\": \"white\", \"gridwidth\": 2, \"linecolor\": \"white\", \"showbackground\": true, \"ticks\": \"\", \"zerolinecolor\": \"white\"}}, \"shapedefaults\": {\"line\": {\"color\": \"#2a3f5f\"}}, \"ternary\": {\"aaxis\": {\"gridcolor\": \"white\", \"linecolor\": \"white\", \"ticks\": \"\"}, \"baxis\": {\"gridcolor\": \"white\", \"linecolor\": \"white\", \"ticks\": \"\"}, \"bgcolor\": \"#E5ECF6\", \"caxis\": {\"gridcolor\": \"white\", \"linecolor\": \"white\", \"ticks\": \"\"}}, \"title\": {\"x\": 0.05}, \"xaxis\": {\"automargin\": true, \"gridcolor\": \"white\", \"linecolor\": \"white\", \"ticks\": \"\", \"title\": {\"standoff\": 15}, \"zerolinecolor\": \"white\", \"zerolinewidth\": 2}, \"yaxis\": {\"automargin\": true, \"gridcolor\": \"white\", \"linecolor\": \"white\", \"ticks\": \"\", \"title\": {\"standoff\": 15}, \"zerolinecolor\": \"white\", \"zerolinewidth\": 2}}}, \"width\": 1000},\n",
       "                        {\"showLink\": true, \"linkText\": \"Export to plot.ly\", \"plotlyServerURL\": \"https://plot.ly\", \"responsive\": true}\n",
       "                    ).then(function(){\n",
       "                            \n",
       "var gd = document.getElementById('b70cc4c8-8a11-43e1-a820-0e155e3805f0');\n",
       "var x = new MutationObserver(function (mutations, observer) {{\n",
       "        var display = window.getComputedStyle(gd).display;\n",
       "        if (!display || display === 'none') {{\n",
       "            console.log([gd, 'removed!']);\n",
       "            Plotly.purge(gd);\n",
       "            observer.disconnect();\n",
       "        }}\n",
       "}});\n",
       "\n",
       "// Listen for the removal of the full notebook cells\n",
       "var notebookContainer = gd.closest('#notebook-container');\n",
       "if (notebookContainer) {{\n",
       "    x.observe(notebookContainer, {childList: true});\n",
       "}}\n",
       "\n",
       "// Listen for the clearing of the current output cell\n",
       "var outputEl = gd.closest('.output');\n",
       "if (outputEl) {{\n",
       "    x.observe(outputEl, {childList: true});\n",
       "}}\n",
       "\n",
       "                        })\n",
       "                };\n",
       "                });\n",
       "            </script>\n",
       "        </div>"
      ]
     },
     "metadata": {},
     "output_type": "display_data"
    },
    {
     "data": {
      "application/vnd.plotly.v1+json": {
       "config": {
        "linkText": "Export to plot.ly",
        "plotlyServerURL": "https://plot.ly",
        "showLink": true
       },
       "data": [
        {
         "line": {
          "color": "rgba(255, 153, 51, 1.0)",
          "dash": "solid",
          "shape": "linear",
          "width": 1.3
         },
         "mode": "lines",
         "name": "IBM.N",
         "text": "",
         "type": "scatter",
         "x": [
          "2018-10-17",
          "2018-10-18",
          "2018-10-19",
          "2018-10-22",
          "2018-10-23",
          "2018-10-24",
          "2018-10-25",
          "2018-10-26",
          "2018-10-29",
          "2018-10-30",
          "2018-10-31",
          "2018-11-01",
          "2018-11-02",
          "2018-11-05",
          "2018-11-06",
          "2018-11-07",
          "2018-11-08",
          "2018-11-09",
          "2018-11-12",
          "2018-11-13",
          "2018-11-14",
          "2018-11-15",
          "2018-11-16",
          "2018-11-19",
          "2018-11-20",
          "2018-11-21",
          "2018-11-23",
          "2018-11-26",
          "2018-11-27",
          "2018-11-28",
          "2018-11-29",
          "2018-11-30",
          "2018-12-03",
          "2018-12-04",
          "2018-12-06",
          "2018-12-07",
          "2018-12-10",
          "2018-12-11",
          "2018-12-12",
          "2018-12-13",
          "2018-12-14",
          "2018-12-17",
          "2018-12-18",
          "2018-12-19",
          "2018-12-20",
          "2018-12-21",
          "2018-12-24",
          "2018-12-26",
          "2018-12-27",
          "2018-12-28"
         ],
         "y": [
          134.05,
          130.55,
          129.1,
          130.02,
          131.21,
          127.21,
          126.45,
          124.79,
          119.64,
          115.4,
          115.43,
          116.83,
          115.67,
          120.06,
          123.12,
          124.84,
          123.38,
          123.54,
          120.9,
          120.84,
          120.2,
          121.44,
          121.57,
          120.31,
          117.2,
          118.57,
          117.19,
          119.56,
          120.03,
          123,
          121.48,
          124.27,
          125.31,
          121.6,
          123.91,
          119.34,
          121.13,
          120.89,
          121.16,
          120.73,
          119.9,
          116.1,
          116.65,
          116.43,
          113.02,
          110.94,
          107.57,
          111.39,
          113.78,
          113.03
         ]
        },
        {
         "line": {
          "color": "rgba(55, 128, 191, 1.0)",
          "dash": "solid",
          "shape": "linear",
          "width": 1.3
         },
         "mode": "lines",
         "name": "PRED",
         "text": "",
         "type": "scatter",
         "x": [
          "2018-10-17",
          "2018-10-18",
          "2018-10-19",
          "2018-10-22",
          "2018-10-23",
          "2018-10-24",
          "2018-10-25",
          "2018-10-26",
          "2018-10-29",
          "2018-10-30",
          "2018-10-31",
          "2018-11-01",
          "2018-11-02",
          "2018-11-05",
          "2018-11-06",
          "2018-11-07",
          "2018-11-08",
          "2018-11-09",
          "2018-11-12",
          "2018-11-13",
          "2018-11-14",
          "2018-11-15",
          "2018-11-16",
          "2018-11-19",
          "2018-11-20",
          "2018-11-21",
          "2018-11-23",
          "2018-11-26",
          "2018-11-27",
          "2018-11-28",
          "2018-11-29",
          "2018-11-30",
          "2018-12-03",
          "2018-12-04",
          "2018-12-06",
          "2018-12-07",
          "2018-12-10",
          "2018-12-11",
          "2018-12-12",
          "2018-12-13",
          "2018-12-14",
          "2018-12-17",
          "2018-12-18",
          "2018-12-19",
          "2018-12-20",
          "2018-12-21",
          "2018-12-24",
          "2018-12-26",
          "2018-12-27",
          "2018-12-28"
         ],
         "y": [
          144.73602861035826,
          134.01407983633143,
          131.44732410496042,
          128.85136924756196,
          129.60369859024536,
          130.7889191014443,
          127.0941393852514,
          126.63278285214678,
          124.58188699025645,
          119.6913821949869,
          115.68945924013246,
          115.34352539966811,
          116.36105304532774,
          115.3745596245598,
          119.84008514581338,
          122.46298190421354,
          124.50267812401844,
          123.29341688011496,
          123.554770393348,
          120.77114608969673,
          120.83317603161241,
          119.94490044003734,
          121.21058370913497,
          121.25951402142789,
          120.19935625434915,
          117.25228851393425,
          118.5143083573159,
          116.82628849504832,
          119.39101745315102,
          119.61784245844822,
          122.72808285623194,
          121.18207107745397,
          124.19701118154126,
          124.85349357681396,
          121.56178879454983,
          123.97640237629554,
          119.03716752444441,
          121.24194171625415,
          120.4399383495233,
          120.98212856305244,
          120.55421631606157,
          119.78348879366607,
          116.11490016481244,
          116.68814414907973,
          116.06258569947869,
          112.96043682667936,
          111.09702339258504,
          107.55463061586272,
          111.18981025622125,
          113.07447977667236
         ]
        }
       ],
       "layout": {
        "height": 450,
        "template": {
         "data": {
          "bar": [
           {
            "error_x": {
             "color": "#2a3f5f"
            },
            "error_y": {
             "color": "#2a3f5f"
            },
            "marker": {
             "line": {
              "color": "#E5ECF6",
              "width": 0.5
             }
            },
            "type": "bar"
           }
          ],
          "barpolar": [
           {
            "marker": {
             "line": {
              "color": "#E5ECF6",
              "width": 0.5
             }
            },
            "type": "barpolar"
           }
          ],
          "carpet": [
           {
            "aaxis": {
             "endlinecolor": "#2a3f5f",
             "gridcolor": "white",
             "linecolor": "white",
             "minorgridcolor": "white",
             "startlinecolor": "#2a3f5f"
            },
            "baxis": {
             "endlinecolor": "#2a3f5f",
             "gridcolor": "white",
             "linecolor": "white",
             "minorgridcolor": "white",
             "startlinecolor": "#2a3f5f"
            },
            "type": "carpet"
           }
          ],
          "choropleth": [
           {
            "colorbar": {
             "outlinewidth": 0,
             "ticks": ""
            },
            "type": "choropleth"
           }
          ],
          "contour": [
           {
            "colorbar": {
             "outlinewidth": 0,
             "ticks": ""
            },
            "colorscale": [
             [
              0,
              "#0d0887"
             ],
             [
              0.1111111111111111,
              "#46039f"
             ],
             [
              0.2222222222222222,
              "#7201a8"
             ],
             [
              0.3333333333333333,
              "#9c179e"
             ],
             [
              0.4444444444444444,
              "#bd3786"
             ],
             [
              0.5555555555555556,
              "#d8576b"
             ],
             [
              0.6666666666666666,
              "#ed7953"
             ],
             [
              0.7777777777777778,
              "#fb9f3a"
             ],
             [
              0.8888888888888888,
              "#fdca26"
             ],
             [
              1,
              "#f0f921"
             ]
            ],
            "type": "contour"
           }
          ],
          "contourcarpet": [
           {
            "colorbar": {
             "outlinewidth": 0,
             "ticks": ""
            },
            "type": "contourcarpet"
           }
          ],
          "heatmap": [
           {
            "colorbar": {
             "outlinewidth": 0,
             "ticks": ""
            },
            "colorscale": [
             [
              0,
              "#0d0887"
             ],
             [
              0.1111111111111111,
              "#46039f"
             ],
             [
              0.2222222222222222,
              "#7201a8"
             ],
             [
              0.3333333333333333,
              "#9c179e"
             ],
             [
              0.4444444444444444,
              "#bd3786"
             ],
             [
              0.5555555555555556,
              "#d8576b"
             ],
             [
              0.6666666666666666,
              "#ed7953"
             ],
             [
              0.7777777777777778,
              "#fb9f3a"
             ],
             [
              0.8888888888888888,
              "#fdca26"
             ],
             [
              1,
              "#f0f921"
             ]
            ],
            "type": "heatmap"
           }
          ],
          "heatmapgl": [
           {
            "colorbar": {
             "outlinewidth": 0,
             "ticks": ""
            },
            "colorscale": [
             [
              0,
              "#0d0887"
             ],
             [
              0.1111111111111111,
              "#46039f"
             ],
             [
              0.2222222222222222,
              "#7201a8"
             ],
             [
              0.3333333333333333,
              "#9c179e"
             ],
             [
              0.4444444444444444,
              "#bd3786"
             ],
             [
              0.5555555555555556,
              "#d8576b"
             ],
             [
              0.6666666666666666,
              "#ed7953"
             ],
             [
              0.7777777777777778,
              "#fb9f3a"
             ],
             [
              0.8888888888888888,
              "#fdca26"
             ],
             [
              1,
              "#f0f921"
             ]
            ],
            "type": "heatmapgl"
           }
          ],
          "histogram": [
           {
            "marker": {
             "colorbar": {
              "outlinewidth": 0,
              "ticks": ""
             }
            },
            "type": "histogram"
           }
          ],
          "histogram2d": [
           {
            "colorbar": {
             "outlinewidth": 0,
             "ticks": ""
            },
            "colorscale": [
             [
              0,
              "#0d0887"
             ],
             [
              0.1111111111111111,
              "#46039f"
             ],
             [
              0.2222222222222222,
              "#7201a8"
             ],
             [
              0.3333333333333333,
              "#9c179e"
             ],
             [
              0.4444444444444444,
              "#bd3786"
             ],
             [
              0.5555555555555556,
              "#d8576b"
             ],
             [
              0.6666666666666666,
              "#ed7953"
             ],
             [
              0.7777777777777778,
              "#fb9f3a"
             ],
             [
              0.8888888888888888,
              "#fdca26"
             ],
             [
              1,
              "#f0f921"
             ]
            ],
            "type": "histogram2d"
           }
          ],
          "histogram2dcontour": [
           {
            "colorbar": {
             "outlinewidth": 0,
             "ticks": ""
            },
            "colorscale": [
             [
              0,
              "#0d0887"
             ],
             [
              0.1111111111111111,
              "#46039f"
             ],
             [
              0.2222222222222222,
              "#7201a8"
             ],
             [
              0.3333333333333333,
              "#9c179e"
             ],
             [
              0.4444444444444444,
              "#bd3786"
             ],
             [
              0.5555555555555556,
              "#d8576b"
             ],
             [
              0.6666666666666666,
              "#ed7953"
             ],
             [
              0.7777777777777778,
              "#fb9f3a"
             ],
             [
              0.8888888888888888,
              "#fdca26"
             ],
             [
              1,
              "#f0f921"
             ]
            ],
            "type": "histogram2dcontour"
           }
          ],
          "mesh3d": [
           {
            "colorbar": {
             "outlinewidth": 0,
             "ticks": ""
            },
            "type": "mesh3d"
           }
          ],
          "parcoords": [
           {
            "line": {
             "colorbar": {
              "outlinewidth": 0,
              "ticks": ""
             }
            },
            "type": "parcoords"
           }
          ],
          "pie": [
           {
            "automargin": true,
            "type": "pie"
           }
          ],
          "scatter": [
           {
            "marker": {
             "colorbar": {
              "outlinewidth": 0,
              "ticks": ""
             }
            },
            "type": "scatter"
           }
          ],
          "scatter3d": [
           {
            "line": {
             "colorbar": {
              "outlinewidth": 0,
              "ticks": ""
             }
            },
            "marker": {
             "colorbar": {
              "outlinewidth": 0,
              "ticks": ""
             }
            },
            "type": "scatter3d"
           }
          ],
          "scattercarpet": [
           {
            "marker": {
             "colorbar": {
              "outlinewidth": 0,
              "ticks": ""
             }
            },
            "type": "scattercarpet"
           }
          ],
          "scattergeo": [
           {
            "marker": {
             "colorbar": {
              "outlinewidth": 0,
              "ticks": ""
             }
            },
            "type": "scattergeo"
           }
          ],
          "scattergl": [
           {
            "marker": {
             "colorbar": {
              "outlinewidth": 0,
              "ticks": ""
             }
            },
            "type": "scattergl"
           }
          ],
          "scattermapbox": [
           {
            "marker": {
             "colorbar": {
              "outlinewidth": 0,
              "ticks": ""
             }
            },
            "type": "scattermapbox"
           }
          ],
          "scatterpolar": [
           {
            "marker": {
             "colorbar": {
              "outlinewidth": 0,
              "ticks": ""
             }
            },
            "type": "scatterpolar"
           }
          ],
          "scatterpolargl": [
           {
            "marker": {
             "colorbar": {
              "outlinewidth": 0,
              "ticks": ""
             }
            },
            "type": "scatterpolargl"
           }
          ],
          "scatterternary": [
           {
            "marker": {
             "colorbar": {
              "outlinewidth": 0,
              "ticks": ""
             }
            },
            "type": "scatterternary"
           }
          ],
          "surface": [
           {
            "colorbar": {
             "outlinewidth": 0,
             "ticks": ""
            },
            "colorscale": [
             [
              0,
              "#0d0887"
             ],
             [
              0.1111111111111111,
              "#46039f"
             ],
             [
              0.2222222222222222,
              "#7201a8"
             ],
             [
              0.3333333333333333,
              "#9c179e"
             ],
             [
              0.4444444444444444,
              "#bd3786"
             ],
             [
              0.5555555555555556,
              "#d8576b"
             ],
             [
              0.6666666666666666,
              "#ed7953"
             ],
             [
              0.7777777777777778,
              "#fb9f3a"
             ],
             [
              0.8888888888888888,
              "#fdca26"
             ],
             [
              1,
              "#f0f921"
             ]
            ],
            "type": "surface"
           }
          ],
          "table": [
           {
            "cells": {
             "fill": {
              "color": "#EBF0F8"
             },
             "line": {
              "color": "white"
             }
            },
            "header": {
             "fill": {
              "color": "#C8D4E3"
             },
             "line": {
              "color": "white"
             }
            },
            "type": "table"
           }
          ]
         },
         "layout": {
          "annotationdefaults": {
           "arrowcolor": "#2a3f5f",
           "arrowhead": 0,
           "arrowwidth": 1
          },
          "coloraxis": {
           "colorbar": {
            "outlinewidth": 0,
            "ticks": ""
           }
          },
          "colorscale": {
           "diverging": [
            [
             0,
             "#8e0152"
            ],
            [
             0.1,
             "#c51b7d"
            ],
            [
             0.2,
             "#de77ae"
            ],
            [
             0.3,
             "#f1b6da"
            ],
            [
             0.4,
             "#fde0ef"
            ],
            [
             0.5,
             "#f7f7f7"
            ],
            [
             0.6,
             "#e6f5d0"
            ],
            [
             0.7,
             "#b8e186"
            ],
            [
             0.8,
             "#7fbc41"
            ],
            [
             0.9,
             "#4d9221"
            ],
            [
             1,
             "#276419"
            ]
           ],
           "sequential": [
            [
             0,
             "#0d0887"
            ],
            [
             0.1111111111111111,
             "#46039f"
            ],
            [
             0.2222222222222222,
             "#7201a8"
            ],
            [
             0.3333333333333333,
             "#9c179e"
            ],
            [
             0.4444444444444444,
             "#bd3786"
            ],
            [
             0.5555555555555556,
             "#d8576b"
            ],
            [
             0.6666666666666666,
             "#ed7953"
            ],
            [
             0.7777777777777778,
             "#fb9f3a"
            ],
            [
             0.8888888888888888,
             "#fdca26"
            ],
            [
             1,
             "#f0f921"
            ]
           ],
           "sequentialminus": [
            [
             0,
             "#0d0887"
            ],
            [
             0.1111111111111111,
             "#46039f"
            ],
            [
             0.2222222222222222,
             "#7201a8"
            ],
            [
             0.3333333333333333,
             "#9c179e"
            ],
            [
             0.4444444444444444,
             "#bd3786"
            ],
            [
             0.5555555555555556,
             "#d8576b"
            ],
            [
             0.6666666666666666,
             "#ed7953"
            ],
            [
             0.7777777777777778,
             "#fb9f3a"
            ],
            [
             0.8888888888888888,
             "#fdca26"
            ],
            [
             1,
             "#f0f921"
            ]
           ]
          },
          "colorway": [
           "#636efa",
           "#EF553B",
           "#00cc96",
           "#ab63fa",
           "#FFA15A",
           "#19d3f3",
           "#FF6692",
           "#B6E880",
           "#FF97FF",
           "#FECB52"
          ],
          "font": {
           "color": "#2a3f5f"
          },
          "geo": {
           "bgcolor": "white",
           "lakecolor": "white",
           "landcolor": "#E5ECF6",
           "showlakes": true,
           "showland": true,
           "subunitcolor": "white"
          },
          "hoverlabel": {
           "align": "left"
          },
          "hovermode": "closest",
          "mapbox": {
           "style": "light"
          },
          "paper_bgcolor": "white",
          "plot_bgcolor": "#E5ECF6",
          "polar": {
           "angularaxis": {
            "gridcolor": "white",
            "linecolor": "white",
            "ticks": ""
           },
           "bgcolor": "#E5ECF6",
           "radialaxis": {
            "gridcolor": "white",
            "linecolor": "white",
            "ticks": ""
           }
          },
          "scene": {
           "xaxis": {
            "backgroundcolor": "#E5ECF6",
            "gridcolor": "white",
            "gridwidth": 2,
            "linecolor": "white",
            "showbackground": true,
            "ticks": "",
            "zerolinecolor": "white"
           },
           "yaxis": {
            "backgroundcolor": "#E5ECF6",
            "gridcolor": "white",
            "gridwidth": 2,
            "linecolor": "white",
            "showbackground": true,
            "ticks": "",
            "zerolinecolor": "white"
           },
           "zaxis": {
            "backgroundcolor": "#E5ECF6",
            "gridcolor": "white",
            "gridwidth": 2,
            "linecolor": "white",
            "showbackground": true,
            "ticks": "",
            "zerolinecolor": "white"
           }
          },
          "shapedefaults": {
           "line": {
            "color": "#2a3f5f"
           }
          },
          "ternary": {
           "aaxis": {
            "gridcolor": "white",
            "linecolor": "white",
            "ticks": ""
           },
           "baxis": {
            "gridcolor": "white",
            "linecolor": "white",
            "ticks": ""
           },
           "bgcolor": "#E5ECF6",
           "caxis": {
            "gridcolor": "white",
            "linecolor": "white",
            "ticks": ""
           }
          },
          "title": {
           "x": 0.05
          },
          "xaxis": {
           "automargin": true,
           "gridcolor": "white",
           "linecolor": "white",
           "ticks": "",
           "title": {
            "standoff": 15
           },
           "zerolinecolor": "white",
           "zerolinewidth": 2
          },
          "yaxis": {
           "automargin": true,
           "gridcolor": "white",
           "linecolor": "white",
           "ticks": "",
           "title": {
            "standoff": 15
           },
           "zerolinecolor": "white",
           "zerolinewidth": 2
          }
         }
        },
        "width": 1000
       }
      },
      "text/html": [
       "<div>\n",
       "        \n",
       "        \n",
       "            <div id=\"66bc8d5e-e3c7-4cc9-ade4-99f7037ba97d\" class=\"plotly-graph-div\" style=\"height:450px; width:1000px;\"></div>\n",
       "            <script type=\"text/javascript\">\n",
       "                require([\"plotly\"], function(Plotly) {\n",
       "                    window.PLOTLYENV=window.PLOTLYENV || {};\n",
       "                    window.PLOTLYENV.BASE_URL='https://plot.ly';\n",
       "                    \n",
       "                if (document.getElementById(\"66bc8d5e-e3c7-4cc9-ade4-99f7037ba97d\")) {\n",
       "                    Plotly.newPlot(\n",
       "                        '66bc8d5e-e3c7-4cc9-ade4-99f7037ba97d',\n",
       "                        [{\"line\": {\"color\": \"rgba(255, 153, 51, 1.0)\", \"dash\": \"solid\", \"shape\": \"linear\", \"width\": 1.3}, \"mode\": \"lines\", \"name\": \"IBM.N\", \"text\": \"\", \"type\": \"scatter\", \"x\": [\"2018-10-17\", \"2018-10-18\", \"2018-10-19\", \"2018-10-22\", \"2018-10-23\", \"2018-10-24\", \"2018-10-25\", \"2018-10-26\", \"2018-10-29\", \"2018-10-30\", \"2018-10-31\", \"2018-11-01\", \"2018-11-02\", \"2018-11-05\", \"2018-11-06\", \"2018-11-07\", \"2018-11-08\", \"2018-11-09\", \"2018-11-12\", \"2018-11-13\", \"2018-11-14\", \"2018-11-15\", \"2018-11-16\", \"2018-11-19\", \"2018-11-20\", \"2018-11-21\", \"2018-11-23\", \"2018-11-26\", \"2018-11-27\", \"2018-11-28\", \"2018-11-29\", \"2018-11-30\", \"2018-12-03\", \"2018-12-04\", \"2018-12-06\", \"2018-12-07\", \"2018-12-10\", \"2018-12-11\", \"2018-12-12\", \"2018-12-13\", \"2018-12-14\", \"2018-12-17\", \"2018-12-18\", \"2018-12-19\", \"2018-12-20\", \"2018-12-21\", \"2018-12-24\", \"2018-12-26\", \"2018-12-27\", \"2018-12-28\"], \"y\": [134.05, 130.55, 129.1, 130.02, 131.21, 127.21, 126.45, 124.79, 119.64, 115.4, 115.43, 116.83, 115.67, 120.06, 123.12, 124.84, 123.38, 123.54, 120.9, 120.84, 120.2, 121.44, 121.57, 120.31, 117.2, 118.57, 117.19, 119.56, 120.03, 123.0, 121.48, 124.27, 125.31, 121.6, 123.91, 119.34, 121.13, 120.89, 121.16, 120.73, 119.9, 116.1, 116.65, 116.43, 113.02, 110.94, 107.57, 111.39, 113.78, 113.03]}, {\"line\": {\"color\": \"rgba(55, 128, 191, 1.0)\", \"dash\": \"solid\", \"shape\": \"linear\", \"width\": 1.3}, \"mode\": \"lines\", \"name\": \"PRED\", \"text\": \"\", \"type\": \"scatter\", \"x\": [\"2018-10-17\", \"2018-10-18\", \"2018-10-19\", \"2018-10-22\", \"2018-10-23\", \"2018-10-24\", \"2018-10-25\", \"2018-10-26\", \"2018-10-29\", \"2018-10-30\", \"2018-10-31\", \"2018-11-01\", \"2018-11-02\", \"2018-11-05\", \"2018-11-06\", \"2018-11-07\", \"2018-11-08\", \"2018-11-09\", \"2018-11-12\", \"2018-11-13\", \"2018-11-14\", \"2018-11-15\", \"2018-11-16\", \"2018-11-19\", \"2018-11-20\", \"2018-11-21\", \"2018-11-23\", \"2018-11-26\", \"2018-11-27\", \"2018-11-28\", \"2018-11-29\", \"2018-11-30\", \"2018-12-03\", \"2018-12-04\", \"2018-12-06\", \"2018-12-07\", \"2018-12-10\", \"2018-12-11\", \"2018-12-12\", \"2018-12-13\", \"2018-12-14\", \"2018-12-17\", \"2018-12-18\", \"2018-12-19\", \"2018-12-20\", \"2018-12-21\", \"2018-12-24\", \"2018-12-26\", \"2018-12-27\", \"2018-12-28\"], \"y\": [144.73602861035826, 134.01407983633143, 131.44732410496042, 128.85136924756196, 129.60369859024536, 130.7889191014443, 127.0941393852514, 126.63278285214678, 124.58188699025645, 119.6913821949869, 115.68945924013246, 115.34352539966811, 116.36105304532774, 115.3745596245598, 119.84008514581338, 122.46298190421354, 124.50267812401844, 123.29341688011496, 123.554770393348, 120.77114608969673, 120.83317603161241, 119.94490044003734, 121.21058370913497, 121.25951402142789, 120.19935625434915, 117.25228851393425, 118.5143083573159, 116.82628849504832, 119.39101745315102, 119.61784245844822, 122.72808285623194, 121.18207107745397, 124.19701118154126, 124.85349357681396, 121.56178879454983, 123.97640237629554, 119.03716752444441, 121.24194171625415, 120.4399383495233, 120.98212856305244, 120.55421631606157, 119.78348879366607, 116.11490016481244, 116.68814414907973, 116.06258569947869, 112.96043682667936, 111.09702339258504, 107.55463061586272, 111.18981025622125, 113.07447977667236]}],\n",
       "                        {\"height\": 450, \"template\": {\"data\": {\"bar\": [{\"error_x\": {\"color\": \"#2a3f5f\"}, \"error_y\": {\"color\": \"#2a3f5f\"}, \"marker\": {\"line\": {\"color\": \"#E5ECF6\", \"width\": 0.5}}, \"type\": \"bar\"}], \"barpolar\": [{\"marker\": {\"line\": {\"color\": \"#E5ECF6\", \"width\": 0.5}}, \"type\": \"barpolar\"}], \"carpet\": [{\"aaxis\": {\"endlinecolor\": \"#2a3f5f\", \"gridcolor\": \"white\", \"linecolor\": \"white\", \"minorgridcolor\": \"white\", \"startlinecolor\": \"#2a3f5f\"}, \"baxis\": {\"endlinecolor\": \"#2a3f5f\", \"gridcolor\": \"white\", \"linecolor\": \"white\", \"minorgridcolor\": \"white\", \"startlinecolor\": \"#2a3f5f\"}, \"type\": \"carpet\"}], \"choropleth\": [{\"colorbar\": {\"outlinewidth\": 0, \"ticks\": \"\"}, \"type\": \"choropleth\"}], \"contour\": [{\"colorbar\": {\"outlinewidth\": 0, \"ticks\": \"\"}, \"colorscale\": [[0.0, \"#0d0887\"], [0.1111111111111111, \"#46039f\"], [0.2222222222222222, \"#7201a8\"], [0.3333333333333333, \"#9c179e\"], [0.4444444444444444, \"#bd3786\"], [0.5555555555555556, \"#d8576b\"], [0.6666666666666666, \"#ed7953\"], [0.7777777777777778, \"#fb9f3a\"], [0.8888888888888888, \"#fdca26\"], [1.0, \"#f0f921\"]], \"type\": \"contour\"}], \"contourcarpet\": [{\"colorbar\": {\"outlinewidth\": 0, \"ticks\": \"\"}, \"type\": \"contourcarpet\"}], \"heatmap\": [{\"colorbar\": {\"outlinewidth\": 0, \"ticks\": \"\"}, \"colorscale\": [[0.0, \"#0d0887\"], [0.1111111111111111, \"#46039f\"], [0.2222222222222222, \"#7201a8\"], [0.3333333333333333, \"#9c179e\"], [0.4444444444444444, \"#bd3786\"], [0.5555555555555556, \"#d8576b\"], [0.6666666666666666, \"#ed7953\"], [0.7777777777777778, \"#fb9f3a\"], [0.8888888888888888, \"#fdca26\"], [1.0, \"#f0f921\"]], \"type\": \"heatmap\"}], \"heatmapgl\": [{\"colorbar\": {\"outlinewidth\": 0, \"ticks\": \"\"}, \"colorscale\": [[0.0, \"#0d0887\"], [0.1111111111111111, \"#46039f\"], [0.2222222222222222, \"#7201a8\"], [0.3333333333333333, \"#9c179e\"], [0.4444444444444444, \"#bd3786\"], [0.5555555555555556, \"#d8576b\"], [0.6666666666666666, \"#ed7953\"], [0.7777777777777778, \"#fb9f3a\"], [0.8888888888888888, \"#fdca26\"], [1.0, \"#f0f921\"]], \"type\": \"heatmapgl\"}], \"histogram\": [{\"marker\": {\"colorbar\": {\"outlinewidth\": 0, \"ticks\": \"\"}}, \"type\": \"histogram\"}], \"histogram2d\": [{\"colorbar\": {\"outlinewidth\": 0, \"ticks\": \"\"}, \"colorscale\": [[0.0, \"#0d0887\"], [0.1111111111111111, \"#46039f\"], [0.2222222222222222, \"#7201a8\"], [0.3333333333333333, \"#9c179e\"], [0.4444444444444444, \"#bd3786\"], [0.5555555555555556, \"#d8576b\"], [0.6666666666666666, \"#ed7953\"], [0.7777777777777778, \"#fb9f3a\"], [0.8888888888888888, \"#fdca26\"], [1.0, \"#f0f921\"]], \"type\": \"histogram2d\"}], \"histogram2dcontour\": [{\"colorbar\": {\"outlinewidth\": 0, \"ticks\": \"\"}, \"colorscale\": [[0.0, \"#0d0887\"], [0.1111111111111111, \"#46039f\"], [0.2222222222222222, \"#7201a8\"], [0.3333333333333333, \"#9c179e\"], [0.4444444444444444, \"#bd3786\"], [0.5555555555555556, \"#d8576b\"], [0.6666666666666666, \"#ed7953\"], [0.7777777777777778, \"#fb9f3a\"], [0.8888888888888888, \"#fdca26\"], [1.0, \"#f0f921\"]], \"type\": \"histogram2dcontour\"}], \"mesh3d\": [{\"colorbar\": {\"outlinewidth\": 0, \"ticks\": \"\"}, \"type\": \"mesh3d\"}], \"parcoords\": [{\"line\": {\"colorbar\": {\"outlinewidth\": 0, \"ticks\": \"\"}}, \"type\": \"parcoords\"}], \"pie\": [{\"automargin\": true, \"type\": \"pie\"}], \"scatter\": [{\"marker\": {\"colorbar\": {\"outlinewidth\": 0, \"ticks\": \"\"}}, \"type\": \"scatter\"}], \"scatter3d\": [{\"line\": {\"colorbar\": {\"outlinewidth\": 0, \"ticks\": \"\"}}, \"marker\": {\"colorbar\": {\"outlinewidth\": 0, \"ticks\": \"\"}}, \"type\": \"scatter3d\"}], \"scattercarpet\": [{\"marker\": {\"colorbar\": {\"outlinewidth\": 0, \"ticks\": \"\"}}, \"type\": \"scattercarpet\"}], \"scattergeo\": [{\"marker\": {\"colorbar\": {\"outlinewidth\": 0, \"ticks\": \"\"}}, \"type\": \"scattergeo\"}], \"scattergl\": [{\"marker\": {\"colorbar\": {\"outlinewidth\": 0, \"ticks\": \"\"}}, \"type\": \"scattergl\"}], \"scattermapbox\": [{\"marker\": {\"colorbar\": {\"outlinewidth\": 0, \"ticks\": \"\"}}, \"type\": \"scattermapbox\"}], \"scatterpolar\": [{\"marker\": {\"colorbar\": {\"outlinewidth\": 0, \"ticks\": \"\"}}, \"type\": \"scatterpolar\"}], \"scatterpolargl\": [{\"marker\": {\"colorbar\": {\"outlinewidth\": 0, \"ticks\": \"\"}}, \"type\": \"scatterpolargl\"}], \"scatterternary\": [{\"marker\": {\"colorbar\": {\"outlinewidth\": 0, \"ticks\": \"\"}}, \"type\": \"scatterternary\"}], \"surface\": [{\"colorbar\": {\"outlinewidth\": 0, \"ticks\": \"\"}, \"colorscale\": [[0.0, \"#0d0887\"], [0.1111111111111111, \"#46039f\"], [0.2222222222222222, \"#7201a8\"], [0.3333333333333333, \"#9c179e\"], [0.4444444444444444, \"#bd3786\"], [0.5555555555555556, \"#d8576b\"], [0.6666666666666666, \"#ed7953\"], [0.7777777777777778, \"#fb9f3a\"], [0.8888888888888888, \"#fdca26\"], [1.0, \"#f0f921\"]], \"type\": \"surface\"}], \"table\": [{\"cells\": {\"fill\": {\"color\": \"#EBF0F8\"}, \"line\": {\"color\": \"white\"}}, \"header\": {\"fill\": {\"color\": \"#C8D4E3\"}, \"line\": {\"color\": \"white\"}}, \"type\": \"table\"}]}, \"layout\": {\"annotationdefaults\": {\"arrowcolor\": \"#2a3f5f\", \"arrowhead\": 0, \"arrowwidth\": 1}, \"coloraxis\": {\"colorbar\": {\"outlinewidth\": 0, \"ticks\": \"\"}}, \"colorscale\": {\"diverging\": [[0, \"#8e0152\"], [0.1, \"#c51b7d\"], [0.2, \"#de77ae\"], [0.3, \"#f1b6da\"], [0.4, \"#fde0ef\"], [0.5, \"#f7f7f7\"], [0.6, \"#e6f5d0\"], [0.7, \"#b8e186\"], [0.8, \"#7fbc41\"], [0.9, \"#4d9221\"], [1, \"#276419\"]], \"sequential\": [[0.0, \"#0d0887\"], [0.1111111111111111, \"#46039f\"], [0.2222222222222222, \"#7201a8\"], [0.3333333333333333, \"#9c179e\"], [0.4444444444444444, \"#bd3786\"], [0.5555555555555556, \"#d8576b\"], [0.6666666666666666, \"#ed7953\"], [0.7777777777777778, \"#fb9f3a\"], [0.8888888888888888, \"#fdca26\"], [1.0, \"#f0f921\"]], \"sequentialminus\": [[0.0, \"#0d0887\"], [0.1111111111111111, \"#46039f\"], [0.2222222222222222, \"#7201a8\"], [0.3333333333333333, \"#9c179e\"], [0.4444444444444444, \"#bd3786\"], [0.5555555555555556, \"#d8576b\"], [0.6666666666666666, \"#ed7953\"], [0.7777777777777778, \"#fb9f3a\"], [0.8888888888888888, \"#fdca26\"], [1.0, \"#f0f921\"]]}, \"colorway\": [\"#636efa\", \"#EF553B\", \"#00cc96\", \"#ab63fa\", \"#FFA15A\", \"#19d3f3\", \"#FF6692\", \"#B6E880\", \"#FF97FF\", \"#FECB52\"], \"font\": {\"color\": \"#2a3f5f\"}, \"geo\": {\"bgcolor\": \"white\", \"lakecolor\": \"white\", \"landcolor\": \"#E5ECF6\", \"showlakes\": true, \"showland\": true, \"subunitcolor\": \"white\"}, \"hoverlabel\": {\"align\": \"left\"}, \"hovermode\": \"closest\", \"mapbox\": {\"style\": \"light\"}, \"paper_bgcolor\": \"white\", \"plot_bgcolor\": \"#E5ECF6\", \"polar\": {\"angularaxis\": {\"gridcolor\": \"white\", \"linecolor\": \"white\", \"ticks\": \"\"}, \"bgcolor\": \"#E5ECF6\", \"radialaxis\": {\"gridcolor\": \"white\", \"linecolor\": \"white\", \"ticks\": \"\"}}, \"scene\": {\"xaxis\": {\"backgroundcolor\": \"#E5ECF6\", \"gridcolor\": \"white\", \"gridwidth\": 2, \"linecolor\": \"white\", \"showbackground\": true, \"ticks\": \"\", \"zerolinecolor\": \"white\"}, \"yaxis\": {\"backgroundcolor\": \"#E5ECF6\", \"gridcolor\": \"white\", \"gridwidth\": 2, \"linecolor\": \"white\", \"showbackground\": true, \"ticks\": \"\", \"zerolinecolor\": \"white\"}, \"zaxis\": {\"backgroundcolor\": \"#E5ECF6\", \"gridcolor\": \"white\", \"gridwidth\": 2, \"linecolor\": \"white\", \"showbackground\": true, \"ticks\": \"\", \"zerolinecolor\": \"white\"}}, \"shapedefaults\": {\"line\": {\"color\": \"#2a3f5f\"}}, \"ternary\": {\"aaxis\": {\"gridcolor\": \"white\", \"linecolor\": \"white\", \"ticks\": \"\"}, \"baxis\": {\"gridcolor\": \"white\", \"linecolor\": \"white\", \"ticks\": \"\"}, \"bgcolor\": \"#E5ECF6\", \"caxis\": {\"gridcolor\": \"white\", \"linecolor\": \"white\", \"ticks\": \"\"}}, \"title\": {\"x\": 0.05}, \"xaxis\": {\"automargin\": true, \"gridcolor\": \"white\", \"linecolor\": \"white\", \"ticks\": \"\", \"title\": {\"standoff\": 15}, \"zerolinecolor\": \"white\", \"zerolinewidth\": 2}, \"yaxis\": {\"automargin\": true, \"gridcolor\": \"white\", \"linecolor\": \"white\", \"ticks\": \"\", \"title\": {\"standoff\": 15}, \"zerolinecolor\": \"white\", \"zerolinewidth\": 2}}}, \"width\": 1000},\n",
       "                        {\"showLink\": true, \"linkText\": \"Export to plot.ly\", \"plotlyServerURL\": \"https://plot.ly\", \"responsive\": true}\n",
       "                    ).then(function(){\n",
       "                            \n",
       "var gd = document.getElementById('66bc8d5e-e3c7-4cc9-ade4-99f7037ba97d');\n",
       "var x = new MutationObserver(function (mutations, observer) {{\n",
       "        var display = window.getComputedStyle(gd).display;\n",
       "        if (!display || display === 'none') {{\n",
       "            console.log([gd, 'removed!']);\n",
       "            Plotly.purge(gd);\n",
       "            observer.disconnect();\n",
       "        }}\n",
       "}});\n",
       "\n",
       "// Listen for the removal of the full notebook cells\n",
       "var notebookContainer = gd.closest('#notebook-container');\n",
       "if (notebookContainer) {{\n",
       "    x.observe(notebookContainer, {childList: true});\n",
       "}}\n",
       "\n",
       "// Listen for the clearing of the current output cell\n",
       "var outputEl = gd.closest('.output');\n",
       "if (outputEl) {{\n",
       "    x.observe(outputEl, {childList: true});\n",
       "}}\n",
       "\n",
       "                        })\n",
       "                };\n",
       "                });\n",
       "            </script>\n",
       "        </div>"
      ]
     },
     "metadata": {},
     "output_type": "display_data"
    },
    {
     "data": {
      "application/vnd.plotly.v1+json": {
       "config": {
        "linkText": "Export to plot.ly",
        "plotlyServerURL": "https://plot.ly",
        "showLink": true
       },
       "data": [
        {
         "line": {
          "color": "rgba(255, 153, 51, 1.0)",
          "dash": "solid",
          "shape": "linear",
          "width": 1.3
         },
         "mode": "lines",
         "name": "GE",
         "text": "",
         "type": "scatter",
         "x": [
          "2018-10-17",
          "2018-10-18",
          "2018-10-19",
          "2018-10-22",
          "2018-10-23",
          "2018-10-24",
          "2018-10-25",
          "2018-10-26",
          "2018-10-29",
          "2018-10-30",
          "2018-10-31",
          "2018-11-01",
          "2018-11-02",
          "2018-11-05",
          "2018-11-06",
          "2018-11-07",
          "2018-11-08",
          "2018-11-09",
          "2018-11-12",
          "2018-11-13",
          "2018-11-14",
          "2018-11-15",
          "2018-11-16",
          "2018-11-19",
          "2018-11-20",
          "2018-11-21",
          "2018-11-23",
          "2018-11-26",
          "2018-11-27",
          "2018-11-28",
          "2018-11-29",
          "2018-11-30",
          "2018-12-03",
          "2018-12-04",
          "2018-12-06",
          "2018-12-07",
          "2018-12-10",
          "2018-12-11",
          "2018-12-12",
          "2018-12-13",
          "2018-12-14",
          "2018-12-17",
          "2018-12-18",
          "2018-12-19",
          "2018-12-20",
          "2018-12-21",
          "2018-12-24",
          "2018-12-26",
          "2018-12-27",
          "2018-12-28"
         ],
         "y": [
          11.71765,
          11.900287,
          12.073313,
          11.900287,
          12.198275,
          11.698425,
          11.342762,
          10.862136,
          10.727561,
          9.785535,
          9.708635,
          9.208785,
          8.930022,
          8.920409,
          9.054984,
          8.843509,
          8.747384,
          8.247534,
          7.680395,
          8.276371,
          7.997608,
          7.853421,
          7.709233,
          7.536208,
          7.35357,
          7.50737,
          7.27667,
          7.286283,
          7.151707,
          7.440083,
          7.632333,
          7.209383,
          7.50737,
          6.997907,
          7.065195,
          6.73837,
          6.661469,
          6.498057,
          6.449994,
          6.921007,
          6.824882,
          6.872945,
          6.997907,
          7.363183,
          7.151707,
          6.872945,
          6.651857,
          7.103645,
          6.988295,
          7.218995
         ]
        },
        {
         "line": {
          "color": "rgba(55, 128, 191, 1.0)",
          "dash": "solid",
          "shape": "linear",
          "width": 1.3
         },
         "mode": "lines",
         "name": "PRED",
         "text": "",
         "type": "scatter",
         "x": [
          "2018-10-17",
          "2018-10-18",
          "2018-10-19",
          "2018-10-22",
          "2018-10-23",
          "2018-10-24",
          "2018-10-25",
          "2018-10-26",
          "2018-10-29",
          "2018-10-30",
          "2018-10-31",
          "2018-11-01",
          "2018-11-02",
          "2018-11-05",
          "2018-11-06",
          "2018-11-07",
          "2018-11-08",
          "2018-11-09",
          "2018-11-12",
          "2018-11-13",
          "2018-11-14",
          "2018-11-15",
          "2018-11-16",
          "2018-11-19",
          "2018-11-20",
          "2018-11-21",
          "2018-11-23",
          "2018-11-26",
          "2018-11-27",
          "2018-11-28",
          "2018-11-29",
          "2018-11-30",
          "2018-12-03",
          "2018-12-04",
          "2018-12-06",
          "2018-12-07",
          "2018-12-10",
          "2018-12-11",
          "2018-12-12",
          "2018-12-13",
          "2018-12-14",
          "2018-12-17",
          "2018-12-18",
          "2018-12-19",
          "2018-12-20",
          "2018-12-21",
          "2018-12-24",
          "2018-12-26",
          "2018-12-27",
          "2018-12-28"
         ],
         "y": [
          11.565966063480232,
          11.672227390430386,
          11.868906704047179,
          12.053097250358748,
          11.877663783664257,
          12.164143164212778,
          11.658128859135887,
          11.287751831162545,
          10.771303340821163,
          10.647296181984991,
          9.704311228079787,
          9.618548425024763,
          9.11687051470468,
          8.867418327676404,
          8.850737139369718,
          9.015559584761986,
          8.818993241834013,
          8.712851638483052,
          8.194505206979331,
          7.612546731014476,
          8.204975463766374,
          7.971932489719848,
          7.842767860958454,
          7.657371476597707,
          7.494202124816186,
          7.309903428398129,
          7.467943598220196,
          7.24852236018669,
          7.259033711760095,
          7.114310252501404,
          7.415975743522858,
          7.620886453604515,
          7.203958671607075,
          7.474956240650048,
          6.959398460191297,
          7.032604026708528,
          6.686728187296212,
          6.625756917970995,
          6.452680493885516,
          6.416531687873549,
          6.897555812678604,
          6.825402873991244,
          6.871209293439066,
          6.974245803377512,
          7.356802653431401,
          7.151248372635602,
          6.8522003008556345,
          6.598604943302203,
          7.064109815734027,
          6.97827800681487
         ]
        }
       ],
       "layout": {
        "height": 450,
        "template": {
         "data": {
          "bar": [
           {
            "error_x": {
             "color": "#2a3f5f"
            },
            "error_y": {
             "color": "#2a3f5f"
            },
            "marker": {
             "line": {
              "color": "#E5ECF6",
              "width": 0.5
             }
            },
            "type": "bar"
           }
          ],
          "barpolar": [
           {
            "marker": {
             "line": {
              "color": "#E5ECF6",
              "width": 0.5
             }
            },
            "type": "barpolar"
           }
          ],
          "carpet": [
           {
            "aaxis": {
             "endlinecolor": "#2a3f5f",
             "gridcolor": "white",
             "linecolor": "white",
             "minorgridcolor": "white",
             "startlinecolor": "#2a3f5f"
            },
            "baxis": {
             "endlinecolor": "#2a3f5f",
             "gridcolor": "white",
             "linecolor": "white",
             "minorgridcolor": "white",
             "startlinecolor": "#2a3f5f"
            },
            "type": "carpet"
           }
          ],
          "choropleth": [
           {
            "colorbar": {
             "outlinewidth": 0,
             "ticks": ""
            },
            "type": "choropleth"
           }
          ],
          "contour": [
           {
            "colorbar": {
             "outlinewidth": 0,
             "ticks": ""
            },
            "colorscale": [
             [
              0,
              "#0d0887"
             ],
             [
              0.1111111111111111,
              "#46039f"
             ],
             [
              0.2222222222222222,
              "#7201a8"
             ],
             [
              0.3333333333333333,
              "#9c179e"
             ],
             [
              0.4444444444444444,
              "#bd3786"
             ],
             [
              0.5555555555555556,
              "#d8576b"
             ],
             [
              0.6666666666666666,
              "#ed7953"
             ],
             [
              0.7777777777777778,
              "#fb9f3a"
             ],
             [
              0.8888888888888888,
              "#fdca26"
             ],
             [
              1,
              "#f0f921"
             ]
            ],
            "type": "contour"
           }
          ],
          "contourcarpet": [
           {
            "colorbar": {
             "outlinewidth": 0,
             "ticks": ""
            },
            "type": "contourcarpet"
           }
          ],
          "heatmap": [
           {
            "colorbar": {
             "outlinewidth": 0,
             "ticks": ""
            },
            "colorscale": [
             [
              0,
              "#0d0887"
             ],
             [
              0.1111111111111111,
              "#46039f"
             ],
             [
              0.2222222222222222,
              "#7201a8"
             ],
             [
              0.3333333333333333,
              "#9c179e"
             ],
             [
              0.4444444444444444,
              "#bd3786"
             ],
             [
              0.5555555555555556,
              "#d8576b"
             ],
             [
              0.6666666666666666,
              "#ed7953"
             ],
             [
              0.7777777777777778,
              "#fb9f3a"
             ],
             [
              0.8888888888888888,
              "#fdca26"
             ],
             [
              1,
              "#f0f921"
             ]
            ],
            "type": "heatmap"
           }
          ],
          "heatmapgl": [
           {
            "colorbar": {
             "outlinewidth": 0,
             "ticks": ""
            },
            "colorscale": [
             [
              0,
              "#0d0887"
             ],
             [
              0.1111111111111111,
              "#46039f"
             ],
             [
              0.2222222222222222,
              "#7201a8"
             ],
             [
              0.3333333333333333,
              "#9c179e"
             ],
             [
              0.4444444444444444,
              "#bd3786"
             ],
             [
              0.5555555555555556,
              "#d8576b"
             ],
             [
              0.6666666666666666,
              "#ed7953"
             ],
             [
              0.7777777777777778,
              "#fb9f3a"
             ],
             [
              0.8888888888888888,
              "#fdca26"
             ],
             [
              1,
              "#f0f921"
             ]
            ],
            "type": "heatmapgl"
           }
          ],
          "histogram": [
           {
            "marker": {
             "colorbar": {
              "outlinewidth": 0,
              "ticks": ""
             }
            },
            "type": "histogram"
           }
          ],
          "histogram2d": [
           {
            "colorbar": {
             "outlinewidth": 0,
             "ticks": ""
            },
            "colorscale": [
             [
              0,
              "#0d0887"
             ],
             [
              0.1111111111111111,
              "#46039f"
             ],
             [
              0.2222222222222222,
              "#7201a8"
             ],
             [
              0.3333333333333333,
              "#9c179e"
             ],
             [
              0.4444444444444444,
              "#bd3786"
             ],
             [
              0.5555555555555556,
              "#d8576b"
             ],
             [
              0.6666666666666666,
              "#ed7953"
             ],
             [
              0.7777777777777778,
              "#fb9f3a"
             ],
             [
              0.8888888888888888,
              "#fdca26"
             ],
             [
              1,
              "#f0f921"
             ]
            ],
            "type": "histogram2d"
           }
          ],
          "histogram2dcontour": [
           {
            "colorbar": {
             "outlinewidth": 0,
             "ticks": ""
            },
            "colorscale": [
             [
              0,
              "#0d0887"
             ],
             [
              0.1111111111111111,
              "#46039f"
             ],
             [
              0.2222222222222222,
              "#7201a8"
             ],
             [
              0.3333333333333333,
              "#9c179e"
             ],
             [
              0.4444444444444444,
              "#bd3786"
             ],
             [
              0.5555555555555556,
              "#d8576b"
             ],
             [
              0.6666666666666666,
              "#ed7953"
             ],
             [
              0.7777777777777778,
              "#fb9f3a"
             ],
             [
              0.8888888888888888,
              "#fdca26"
             ],
             [
              1,
              "#f0f921"
             ]
            ],
            "type": "histogram2dcontour"
           }
          ],
          "mesh3d": [
           {
            "colorbar": {
             "outlinewidth": 0,
             "ticks": ""
            },
            "type": "mesh3d"
           }
          ],
          "parcoords": [
           {
            "line": {
             "colorbar": {
              "outlinewidth": 0,
              "ticks": ""
             }
            },
            "type": "parcoords"
           }
          ],
          "pie": [
           {
            "automargin": true,
            "type": "pie"
           }
          ],
          "scatter": [
           {
            "marker": {
             "colorbar": {
              "outlinewidth": 0,
              "ticks": ""
             }
            },
            "type": "scatter"
           }
          ],
          "scatter3d": [
           {
            "line": {
             "colorbar": {
              "outlinewidth": 0,
              "ticks": ""
             }
            },
            "marker": {
             "colorbar": {
              "outlinewidth": 0,
              "ticks": ""
             }
            },
            "type": "scatter3d"
           }
          ],
          "scattercarpet": [
           {
            "marker": {
             "colorbar": {
              "outlinewidth": 0,
              "ticks": ""
             }
            },
            "type": "scattercarpet"
           }
          ],
          "scattergeo": [
           {
            "marker": {
             "colorbar": {
              "outlinewidth": 0,
              "ticks": ""
             }
            },
            "type": "scattergeo"
           }
          ],
          "scattergl": [
           {
            "marker": {
             "colorbar": {
              "outlinewidth": 0,
              "ticks": ""
             }
            },
            "type": "scattergl"
           }
          ],
          "scattermapbox": [
           {
            "marker": {
             "colorbar": {
              "outlinewidth": 0,
              "ticks": ""
             }
            },
            "type": "scattermapbox"
           }
          ],
          "scatterpolar": [
           {
            "marker": {
             "colorbar": {
              "outlinewidth": 0,
              "ticks": ""
             }
            },
            "type": "scatterpolar"
           }
          ],
          "scatterpolargl": [
           {
            "marker": {
             "colorbar": {
              "outlinewidth": 0,
              "ticks": ""
             }
            },
            "type": "scatterpolargl"
           }
          ],
          "scatterternary": [
           {
            "marker": {
             "colorbar": {
              "outlinewidth": 0,
              "ticks": ""
             }
            },
            "type": "scatterternary"
           }
          ],
          "surface": [
           {
            "colorbar": {
             "outlinewidth": 0,
             "ticks": ""
            },
            "colorscale": [
             [
              0,
              "#0d0887"
             ],
             [
              0.1111111111111111,
              "#46039f"
             ],
             [
              0.2222222222222222,
              "#7201a8"
             ],
             [
              0.3333333333333333,
              "#9c179e"
             ],
             [
              0.4444444444444444,
              "#bd3786"
             ],
             [
              0.5555555555555556,
              "#d8576b"
             ],
             [
              0.6666666666666666,
              "#ed7953"
             ],
             [
              0.7777777777777778,
              "#fb9f3a"
             ],
             [
              0.8888888888888888,
              "#fdca26"
             ],
             [
              1,
              "#f0f921"
             ]
            ],
            "type": "surface"
           }
          ],
          "table": [
           {
            "cells": {
             "fill": {
              "color": "#EBF0F8"
             },
             "line": {
              "color": "white"
             }
            },
            "header": {
             "fill": {
              "color": "#C8D4E3"
             },
             "line": {
              "color": "white"
             }
            },
            "type": "table"
           }
          ]
         },
         "layout": {
          "annotationdefaults": {
           "arrowcolor": "#2a3f5f",
           "arrowhead": 0,
           "arrowwidth": 1
          },
          "coloraxis": {
           "colorbar": {
            "outlinewidth": 0,
            "ticks": ""
           }
          },
          "colorscale": {
           "diverging": [
            [
             0,
             "#8e0152"
            ],
            [
             0.1,
             "#c51b7d"
            ],
            [
             0.2,
             "#de77ae"
            ],
            [
             0.3,
             "#f1b6da"
            ],
            [
             0.4,
             "#fde0ef"
            ],
            [
             0.5,
             "#f7f7f7"
            ],
            [
             0.6,
             "#e6f5d0"
            ],
            [
             0.7,
             "#b8e186"
            ],
            [
             0.8,
             "#7fbc41"
            ],
            [
             0.9,
             "#4d9221"
            ],
            [
             1,
             "#276419"
            ]
           ],
           "sequential": [
            [
             0,
             "#0d0887"
            ],
            [
             0.1111111111111111,
             "#46039f"
            ],
            [
             0.2222222222222222,
             "#7201a8"
            ],
            [
             0.3333333333333333,
             "#9c179e"
            ],
            [
             0.4444444444444444,
             "#bd3786"
            ],
            [
             0.5555555555555556,
             "#d8576b"
            ],
            [
             0.6666666666666666,
             "#ed7953"
            ],
            [
             0.7777777777777778,
             "#fb9f3a"
            ],
            [
             0.8888888888888888,
             "#fdca26"
            ],
            [
             1,
             "#f0f921"
            ]
           ],
           "sequentialminus": [
            [
             0,
             "#0d0887"
            ],
            [
             0.1111111111111111,
             "#46039f"
            ],
            [
             0.2222222222222222,
             "#7201a8"
            ],
            [
             0.3333333333333333,
             "#9c179e"
            ],
            [
             0.4444444444444444,
             "#bd3786"
            ],
            [
             0.5555555555555556,
             "#d8576b"
            ],
            [
             0.6666666666666666,
             "#ed7953"
            ],
            [
             0.7777777777777778,
             "#fb9f3a"
            ],
            [
             0.8888888888888888,
             "#fdca26"
            ],
            [
             1,
             "#f0f921"
            ]
           ]
          },
          "colorway": [
           "#636efa",
           "#EF553B",
           "#00cc96",
           "#ab63fa",
           "#FFA15A",
           "#19d3f3",
           "#FF6692",
           "#B6E880",
           "#FF97FF",
           "#FECB52"
          ],
          "font": {
           "color": "#2a3f5f"
          },
          "geo": {
           "bgcolor": "white",
           "lakecolor": "white",
           "landcolor": "#E5ECF6",
           "showlakes": true,
           "showland": true,
           "subunitcolor": "white"
          },
          "hoverlabel": {
           "align": "left"
          },
          "hovermode": "closest",
          "mapbox": {
           "style": "light"
          },
          "paper_bgcolor": "white",
          "plot_bgcolor": "#E5ECF6",
          "polar": {
           "angularaxis": {
            "gridcolor": "white",
            "linecolor": "white",
            "ticks": ""
           },
           "bgcolor": "#E5ECF6",
           "radialaxis": {
            "gridcolor": "white",
            "linecolor": "white",
            "ticks": ""
           }
          },
          "scene": {
           "xaxis": {
            "backgroundcolor": "#E5ECF6",
            "gridcolor": "white",
            "gridwidth": 2,
            "linecolor": "white",
            "showbackground": true,
            "ticks": "",
            "zerolinecolor": "white"
           },
           "yaxis": {
            "backgroundcolor": "#E5ECF6",
            "gridcolor": "white",
            "gridwidth": 2,
            "linecolor": "white",
            "showbackground": true,
            "ticks": "",
            "zerolinecolor": "white"
           },
           "zaxis": {
            "backgroundcolor": "#E5ECF6",
            "gridcolor": "white",
            "gridwidth": 2,
            "linecolor": "white",
            "showbackground": true,
            "ticks": "",
            "zerolinecolor": "white"
           }
          },
          "shapedefaults": {
           "line": {
            "color": "#2a3f5f"
           }
          },
          "ternary": {
           "aaxis": {
            "gridcolor": "white",
            "linecolor": "white",
            "ticks": ""
           },
           "baxis": {
            "gridcolor": "white",
            "linecolor": "white",
            "ticks": ""
           },
           "bgcolor": "#E5ECF6",
           "caxis": {
            "gridcolor": "white",
            "linecolor": "white",
            "ticks": ""
           }
          },
          "title": {
           "x": 0.05
          },
          "xaxis": {
           "automargin": true,
           "gridcolor": "white",
           "linecolor": "white",
           "ticks": "",
           "title": {
            "standoff": 15
           },
           "zerolinecolor": "white",
           "zerolinewidth": 2
          },
          "yaxis": {
           "automargin": true,
           "gridcolor": "white",
           "linecolor": "white",
           "ticks": "",
           "title": {
            "standoff": 15
           },
           "zerolinecolor": "white",
           "zerolinewidth": 2
          }
         }
        },
        "width": 1000
       }
      },
      "text/html": [
       "<div>\n",
       "        \n",
       "        \n",
       "            <div id=\"975c581f-8574-43f0-b12a-960f0f12343a\" class=\"plotly-graph-div\" style=\"height:450px; width:1000px;\"></div>\n",
       "            <script type=\"text/javascript\">\n",
       "                require([\"plotly\"], function(Plotly) {\n",
       "                    window.PLOTLYENV=window.PLOTLYENV || {};\n",
       "                    window.PLOTLYENV.BASE_URL='https://plot.ly';\n",
       "                    \n",
       "                if (document.getElementById(\"975c581f-8574-43f0-b12a-960f0f12343a\")) {\n",
       "                    Plotly.newPlot(\n",
       "                        '975c581f-8574-43f0-b12a-960f0f12343a',\n",
       "                        [{\"line\": {\"color\": \"rgba(255, 153, 51, 1.0)\", \"dash\": \"solid\", \"shape\": \"linear\", \"width\": 1.3}, \"mode\": \"lines\", \"name\": \"GE\", \"text\": \"\", \"type\": \"scatter\", \"x\": [\"2018-10-17\", \"2018-10-18\", \"2018-10-19\", \"2018-10-22\", \"2018-10-23\", \"2018-10-24\", \"2018-10-25\", \"2018-10-26\", \"2018-10-29\", \"2018-10-30\", \"2018-10-31\", \"2018-11-01\", \"2018-11-02\", \"2018-11-05\", \"2018-11-06\", \"2018-11-07\", \"2018-11-08\", \"2018-11-09\", \"2018-11-12\", \"2018-11-13\", \"2018-11-14\", \"2018-11-15\", \"2018-11-16\", \"2018-11-19\", \"2018-11-20\", \"2018-11-21\", \"2018-11-23\", \"2018-11-26\", \"2018-11-27\", \"2018-11-28\", \"2018-11-29\", \"2018-11-30\", \"2018-12-03\", \"2018-12-04\", \"2018-12-06\", \"2018-12-07\", \"2018-12-10\", \"2018-12-11\", \"2018-12-12\", \"2018-12-13\", \"2018-12-14\", \"2018-12-17\", \"2018-12-18\", \"2018-12-19\", \"2018-12-20\", \"2018-12-21\", \"2018-12-24\", \"2018-12-26\", \"2018-12-27\", \"2018-12-28\"], \"y\": [11.71765, 11.900287, 12.073313, 11.900287, 12.198275, 11.698425, 11.342762, 10.862136, 10.727561, 9.785535, 9.708635, 9.208785, 8.930022, 8.920409, 9.054984, 8.843509, 8.747384, 8.247534, 7.680395, 8.276371, 7.997608, 7.853421, 7.709233, 7.536208, 7.35357, 7.50737, 7.27667, 7.286283, 7.151707, 7.440083, 7.632333, 7.209383, 7.50737, 6.997907, 7.065195, 6.73837, 6.661469, 6.498057, 6.449994, 6.921007, 6.824882, 6.872945, 6.997907, 7.363183, 7.151707, 6.872945, 6.651857, 7.103645, 6.988295, 7.218995]}, {\"line\": {\"color\": \"rgba(55, 128, 191, 1.0)\", \"dash\": \"solid\", \"shape\": \"linear\", \"width\": 1.3}, \"mode\": \"lines\", \"name\": \"PRED\", \"text\": \"\", \"type\": \"scatter\", \"x\": [\"2018-10-17\", \"2018-10-18\", \"2018-10-19\", \"2018-10-22\", \"2018-10-23\", \"2018-10-24\", \"2018-10-25\", \"2018-10-26\", \"2018-10-29\", \"2018-10-30\", \"2018-10-31\", \"2018-11-01\", \"2018-11-02\", \"2018-11-05\", \"2018-11-06\", \"2018-11-07\", \"2018-11-08\", \"2018-11-09\", \"2018-11-12\", \"2018-11-13\", \"2018-11-14\", \"2018-11-15\", \"2018-11-16\", \"2018-11-19\", \"2018-11-20\", \"2018-11-21\", \"2018-11-23\", \"2018-11-26\", \"2018-11-27\", \"2018-11-28\", \"2018-11-29\", \"2018-11-30\", \"2018-12-03\", \"2018-12-04\", \"2018-12-06\", \"2018-12-07\", \"2018-12-10\", \"2018-12-11\", \"2018-12-12\", \"2018-12-13\", \"2018-12-14\", \"2018-12-17\", \"2018-12-18\", \"2018-12-19\", \"2018-12-20\", \"2018-12-21\", \"2018-12-24\", \"2018-12-26\", \"2018-12-27\", \"2018-12-28\"], \"y\": [11.565966063480232, 11.672227390430386, 11.868906704047179, 12.053097250358748, 11.877663783664257, 12.164143164212778, 11.658128859135887, 11.287751831162545, 10.771303340821163, 10.647296181984991, 9.704311228079787, 9.618548425024763, 9.11687051470468, 8.867418327676404, 8.850737139369718, 9.015559584761986, 8.818993241834013, 8.712851638483052, 8.194505206979331, 7.612546731014476, 8.204975463766374, 7.971932489719848, 7.842767860958454, 7.657371476597707, 7.494202124816186, 7.309903428398129, 7.467943598220196, 7.24852236018669, 7.259033711760095, 7.114310252501404, 7.415975743522858, 7.620886453604515, 7.203958671607075, 7.474956240650048, 6.959398460191297, 7.032604026708528, 6.686728187296212, 6.625756917970995, 6.452680493885516, 6.416531687873549, 6.897555812678604, 6.825402873991244, 6.871209293439066, 6.974245803377512, 7.356802653431401, 7.151248372635602, 6.8522003008556345, 6.598604943302203, 7.064109815734027, 6.97827800681487]}],\n",
       "                        {\"height\": 450, \"template\": {\"data\": {\"bar\": [{\"error_x\": {\"color\": \"#2a3f5f\"}, \"error_y\": {\"color\": \"#2a3f5f\"}, \"marker\": {\"line\": {\"color\": \"#E5ECF6\", \"width\": 0.5}}, \"type\": \"bar\"}], \"barpolar\": [{\"marker\": {\"line\": {\"color\": \"#E5ECF6\", \"width\": 0.5}}, \"type\": \"barpolar\"}], \"carpet\": [{\"aaxis\": {\"endlinecolor\": \"#2a3f5f\", \"gridcolor\": \"white\", \"linecolor\": \"white\", \"minorgridcolor\": \"white\", \"startlinecolor\": \"#2a3f5f\"}, \"baxis\": {\"endlinecolor\": \"#2a3f5f\", \"gridcolor\": \"white\", \"linecolor\": \"white\", \"minorgridcolor\": \"white\", \"startlinecolor\": \"#2a3f5f\"}, \"type\": \"carpet\"}], \"choropleth\": [{\"colorbar\": {\"outlinewidth\": 0, \"ticks\": \"\"}, \"type\": \"choropleth\"}], \"contour\": [{\"colorbar\": {\"outlinewidth\": 0, \"ticks\": \"\"}, \"colorscale\": [[0.0, \"#0d0887\"], [0.1111111111111111, \"#46039f\"], [0.2222222222222222, \"#7201a8\"], [0.3333333333333333, \"#9c179e\"], [0.4444444444444444, \"#bd3786\"], [0.5555555555555556, \"#d8576b\"], [0.6666666666666666, \"#ed7953\"], [0.7777777777777778, \"#fb9f3a\"], [0.8888888888888888, \"#fdca26\"], [1.0, \"#f0f921\"]], \"type\": \"contour\"}], \"contourcarpet\": [{\"colorbar\": {\"outlinewidth\": 0, \"ticks\": \"\"}, \"type\": \"contourcarpet\"}], \"heatmap\": [{\"colorbar\": {\"outlinewidth\": 0, \"ticks\": \"\"}, \"colorscale\": [[0.0, \"#0d0887\"], [0.1111111111111111, \"#46039f\"], [0.2222222222222222, \"#7201a8\"], [0.3333333333333333, \"#9c179e\"], [0.4444444444444444, \"#bd3786\"], [0.5555555555555556, \"#d8576b\"], [0.6666666666666666, \"#ed7953\"], [0.7777777777777778, \"#fb9f3a\"], [0.8888888888888888, \"#fdca26\"], [1.0, \"#f0f921\"]], \"type\": \"heatmap\"}], \"heatmapgl\": [{\"colorbar\": {\"outlinewidth\": 0, \"ticks\": \"\"}, \"colorscale\": [[0.0, \"#0d0887\"], [0.1111111111111111, \"#46039f\"], [0.2222222222222222, \"#7201a8\"], [0.3333333333333333, \"#9c179e\"], [0.4444444444444444, \"#bd3786\"], [0.5555555555555556, \"#d8576b\"], [0.6666666666666666, \"#ed7953\"], [0.7777777777777778, \"#fb9f3a\"], [0.8888888888888888, \"#fdca26\"], [1.0, \"#f0f921\"]], \"type\": \"heatmapgl\"}], \"histogram\": [{\"marker\": {\"colorbar\": {\"outlinewidth\": 0, \"ticks\": \"\"}}, \"type\": \"histogram\"}], \"histogram2d\": [{\"colorbar\": {\"outlinewidth\": 0, \"ticks\": \"\"}, \"colorscale\": [[0.0, \"#0d0887\"], [0.1111111111111111, \"#46039f\"], [0.2222222222222222, \"#7201a8\"], [0.3333333333333333, \"#9c179e\"], [0.4444444444444444, \"#bd3786\"], [0.5555555555555556, \"#d8576b\"], [0.6666666666666666, \"#ed7953\"], [0.7777777777777778, \"#fb9f3a\"], [0.8888888888888888, \"#fdca26\"], [1.0, \"#f0f921\"]], \"type\": \"histogram2d\"}], \"histogram2dcontour\": [{\"colorbar\": {\"outlinewidth\": 0, \"ticks\": \"\"}, \"colorscale\": [[0.0, \"#0d0887\"], [0.1111111111111111, \"#46039f\"], [0.2222222222222222, \"#7201a8\"], [0.3333333333333333, \"#9c179e\"], [0.4444444444444444, \"#bd3786\"], [0.5555555555555556, \"#d8576b\"], [0.6666666666666666, \"#ed7953\"], [0.7777777777777778, \"#fb9f3a\"], [0.8888888888888888, \"#fdca26\"], [1.0, \"#f0f921\"]], \"type\": \"histogram2dcontour\"}], \"mesh3d\": [{\"colorbar\": {\"outlinewidth\": 0, \"ticks\": \"\"}, \"type\": \"mesh3d\"}], \"parcoords\": [{\"line\": {\"colorbar\": {\"outlinewidth\": 0, \"ticks\": \"\"}}, \"type\": \"parcoords\"}], \"pie\": [{\"automargin\": true, \"type\": \"pie\"}], \"scatter\": [{\"marker\": {\"colorbar\": {\"outlinewidth\": 0, \"ticks\": \"\"}}, \"type\": \"scatter\"}], \"scatter3d\": [{\"line\": {\"colorbar\": {\"outlinewidth\": 0, \"ticks\": \"\"}}, \"marker\": {\"colorbar\": {\"outlinewidth\": 0, \"ticks\": \"\"}}, \"type\": \"scatter3d\"}], \"scattercarpet\": [{\"marker\": {\"colorbar\": {\"outlinewidth\": 0, \"ticks\": \"\"}}, \"type\": \"scattercarpet\"}], \"scattergeo\": [{\"marker\": {\"colorbar\": {\"outlinewidth\": 0, \"ticks\": \"\"}}, \"type\": \"scattergeo\"}], \"scattergl\": [{\"marker\": {\"colorbar\": {\"outlinewidth\": 0, \"ticks\": \"\"}}, \"type\": \"scattergl\"}], \"scattermapbox\": [{\"marker\": {\"colorbar\": {\"outlinewidth\": 0, \"ticks\": \"\"}}, \"type\": \"scattermapbox\"}], \"scatterpolar\": [{\"marker\": {\"colorbar\": {\"outlinewidth\": 0, \"ticks\": \"\"}}, \"type\": \"scatterpolar\"}], \"scatterpolargl\": [{\"marker\": {\"colorbar\": {\"outlinewidth\": 0, \"ticks\": \"\"}}, \"type\": \"scatterpolargl\"}], \"scatterternary\": [{\"marker\": {\"colorbar\": {\"outlinewidth\": 0, \"ticks\": \"\"}}, \"type\": \"scatterternary\"}], \"surface\": [{\"colorbar\": {\"outlinewidth\": 0, \"ticks\": \"\"}, \"colorscale\": [[0.0, \"#0d0887\"], [0.1111111111111111, \"#46039f\"], [0.2222222222222222, \"#7201a8\"], [0.3333333333333333, \"#9c179e\"], [0.4444444444444444, \"#bd3786\"], [0.5555555555555556, \"#d8576b\"], [0.6666666666666666, \"#ed7953\"], [0.7777777777777778, \"#fb9f3a\"], [0.8888888888888888, \"#fdca26\"], [1.0, \"#f0f921\"]], \"type\": \"surface\"}], \"table\": [{\"cells\": {\"fill\": {\"color\": \"#EBF0F8\"}, \"line\": {\"color\": \"white\"}}, \"header\": {\"fill\": {\"color\": \"#C8D4E3\"}, \"line\": {\"color\": \"white\"}}, \"type\": \"table\"}]}, \"layout\": {\"annotationdefaults\": {\"arrowcolor\": \"#2a3f5f\", \"arrowhead\": 0, \"arrowwidth\": 1}, \"coloraxis\": {\"colorbar\": {\"outlinewidth\": 0, \"ticks\": \"\"}}, \"colorscale\": {\"diverging\": [[0, \"#8e0152\"], [0.1, \"#c51b7d\"], [0.2, \"#de77ae\"], [0.3, \"#f1b6da\"], [0.4, \"#fde0ef\"], [0.5, \"#f7f7f7\"], [0.6, \"#e6f5d0\"], [0.7, \"#b8e186\"], [0.8, \"#7fbc41\"], [0.9, \"#4d9221\"], [1, \"#276419\"]], \"sequential\": [[0.0, \"#0d0887\"], [0.1111111111111111, \"#46039f\"], [0.2222222222222222, \"#7201a8\"], [0.3333333333333333, \"#9c179e\"], [0.4444444444444444, \"#bd3786\"], [0.5555555555555556, \"#d8576b\"], [0.6666666666666666, \"#ed7953\"], [0.7777777777777778, \"#fb9f3a\"], [0.8888888888888888, \"#fdca26\"], [1.0, \"#f0f921\"]], \"sequentialminus\": [[0.0, \"#0d0887\"], [0.1111111111111111, \"#46039f\"], [0.2222222222222222, \"#7201a8\"], [0.3333333333333333, \"#9c179e\"], [0.4444444444444444, \"#bd3786\"], [0.5555555555555556, \"#d8576b\"], [0.6666666666666666, \"#ed7953\"], [0.7777777777777778, \"#fb9f3a\"], [0.8888888888888888, \"#fdca26\"], [1.0, \"#f0f921\"]]}, \"colorway\": [\"#636efa\", \"#EF553B\", \"#00cc96\", \"#ab63fa\", \"#FFA15A\", \"#19d3f3\", \"#FF6692\", \"#B6E880\", \"#FF97FF\", \"#FECB52\"], \"font\": {\"color\": \"#2a3f5f\"}, \"geo\": {\"bgcolor\": \"white\", \"lakecolor\": \"white\", \"landcolor\": \"#E5ECF6\", \"showlakes\": true, \"showland\": true, \"subunitcolor\": \"white\"}, \"hoverlabel\": {\"align\": \"left\"}, \"hovermode\": \"closest\", \"mapbox\": {\"style\": \"light\"}, \"paper_bgcolor\": \"white\", \"plot_bgcolor\": \"#E5ECF6\", \"polar\": {\"angularaxis\": {\"gridcolor\": \"white\", \"linecolor\": \"white\", \"ticks\": \"\"}, \"bgcolor\": \"#E5ECF6\", \"radialaxis\": {\"gridcolor\": \"white\", \"linecolor\": \"white\", \"ticks\": \"\"}}, \"scene\": {\"xaxis\": {\"backgroundcolor\": \"#E5ECF6\", \"gridcolor\": \"white\", \"gridwidth\": 2, \"linecolor\": \"white\", \"showbackground\": true, \"ticks\": \"\", \"zerolinecolor\": \"white\"}, \"yaxis\": {\"backgroundcolor\": \"#E5ECF6\", \"gridcolor\": \"white\", \"gridwidth\": 2, \"linecolor\": \"white\", \"showbackground\": true, \"ticks\": \"\", \"zerolinecolor\": \"white\"}, \"zaxis\": {\"backgroundcolor\": \"#E5ECF6\", \"gridcolor\": \"white\", \"gridwidth\": 2, \"linecolor\": \"white\", \"showbackground\": true, \"ticks\": \"\", \"zerolinecolor\": \"white\"}}, \"shapedefaults\": {\"line\": {\"color\": \"#2a3f5f\"}}, \"ternary\": {\"aaxis\": {\"gridcolor\": \"white\", \"linecolor\": \"white\", \"ticks\": \"\"}, \"baxis\": {\"gridcolor\": \"white\", \"linecolor\": \"white\", \"ticks\": \"\"}, \"bgcolor\": \"#E5ECF6\", \"caxis\": {\"gridcolor\": \"white\", \"linecolor\": \"white\", \"ticks\": \"\"}}, \"title\": {\"x\": 0.05}, \"xaxis\": {\"automargin\": true, \"gridcolor\": \"white\", \"linecolor\": \"white\", \"ticks\": \"\", \"title\": {\"standoff\": 15}, \"zerolinecolor\": \"white\", \"zerolinewidth\": 2}, \"yaxis\": {\"automargin\": true, \"gridcolor\": \"white\", \"linecolor\": \"white\", \"ticks\": \"\", \"title\": {\"standoff\": 15}, \"zerolinecolor\": \"white\", \"zerolinewidth\": 2}}}, \"width\": 1000},\n",
       "                        {\"showLink\": true, \"linkText\": \"Export to plot.ly\", \"plotlyServerURL\": \"https://plot.ly\", \"responsive\": true}\n",
       "                    ).then(function(){\n",
       "                            \n",
       "var gd = document.getElementById('975c581f-8574-43f0-b12a-960f0f12343a');\n",
       "var x = new MutationObserver(function (mutations, observer) {{\n",
       "        var display = window.getComputedStyle(gd).display;\n",
       "        if (!display || display === 'none') {{\n",
       "            console.log([gd, 'removed!']);\n",
       "            Plotly.purge(gd);\n",
       "            observer.disconnect();\n",
       "        }}\n",
       "}});\n",
       "\n",
       "// Listen for the removal of the full notebook cells\n",
       "var notebookContainer = gd.closest('#notebook-container');\n",
       "if (notebookContainer) {{\n",
       "    x.observe(notebookContainer, {childList: true});\n",
       "}}\n",
       "\n",
       "// Listen for the clearing of the current output cell\n",
       "var outputEl = gd.closest('.output');\n",
       "if (outputEl) {{\n",
       "    x.observe(outputEl, {childList: true});\n",
       "}}\n",
       "\n",
       "                        })\n",
       "                };\n",
       "                });\n",
       "            </script>\n",
       "        </div>"
      ]
     },
     "metadata": {},
     "output_type": "display_data"
    }
   ],
   "source": [
    "for ric in RICs:\n",
    "    res = pd.DataFrame(dfs[ric][ric]) # pick the data frame of the original time series\n",
    "    res['PRED'] = np.dot(dfs[ric][cols], regs[ric])  # creates the \"prediction\" values\n",
    "    layout1 = cf.Layout(height=450,width=1000)# Define a Layout with desired height and width\n",
    "    res.iloc[-50:].iplot(layout=layout1) # plot the graph"
   ]
  },
  {
   "cell_type": "markdown",
   "metadata": {},
   "source": [
    "## 5. Close the session"
   ]
  },
  {
   "cell_type": "code",
   "execution_count": 15,
   "metadata": {},
   "outputs": [],
   "source": [
    "rdp.close_session()"
   ]
  },
  {
   "cell_type": "markdown",
   "metadata": {},
   "source": [
    "# Troubleshooting\n",
    "•\t<u>Invalid username or password</u>\n",
    "```\n",
    "2020-04-15 14:09:36,228 P[21140] [MainThread 21380] [Error 400 - access_denied] Invalid username or password.\n",
    "``` \n",
    "&nbsp;&nbsp;<u>Resolution:</u>  Make sure that RDP username and password are correct.\n",
    "\n",
    "•\t<u>Invalid Application Credential</u>\n",
    "```\n",
    "2020-04-15 14:20:53,166 P[20540] [MainThread 20184] [Error 401 - invalid_client] Invalid Application Credential.\n",
    "```\n",
    "&nbsp;&nbsp;<u>Resolution:</u>  Make sure that an Application Key is correct. You can check it from [App key Generator](https://apps.cp.thomsonreuters.com/apps/AppkeyGenerator)\n",
    "\n",
    "•\t<u>The universe is not found.</u>\n",
    "```\n",
    "{'code': 'TS.Interday.UserRequestError.70005', 'message': 'The universe is not found.'}\n",
    "```\n",
    "&nbsp;&nbsp;<u>Resolution:</u>  The RIC is not available in the system. The name of RIC may be incorrect. \n",
    "You should verify the RIC name or contact the data support team via [Product Support of MyRefinitiv](https://my.refinitiv.com/content/mytr/en/productsupport.html) or use [RIC Search Tool](https://developers.refinitiv.com/elektron/elektron-sdk-cc/dev-tools?type=ric) in order to find the correct RIC. \n",
    "\n",
    "•\t<u>The field is not found.</u>\n",
    "```\n",
    "{'code': 'TS.Interday.UserRequestError.70007', 'message': 'The universe does not support the following fields: [<field>].'}\n",
    "```\n",
    "&nbsp;&nbsp;<u>Resolution:</u>  The field is not provided by the RIC.\n",
    "The user can verify the available fields of the RIC by requesting historical data without *fields* parameter. \n",
    "For example, to find all fields of *.SPX* RIC, run the following source code:\n",
    "```\n",
    "df= rdp.get_historical_price_summaries(\".SPX\")\n",
    "df\n",
    "```\n",
    "&nbsp;&nbsp;The example output:\n",
    "\n",
    "![allFileds](https://raw.githubusercontent.com/Refinitiv-API-Samples/Article.RDPLibraries.Python.FinancialDataScience/master/allFields.png)\n",
    "\n",
    "Then, you will see *.SPX* RIC provides 9 fields as shown above.\n",
    "\n",
    "If you have any questions regarding the library usage, please post them on the [Refinitiv Data Platform Libraries Q&A Forum](https://community.developers.thomsonreuters.com/spaces/321/index.html). The Refinitiv Developer Community will be very pleased to help you."
   ]
  },
  {
   "cell_type": "markdown",
   "metadata": {},
   "source": [
    "# get_historical_price_summaries Function Reference\n",
    "The function provides historical data summaries for a RIC. The below is the declaration function and its parameters:\n",
    "```\n",
    "get_historical_price_summaries(universe, interval=None, start=None, end=None, adjustments=None, sessions=[], count=1, fields=[], closure=None)\n",
    "```\n",
    "<u>Return:</u> Historical pricing pandas data frame.\n",
    "\n",
    "<u>Parameters:</u>\n",
    "\n",
    "| Name        | Type                  |Description                                                     |\n",
    "| :---------- | :---------------------|:---------------------------------------------------------------|\n",
    "| universe    | string                | Single RIC to retrieve historical data for                      |\n",
    "| interval    | refinitiv.dataplatform.Intervals                | Data interval.The supported values are:<br><ul><li>ONE_MINUTE</li><li>FIVE_MINUTES</li><li>TEN_MINUTES</li><li>THIRTY_MINUTES</li><li>SIXTY_MINUTES</li><li>ONE_HOUR</li><li>DAILY</li><li>SEVEN_DAYS</li><li>WEEKLY</li><li>MONTHLY</li><li>QUARTERLY</li><li>TWELVE_MONTHS</li><li>YEARLY</ul></li>Default is DAILY.|\n",
    "| start       | string or<br>datetime.datetime or<br>datetime.timedelta| The start of the query for historical pricing summaries.<br>For interday summaries: String format is in ISO8601 with local date only e.g. '2018-01-02'. If the time is supplied, it will be ignored.<br><br>For intraday summaries: String format is date and timestamp in ISO8601 with UTC only<br>e.g. '2020-04-01T09:15:20Z'. Local time is not support.<br><br>datetime.datetime is the datetime.<br><br>datetime.timedelta is negative number of day relative to datetime.now().<br>Default is the earliest available.<br><br>See more details on [Start / End / Count handling section in Historical Pricing: Time Series Summary (bar), Events (T&S) Tutorial](https://developers.refinitiv.com/refinitiv-data-platform/refinitiv-data-platform-apis/learning?content=46324&type=learning_material_item)| \n",
    "| end         | string or<br>datetime.datetime or<br>datetime.timedelta| The end of the query for historical pricing summaries.<br><br> For interday summaries: String format is in ISO8601 with date only e.g. '2018-12-30'.<br>If the time is supplied, it will be ignored.<br><br>For intraday summaries: String format is date and timestamp in ISO8601 with UTC only e.g. '2020-04-01T09:30:40Z'. Local time is not support.<br><br>datetime.datetime is the datetime.<br><br>datetime.timedelta is negative number of day relative to datetime.now().<br>Default is the latest available.<br><br>See more details on [Start / End / Count  handling section in Historical Pricing: Time Series Summary (bar), Events (T&S) Tutorial](https://developers.refinitiv.com/refinitiv-data-platform/refinitiv-data-platform-apis/learning?content=46324&type=learning_material_item)|\n",
    "| adjustments   | array[refinitiv.dataplatform.Adjustments]          | The list of adjustment types (comma delimiter) that tells the system whether to apply or not apply CORAX (Corporate Actions) events or exchange/manual corrections to historical time series data.<br>The supported values are:<ul><li>UNADJUSTED - Not apply both exchange/manual corrections and CORAX</li><li>EXCHANGE_CORRECTION - Apply exchange correction adjustment to historical pricing</li><li>MANUAL_CORRECTION - Apply manual correction adjustment to historical pricing i.e. annotations made by content analysts</li><li>CCH - Apply Capital Change adjustment to historical Pricing due to Corporate Actions e.g. stock split</li><li>CRE - Apply Currency Redenomination adjustment when there is redenomination of currency</li><li>RPO - Apply Reuters Price Only adjustment to adjust historical price only not volume</li><li>RTS - Apply Reuters TimeSeries adjustment to adjust both historical price and volume</li></ul>|\n",
    "| sessions      | array[refinitiv.dataplatform.<br>MarketSession]| The list of market session classification (comma delimiter) that tells the system to return historical time series data based on the market session definition (market open/market close.<br><ul><li>If unspecified, all data within the query range will be returned without taking market session definition into consideration.</li><li>If specified, only data from specific market session classification within the query range will be returned.</li></ul>The supported values are:<ul><li>PRE - Pre-market session</li><li>NORMAL - Normal market session</li><li>POST - Post-market session</li></ul>|\n",
    "| count         | integer                | It is the maximum number of data returned. If count is smaller than the total amount of data of the time range specified, some data (the oldest) will not be delivered.<br><br>To retrieve all available data within the time range specified, this parameter should not be specified. The returned data could be less than the number requested if there are not enough data within the time range specified.<br><br>If not specified, count will default to 20 unless both the start and end parameters are also specified. The minimum value for this parameter is 1. Negative value is not supported.<br><br>See more details on [Start / End / Count  handling section in Historical Pricing: Time Series Summary (bar), Events (T&S) Tutorial](https://developers.refinitiv.com/refinitiv-data-platform/refinitiv-data-platform-apis/learning?content=46324&type=learning_material_item)| \n",
    "| fields        | array[string]          | The comma separated list of fields that are to be returned in the response. The fields value is case-sensitive, can be specified only with alphanumeric or underscore characters.<br><br>If the parameter is empty or not specified, all available fields are returned.|\n",
    "| closure       | string                | an identifier associated with an open data stream.<br><br>Default: None|"
   ]
  },
  {
   "cell_type": "markdown",
   "metadata": {},
   "source": [
    "# Summary\n",
    "\n",
    "In this article, we have quikly demonstrate how easy it is to retrieve historical data via RDP Libray for Python using get_historical_price_summaries(..) function and calculate Log Returns, Correlation Matrix, and OLS Regression models using Cufflinks which makes financial data visualization convenient. This can be apply to any other models and calculations to serve more accurate or specific use cases."
   ]
  },
  {
   "cell_type": "markdown",
   "metadata": {},
   "source": [
    "# References\n",
    "1. \"Log Return\", in Log return definition and calculation in Excel. Retrieved Apr 23, 2020, from https://factorpad.com/fin/glossary/log-return.html\n",
    "\n",
    "2. \"Correlation and dependence\", in Wikipedia. Retrieved Apr 23, 2020, from https://en.wikipedia.org/wiki/Correlation_and_dependence\n",
    "\n",
    "3. \"Ordinary Least Squares Regression\" in Encyclopedia. Retrieved Apr 23, 2020, from https://www.encyclopedia.com/social-sciences/applied-and-social-sciences-magazines/ordinary-least-squares-regression\n",
    "\n",
    "4. ORDINARY LEAST SQUARES REGRESSION (OLS), xlstat, https://www.xlstat.com/en/solutions/features/ordinary-least-squares-regression-ols\n",
    "\n",
    "5. Refinitiv Data Platform Libraries, Refinitiv Developer Community, https://developers.refinitiv.com/refinitiv-data-platform/refinitiv-data-platform-libraries\n",
    "\n",
    "6. Historical Pricing: Time Series Summary (bar), Events (T&S) Tutorial, Refinitiv Developer Community, https://developers.refinitiv.com/refinitiv-data-platform/refinitiv-data-platform-apis/learning?content=46324&type=learning_material_item\n",
    "\n",
    "7. API Playground, https://apidocs.refinitiv.com/Apps/ApiDocs"
   ]
  },
  {
   "cell_type": "code",
   "execution_count": null,
   "metadata": {},
   "outputs": [],
   "source": []
  }
 ],
 "metadata": {
  "kernelspec": {
   "display_name": "Python 3",
   "language": "python",
   "name": "python3"
  },
  "language_info": {
   "codemirror_mode": {
    "name": "ipython",
    "version": 3
   },
   "file_extension": ".py",
   "mimetype": "text/x-python",
   "name": "python",
   "nbconvert_exporter": "python",
   "pygments_lexer": "ipython3",
   "version": "3.7.4"
  }
 },
 "nbformat": 4,
 "nbformat_minor": 2
}
